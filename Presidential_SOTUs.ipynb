{
  "nbformat": 4,
  "nbformat_minor": 0,
  "metadata": {
    "colab": {
      "name": "Presidential SOTUs 6.12",
      "version": "0.3.2",
      "provenance": [],
      "collapsed_sections": []
    },
    "language_info": {
      "codemirror_mode": {
        "name": "ipython",
        "version": 3
      },
      "file_extension": ".py",
      "mimetype": "text/x-python",
      "name": "python",
      "nbconvert_exporter": "python",
      "pygments_lexer": "ipython3",
      "version": "3.7.1"
    },
    "kernelspec": {
      "display_name": "Python 3",
      "language": "python",
      "name": "python3"
    }
  },
  "cells": [
    {
      "cell_type": "markdown",
      "metadata": {
        "id": "-RE2Jfm-aPox",
        "colab_type": "text"
      },
      "source": [
        "#Presidential State of the Union Addresses\n",
        "This project is an investigation into the State of the Union addresses given by presidents in the year of an impending election wherein they were incumbents. By using supervised and unsupervised techniques, I intend to uncover trends in the word usage in these addresses to see if there are trends among the presidential speeches (unsupervised) and if these can be used to predict the outcome of the election or the percentage of popular vote received by the candidate in the election following the speech (supervised)."
      ]
    },
    {
      "cell_type": "markdown",
      "metadata": {
        "id": "MIw-8hXRbKyN",
        "colab_type": "text"
      },
      "source": [
        "Presidential SOTU addresses taken from Github"
      ]
    },
    {
      "cell_type": "code",
      "metadata": {
        "id": "xsTBX01hmkgy",
        "colab_type": "code",
        "colab": {}
      },
      "source": [
        "%matplotlib inline\n",
        "import numpy as np\n",
        "import pandas as pd\n",
        "import scipy\n",
        "import sklearn\n",
        "import spacy\n",
        "import matplotlib.pyplot as plt\n",
        "import seaborn as sns\n",
        "import re\n",
        "from nltk.corpus import gutenberg, stopwords\n",
        "from collections import Counter\n",
        "import nltk"
      ],
      "execution_count": 0,
      "outputs": []
    },
    {
      "cell_type": "code",
      "metadata": {
        "id": "WoJO2r-UPVnW",
        "colab_type": "code",
        "colab": {}
      },
      "source": [
        "\n",
        "Buren_upload = open ('Buren_1840.txt').read()\n",
        "Cleveland_upload = open ('Cleveland_1888.txt').read()\n",
        "Clinton_upload = open ('Clinton_1996.txt').read()\n",
        "Jackson_upload = open ('Jackson_1832.txt').read()\n",
        "Johnson_upload= open ('Johnson_1964.txt').read()\n",
        "Lincoln_upload = open ('Lincoln_1864.txt').read()\n",
        "Obama_upload = open ('Obama_2012.txt').read()\n",
        "Reagan_upload = open ('Reagan_1984.txt').read()\n",
        "Roose_1_upload = open('Roosevelt_1904.txt').read()\n",
        "Roose_2_upload = open ('Roosevelt_1936.txt').read()\n"
      ],
      "execution_count": 0,
      "outputs": []
    },
    {
      "cell_type": "code",
      "metadata": {
        "id": "7uXoDqB154RN",
        "colab_type": "code",
        "colab": {}
      },
      "source": [
        "#president_SOTU = pd.read_csv(r'https://github.com/harr1582/Presidential-SOTU/blob/master/Buren_1840.txt')"
      ],
      "execution_count": 0,
      "outputs": []
    },
    {
      "cell_type": "markdown",
      "metadata": {
        "id": "lNc2rD0lmkhF",
        "colab_type": "text"
      },
      "source": [
        "## Cleaning\n"
      ]
    },
    {
      "cell_type": "markdown",
      "metadata": {
        "id": "YAV-YEJ1Zo0l",
        "colab_type": "text"
      },
      "source": [
        "Cleaning for this set is fairly simple. There are just some new lines to remove and conversion to all lower case will make sure the models are not case sensitive."
      ]
    },
    {
      "cell_type": "code",
      "metadata": {
        "id": "lVZ3bx59ntwD",
        "colab_type": "code",
        "colab": {}
      },
      "source": [
        "#Takes apart the dictionary into just values and returns to variable assigned\n",
        "Buren_upload = Buren_upload.lower()\n",
        "Cleveland_upload = Cleveland_upload.lower()\n",
        "Clinton_upload = Clinton_upload.lower()\n",
        "Jackson_upload = Jackson_upload.lower()\n",
        "Johnson_upload = Johnson_upload.lower()\n",
        "Lincoln_upload = Lincoln_upload.lower()\n",
        "Obama_upload = Obama_upload.lower()\n",
        "Reagan_upload = Reagan_upload.lower()\n",
        "Roose_1_upload = Roose_1_upload.lower()\n",
        "Roose_2_upload = Roose_2_upload.lower()\n"
      ],
      "execution_count": 0,
      "outputs": []
    },
    {
      "cell_type": "code",
      "metadata": {
        "id": "bFeD-JIfa1Ps",
        "colab_type": "code",
        "colab": {}
      },
      "source": [
        "\n",
        "#Getting rid of newlines and first random letter/space\n",
        "\n",
        "roose_str = re.sub(r'\\n', ' ', Roose_1_upload)\n",
        "clint_str = re.sub(r'\\n', ' ', Clinton_upload)\n",
        "clev_loss_str =  re.sub(r'\\n', ' ', Cleveland_upload)\n",
        "bur_str = re.sub(r'\\n', ' ', Buren_upload)\n",
        "fdr_str =  re.sub(r'\\n', ' ', Roose_2_upload)\n",
        "linc_str =  re.sub(r'\\n', ' ', Lincoln_upload)\n",
        "obam_str =  re.sub(r'\\n', ' ', Obama_upload)\n",
        "jack_str =  re.sub(r'\\n', ' ', Jackson_upload)\n",
        "john_str =  re.sub(r'\\n', ' ', Johnson_upload)\n",
        "reag_str =  re.sub(r'\\n', ' ', Reagan_upload)\n",
        "\n",
        "roosevelt = roose_str\n",
        "clinton = clint_str\n",
        "cleveland =  clev_loss_str\n",
        "buren = bur_str\n",
        "fd_roose =  fdr_str\n",
        "lincoln = linc_str\n",
        "obama =  obam_str\n",
        "jackson = jack_str\n",
        "johnson =  john_str\n",
        "reagan =  reag_str"
      ],
      "execution_count": 0,
      "outputs": []
    },
    {
      "cell_type": "markdown",
      "metadata": {
        "id": "fKPN0_VkZ9fD",
        "colab_type": "text"
      },
      "source": [
        "Quick trial to make sure it looks good:"
      ]
    },
    {
      "cell_type": "code",
      "metadata": {
        "id": "uGxvule1G410",
        "colab_type": "code",
        "outputId": "0181f891-01fb-4904-b441-f4c361736612",
        "colab": {
          "base_uri": "https://localhost:8080/",
          "height": 53
        }
      },
      "source": [
        "reag_str"
      ],
      "execution_count": 85,
      "outputs": [
        {
          "output_type": "execute_result",
          "data": {
            "text/plain": [
              "'mr. speaker, mr. president, distinguished members of the congress, honored guests, and fellow citizens:  once again, in keeping with time-honored tradition, i have come to report to you on the state of the union, and i\\'m pleased to report that america is much improved, and there\\'s good reason to believe that improvement will continue through the days to come.  you and i have had some honest and open differences in the year past. but they didn\\'t keep us from joining hands in bipartisan cooperation to stop a long decline that had drained this nation\\'s spirit and eroded its health. there is renewed energy and optimism throughout the land. america is back, standing tall, looking to the eighties with courage, confidence, and hope.  the problems we\\'re overcoming are not the heritage of one person, party, or even one generation. it\\'s just the tendency of government to grow, for practices and programs to become the nearest thing to eternal life we\\'ll ever see on this earth. and there\\'s always that well-intentioned chorus of voices saying, \"with a little more power and a little more money, we could do so much for the people.\" for a time we forgot the american dream isn\\'t one of making government bigger; it\\'s keeping faith with the mighty spirit of free people under god.  as we came to the decade of the eighties, we faced the worst crisis in our postwar history. in the seventies were years of rising problems and falling confidence. there was a feeling government had grown beyond the consent of the governed. families felt helpless in the face of mounting inflation and the indignity of taxes that reduced reward for hard work, thrift, and risktaking. all this was overlaid by an evergrowing web of rules and regulations.  on the international scene, we had an uncomfortable feeling that we\\'d lost the respect of friend and foe. some questioned whether we had the will to defend peace and freedom. but america is too great for small dreams. there was a hunger in the land for a spiritual revival; if you will, a crusade for renewal. the american people said: let us look to the future with confidence, both at home and abroad. let us give freedom a chance.  americans were ready to make a new beginning, and together we have done it. we\\'re confronting our problems one by one. hope is alive tonight for millions of young families and senior citizens set free from unfair tax increases and crushing inflation. inflation has been beaten down from 12.4 to 3.2 percent, and that\\'s a great victory for all the people. the prime rate has been cut almost in half, and we must work together to bring it down even more.  together, we passed the first across-the-board tax reduction for everyone since the kennedy tax cuts. next year, tax rates will be indexed so inflation can\\'t push people into higher brackets when they get cost-of-living pay raises. government must never again use inflation to profit at the people\\'s expense.  today a working family earning $25,000 has $1,100 more in purchasing power than if tax and inflation rates were still at the 1980 levels. real after-tax income increased 5 percent last year. and economic deregulation of key industries like transportation has offered more chances--or choices, i should say, to consumers and new changes--or chances for entrepreneurs and protecting safety. tonight, we can report and be proud of one of the best recoveries in decades. send away the handwringers and the doubting thomases. hope is reborn for couples dreaming of owning homes and for risktakers with vision to create tomorrow\\'s opportunities.  the spirit of enterprise is sparked by the sunrise industries of high-tech and by small business people with big ideas--people like barbara proctor, who rose from a ghetto to build a multimillion-dollar advertising agency in chicago; carlos perez, a cuban refugee, who turned $27 and a dream into a successful importing business in coral gables, florida.  people like these are heroes for the eighties. they helped 4 million americans find jobs in 1983. more people are drawing paychecks tonight than ever before. and congress helps--or progress helps everyone--well, congress does too----everyone. in 1983 women filled 73 percent of all the new jobs in managerial, professional, and technical fields.  but we know that many of our fellow countrymen are still out of work, wondering what will come of their hopes and dreams. can we love america and not reach out to tell them: you are not forgotten; we will not rest until each of you can reach as high as your god-given talents will take you.  the heart of america is strong; it\\'s good and true. the cynics were wrong; america never was a sick society. we\\'re seeing rededication to bedrock values of faith, family, work, neighborhood, peace, and freedom--values that help bring us together as one people, from the youngest child to the most senior citizen.  the congress deserves america\\'s thanks for helping us restore pride and credibility to our military. and i hope that you\\'re as proud as i am of the young men and women in uniform who have volunteered to man the ramparts in defense of freedom and whose dedication, valor, and skill increases so much our chance of living in a world at peace.  people everywhere hunger for peace and a better life. the tide of the future is a freedom tide, and our struggle for democracy cannot and will not be denied. this nation champions peace that enshrines liberty, democratic rights, and dignity for every individual. america\\'s new strength, confidence, and purpose are carrying hope and opportunity far from our shores. a world economic recovery is underway. it began here.  we\\'ve journeyed far, but we have much farther to go. franklin roosevelt told us 50 years ago this month: \"civilization can not go back; civilization must not stand still. we have undertaken new methods. it is our task to perfect, to improve, to alter when necessary, but in all cases to go forward.\"  it\\'s time to move forward again, time for america to take freedom\\'s next step. let us unite tonight behind four great goals to keep america free, secure, and at peace in the eighties together.  we can ensure steady economic growth. we can develop america\\'s next frontier. we can strengthen our traditional values. and we can build a meaningful peace to protect our loved ones and this shining star of faith that has guided millions from tyranny to the safe harbor of freedom, progress, and hope.  doing these things will open wider the gates of opportunity, provide greater security for all, with no barriers of bigotry or discrimination.  the key to a dynamic decade is vigorous economic growth, our first great goal. we might well begin with common sense in federal budgeting: government spending no more than government takes in.  we must bring federal deficits down. but how we do that makes all the difference.  we can begin by limiting the size and scope of government. under the leadership of vice president bush, we have reduced the growth of federal regulations by more than 25 percent and cut well over 300 million hours of government-required paperwork each year. this will save the public more than $150 billion over the next 10 years.  the grace commission has given us some 2,500 recommendations for reducing wasteful spending, and they\\'re being examined throughout the administration. federal spending growth has been cut from 17.4 percent in 1980 to less than half of that today, and we have already achieved over $300 billion in budget savings for the period of 1982 to \\'86. but that\\'s only a little more than half of what we sought. government is still spending too large a percentage of the total economy.  now, some insist that any further budget savings must be obtained by reducing the portion spent on defense. this ignores the fact that national defense is solely the responsibility of the federal government; indeed, it is its prime responsibility. and yet defense spending is less than a third of the total budget. during the years of president kennedy and of the years before that, defense was almost half the total budget. and then came several years in which our military capability was allowed to deteriorate to a very dangerous degree. we are just now restoring, through the essential modernization of our conventional and strategic forces, our capability to meet our present and future security needs. we dare not shirk our responsibility to keep america free, secure, and at peace.  the last decade saw domestic spending surge literally out of control. but the basis for such spending had been laid in previous years. a pattern of overspending has been in place for half a century. as the national debt grew, we were told not to worry, that we owed it to ourselves.  now we know that deficits are a cause for worry. but there\\'s a difference of opinion as to whether taxes should be increased, spending cut, or some of both. fear is expressed that government borrowing to fund the deficit could inhibit the economic recovery by taking capital needed for business and industrial expansion. well, i think that debate is missing an important point. whether government borrows or increases taxes, it will be taking the same amount of money from the private sector, and, either way, that\\'s too much. simple fairness dictates that government must not raise taxes on families struggling to pay their bills. the root of the problem is that government\\'s share is more than we can afford if we\\'re to have a sound economy.  we must bring down the deficits to ensure continued economic growth. in the budget that i will submit on february 1st, i will recommend measures that will reduce the deficit over the next 5 years. many of these will be unfinished business from last year\\'s budget.  some could be enacted quickly if we could join in a serious effort to address this problem. i spoke today with speaker of the house o\\'neill, senate majority leader baker, senate minority leader byrd, and house minority leader michel. i asked them if they would designate congressional representatives to meet with representatives of the administration to try to reach prompt agreement on a bipartisan deficit reduction plan. i know it would take a long, hard struggle to agree on a full-scale plan. so, what i have proposed is that we first see if we can agree on a down payment.  now, i believe there is basis for such an agreement, one that could reduce the deficits by about a hundred billion dollars over the next 3 years. we could focus on some of the less contentious spending cuts that are still pending before the congress. these could be combined with measures to close certain tax loopholes, measures that the treasury department has previously said to be worthy of support. in addition, we could examine the possibility of achieving further outlay savings based on the work of the grace commission.  if the congressional leadership is willing, my representatives will be prepared to meet with theirs at the earliest possible time. i would hope the leadership might agree on an expedited timetable in which to develop and enact that down payment.  but a down payment alone is not enough to break us out of the deficit problem. it could help us start on the right path. yet, we must do more. so, i propose that we begin exploring how together we can make structural reforms to curb the built-in growth of spending.  i also propose improvements in the budgeting process. some 43 of our 50 states grant their governors the right to veto individual items in appropriation bills without having to veto the entire bill. california is one of those 43 states. as governor, i found this line-item veto was a powerful tool against wasteful or extravagant spending. it works in 43 states. let\\'s put it to work in washington for all the people.  it would be most effective if done by constitutional amendment. the majority of americans approve of such an amendment, just as they and i approve of an amendment mandating a balanced federal budget. many states also have this protection in their constitutions.  to talk of meeting the present situation by increasing taxes is a band-aid solution which does nothing to cure an illness that\\'s been coming on for half a century--to say nothing of the fact that it poses a real threat to economic recovery. let\\'s remember that a substantial amount of income tax is presently owed and not paid by people in the underground economy. it would be immoral to make those who are paying taxes pay more to compensate for those who aren\\'t paying their share.  there\\'s a better way. let us go forward with an historic reform for fairness, simplicity, and incentives for growth. i am asking secretary don regan for a plan for action to simplify the entire tax code, so all taxpayers, big and small, are treated more fairly. and i believe such a plan could result in that underground economy being brought into the sunlight of honest tax compliance. and it could make the tax base broader, so personal tax rates could come down, not go up. i\\'ve asked that specific recommendations, consistent with those objectives, be presented to me by december 1984.  our second great goal is to build on america\\'s pioneer spirit--i said something funny? i said america\\'s next frontier--and that\\'s to develop that frontier. a sparkling economy spurs initiatives, sunrise industries, and makes older ones more competitive.  nowhere is this more important than our next frontier: space. nowhere do we so effectively demonstrate our technological leadership and ability to make life better on earth. the space age is barely a quarter of a century old. but already we\\'ve pushed civilization forward with our advances in science and technology. opportunities and jobs will multiply as we cross new thresholds of knowledge and reach deeper into the unknown.  our progress in space--taking giant steps for all mankind--is a tribute to american teamwork and excellence. our finest minds in government, industry, and academia have all pulled together. and we can be proud to say: we are first; we are the best; and we are so because we\\'re free.  america has always been greatest when we dared to be great. we can reach for greatness again. we can follow our dreams to distant stars, living and working in space for peaceful, economic, and scientific gain. tonight, i am directing nasa to develop a permanently manned space station and to do it within a decade.  a space station will permit quantum leaps in our research in science, communications, in metals, and in lifesaving medicines which could be manufactured only in space. we want our friends to help us meet these challenges and share in their benefits. nasa will invite other countries to participate so we can strengthen peace, build prosperity, and expand freedom for all who share our goals.  just as the oceans opened up a new world for clipper ships and yankee traders, space holds enormous potential for commerce today. the market for space transportation could surpass our capacity to develop it. companies interested in putting payloads into space must have ready access to private sector launch services. the department of transportation will help an expendable launch services industry to get off the ground. we\\'ll soon implement a number of executive initiatives, develop proposals to ease regulatory constraints, and, with nasa\\'s help, promote private sector investment in space.  and as we develop the frontier of space, let us remember our responsibility to preserve our older resources here on earth. preservation of our environment is not a liberal or conservative challenge, it\\'s common sense.  though this is a time of budget constraints, i have requested for epa one of the largest percentage budget increases of any agency. we will begin the long, necessary effort to clean up a productive recreational area and a special national resource--the chesapeake bay.  to reduce the threat posed by abandoned hazardous waste dumps, epa will spend $410 million. and i will request a supplemental increase of 50 million. and because the superfund law expires in 1985, i\\'ve asked bill ruckelshaus to develop a proposal for its extension so there\\'ll be additional time to complete this important task.  on the question of acid rain, which concerns people in many areas of the united states and canada, i\\'m proposing a research program that doubles our current funding. and we\\'ll take additional action to restore our lakes and develop new technology to reduce pollution that causes acid rain.  we have greatly improved the conditions of our natural resources. we\\'ll ask the congress for $157 million beginning in 1985 to acquire new park and conservation lands. the department of the interior will encourage careful, selective exploration and production on our vital resources in an exclusive economic zone within the 200-mile limit off our coasts--but with strict adherence to environmental laws and with fuller state and public participation.  but our most precious resources, our greatest hope for the future, are the minds and hearts of our people, especially our children. we can help them build tomorrow by strengthening our community of shared values. this must be our third great goal. for us, faith, work, family, neighborhood, freedom, and peace are not just words; they\\'re expressions of what america means, definitions of what makes us a good and loving people.  families stand at the center of our society. and every family has a personal stake in promoting excellence in education. excellence does not begin in washington. a 600-percent increase in federal spending on education between 1960 and 1980 was accompanied by a steady decline in scholastic aptitude test scores. excellence must begin in our homes and neighborhood schools, where it\\'s the responsibility of every parent and teacher and the right of every child.  our children come first, and that\\'s why i established a bipartisan national commission on excellence in education, to help us chart a commonsense course for better education. and already, communities are implementing the commission\\'s recommendations. schools are reporting progress in math and reading skills. but we must do more to restore discipline to schools; and we must encourage the teaching of new basics, reward teachers of merit, enforce tougher standards, and put our parents back in charge.  i will continue to press for tuition tax credits to expand opportunities for families and to soften the double payment for those paying public school taxes and private school tuition. our proposal would target assistance to low- and middle-income families. just as more incentives are needed within our schools, greater competition is needed among our schools. without standards and competition, there can be no champions, no records broken, no excellence in education or any other walk of life.  and while i\\'m on this subject, each day your members observe a 200-year-old tradition meant to signify america is one nation under god. i must ask: if you can begin your day with a member of the clergy standing right here leading you in prayer, then why can\\'t freedom to acknowledge god be enjoyed again by children in every schoolroom across this land?  america was founded by people who believed that god was their rock of safety. he is ours. i recognize we must be cautious in claiming that god is on our side, but i think it\\'s all right to keep asking if we\\'re on his side.  during our first 3 years, we have joined bipartisan efforts to restore protection of the law to unborn children. now, i know this issue is very controversial. but unless and until it can be proven that an unborn child is not a living human being, can we justify assuming without proof that it isn\\'t? no one has yet offered such proof; indeed, all the evidence is to the contrary. we should rise above bitterness and reproach, and if americans could come together in a spirit of understanding and helping, then we could find positive solutions to the tragedy of abortion.  economic recovery, better education, rededication to values, all show the spirit of renewal gaining the upper hand. and all will improve family life in the eighties. but families need more. they need assurance that they and their loved ones can walk the streets of america without being afraid. parents need to know their children will not be victims of child pornography and abduction. this year we will intensify our drive against these and other horrible crimes like sexual abuse and family violence.  already our efforts to crack down on career criminals, organized crime, drugpushers, and to enforce tougher sentences and paroles are having effect. in 1982 the crime rate dropped by 4.3 percent, the biggest decline since 1972. protecting victims is just as important as safeguarding the rights of defendants.  opportunities for all americans will increase if we move forward in fair housing and work to ensure women\\'s rights, provide for equitable treatment in pension benefits and individual retirement accounts, facilitate child care, and enforce delinquent parent support payments.  it\\'s not just the home but the workplace and community that sustain our values and shape our future. so, i ask your help in assisting more communities to break the bondage of dependency. help us to free enterprise by permitting debate and voting \"yes\" on our proposal for enterprise zones in america. this has been before you for 2 years. its passage can help high-unemployment areas by creating jobs and restoring neighborhoods.  a society bursting with opportunities, reaching for its future with confidence, sustained by faith, fair play, and a conviction that good and courageous people will flourish when they\\'re free--these are the secrets of a strong and prosperous america at peace with itself and the world.  a lasting and meaningful peace is our fourth great goal. it is our highest aspiration. and our record is clear: americans resort to force only when we must. we have never been aggressors. we have always struggled to defend freedom and democracy.  we have no territorial ambitions. we occupy no countries. we build no walls to lock people in. americans build the future. and our vision of a better life for farmers, merchants, and working people, from the americas to asia, begins with a simple premise: the future is best decided by ballots, not bullets.  governments which rest upon the consent of the governed do not wage war on their neighbors. only when people are given a personal stake in deciding their own destiny, benefiting from their own risks, do they create societies that are prosperous, progressive, and free. tonight, it is democracies that offer hope by feeding the hungry, prolonging life, and eliminating drudgery.  when it comes to keeping america strong, free, and at peace, there should be no republicans or democrats, just patriotic americans. we can decide the tough issues not by who is right, but by what is right.  together, we can continue to advance our agenda for peace. we can establish a more stable basis for peaceful relations with the soviet union; strengthen allied relations across the board; achieve real and equitable reductions in the levels of nuclear arms; reinforce our peacemaking efforts in the middle east, central america, and southern africa; or assist developing countries, particularly our neighbors in the western hemisphere; and assist in the development of democratic institutions throughout the world.  the wisdom of our bipartisan cooperation was seen in the work of the scowcroft commission, which strengthened our ability to deter war and protect peace. in that same spirit, i urge you to move forward with the henry jackson plan to implement the recommendations of the bipartisan commission on central america.  your joint resolution on the multinational peacekeeping force in lebanon is also serving the cause of peace. we are making progress in lebanon. for nearly 10 years, the lebanese have lived from tragedy to tragedy with no hope for their future. now the multinational peacekeeping force and our marines are helping them break their cycle of despair. there is hope for a free, independent, and sovereign lebanon. we must have the courage to give peace a chance. and we must not be driven from our objectives for peace in lebanon by state-sponsored terrorism. we have seen this ugly specter in beirut, kuwait, and rangoon. it demands international attention. i will forward shortly legislative proposals to help combat terrorism. and i will be seeking support from our allies for concerted action.  our nato alliance is strong. 1983 was a banner year for political courage. and we have strengthened our partnerships and our friendships in the far east. we\\'re committed to dialog, deterrence, and promoting prosperity. we\\'ll work with our trading partners for a new round of negotiations in support of freer world trade, greater competition, and more open markets.  a rebirth of bipartisan cooperation, of economic growth, and military deterrence, and a growing spirit of unity among our people at home and our allies abroad underline a fundamental and far-reaching change: the united states is safer, stronger, and more secure in 1984 than before. we can now move with confidence to seize the opportunities for peace, and we will.  tonight, i want to speak to the people of the soviet union, to tell them it\\'s true that our governments have had serious differences, but our sons and daughters have never fought each other in war. and if we americans have our way, they never will.  people of the soviet union, there is only one sane policy, for your country and mine, to preserve our civilization in this modern age: a nuclear war cannot be won and must never be fought. the only value in our two nations possessing nuclear weapons is to make sure they will never be used. but then would it not be better to do away with them entirely?  people of the soviet, president dwight eisenhower, who fought by your side in world war ii, said the essential struggle \"is not merely man against man or nation against nation. it is man against war.\" americans are people of peace. if your government wants peace, there will be peace. we can come together in faith and friendship to build a safer and far better world for our children and our children\\'s children. and the whole world will rejoice. that is my message to you.  some days when life seems hard and we reach out for values to sustain us or a friend to help us, we find a person who reminds us what it means to be americans.  sergeant stephen trujillo, a medic in the 2d ranger battalion, 75th infantry, was in the first helicopter to land at the compound held by cuban forces in grenada. he saw three other helicopters crash. despite the imminent explosion of the burning aircraft, he never hesitated. he ran across 25 yards of open terrain through enemy fire to rescue wounded soldiers. he directed two other medics, administered first aid, and returned again and again to the crash site to carry his wounded friends to safety.  sergeant trujillo, you and your fellow service men and women not only saved innocent lives; you set a nation free. you inspire us as a force for freedom, not for despotism; and, yes, for peace, not conquest. god bless you.  and then there are unsung heroes: single parents, couples, church and civic volunteers. their hearts carry without complaint the pains of family and community problems. they soothe our sorrow, heal our wounds, calm our fears, and share our joy.  a person like father ritter is always there. his covenant house programs in new york and houston provide shelter and help to thousands of frightened and abused children each year. the same is true of dr. charles carson. paralyzed in a plane crash, he still believed nothing is impossible. today in minnesota, he works 80 hours a week without pay, helping pioneer the field of computer-controlled walking. he has given hope to 500,000 paralyzed americans that some day they may walk again.  how can we not believe in the greatness of america? how can we not do what is right and needed to preserve this last best hope of man on earth? after all our struggles to restore america, to revive confidence in our country, hope for our future, after all our hard-won victories earned through the patience and courage of every citizen, we cannot, must not, and will not turn back. we will finish our job. how could we do less? we\\'re americans.  carl sandburg said, \"i see america not in the setting sun of a black night of despair... i see america in the crimson light of a rising sun fresh from the burning, creative hand of god... i see great days ahead for men and women of will and vision.\"  i\\'ve never felt more strongly that america\\'s best days and democracy\\'s best days lie ahead. we\\'re a powerful force for good. with faith and courage, we can perform great deeds and take freedom\\'s next step. and we will. we will carry on the tradition of a good and worthy people who have brought light where there was darkness, warmth where there was cold, medicine where there was disease, food where there was hunger, and peace where there was only bloodshed.  let us be sure that those who come after will say of us in our time, that in our time we did everything that could be done. we finished the race; we kept them free; we kept the faith.  thank you very much. god bless you, and god bless america.  note: the president spoke at 9:02 p.m. in the house chamber of the capitol. he was introduced by thomas p. o\\'neill, jr., speaker of the house of representatives. the address was broadcast live on nationwide radio and television.'"
            ]
          },
          "metadata": {
            "tags": []
          },
          "execution_count": 85
        }
      ]
    },
    {
      "cell_type": "markdown",
      "metadata": {
        "id": "1LOdamhjbfdC",
        "colab_type": "text"
      },
      "source": [
        "Parsing"
      ]
    },
    {
      "cell_type": "code",
      "metadata": {
        "id": "TMFuJscumkhG",
        "colab_type": "code",
        "colab": {}
      },
      "source": [
        "import spacy\n",
        "nlp = spacy.load('en')\n",
        "\n",
        "\n",
        "# All the processing work is done here, so it may take a while.\n",
        "roosevelt = nlp(roosevelt)\n",
        "clinton= nlp(clinton)\n",
        "cleveland = nlp(cleveland)\n",
        "buren = nlp(buren)\n",
        "fd_roose = nlp(fd_roose)\n",
        "lincoln = nlp(lincoln)\n",
        "obama = nlp(obama)\n",
        "jackson = nlp(jackson)\n",
        "johnson = nlp(johnson)\n",
        "reagan = nlp(reagan)"
      ],
      "execution_count": 0,
      "outputs": []
    },
    {
      "cell_type": "markdown",
      "metadata": {
        "id": "0erFEFB-yAt_",
        "colab_type": "text"
      },
      "source": [
        "## Exploration\n"
      ]
    },
    {
      "cell_type": "markdown",
      "metadata": {
        "id": "S0XuxjZLaJoj",
        "colab_type": "text"
      },
      "source": [
        "Exploration to see that the parsing worked. Objects are tokens. Need to get rid of words like 'to' and 'the'"
      ]
    },
    {
      "cell_type": "code",
      "metadata": {
        "id": "W0sJnwyKmkhL",
        "colab_type": "code",
        "outputId": "25df8134-dc86-44d4-929f-65a633124510",
        "colab": {
          "base_uri": "https://localhost:8080/",
          "height": 83
        }
      },
      "source": [
        "\n",
        "print(\"The roose object is a {} object.\".format(type(roosevelt)))\n",
        "print(\"It is {} tokens long\".format(len(roosevelt)))\n",
        "print(\"The first three tokens are '{}'\".format(roosevelt[:3]))\n",
        "print(\"The type of each token is {}\".format(type(roosevelt[0])))"
      ],
      "execution_count": 87,
      "outputs": [
        {
          "output_type": "stream",
          "text": [
            "The roose object is a <class 'spacy.tokens.doc.Doc'> object.\n",
            "It is 19244 tokens long\n",
            "The first three tokens are 'to the senate'\n",
            "The type of each token is <class 'spacy.tokens.token.Token'>\n"
          ],
          "name": "stdout"
        }
      ]
    },
    {
      "cell_type": "markdown",
      "metadata": {
        "id": "a3ef3ynZaeQ5",
        "colab_type": "text"
      },
      "source": [
        "Delving into how many of each word is in the address. Obviously the most common words are articles and conjunctions."
      ]
    },
    {
      "cell_type": "code",
      "metadata": {
        "id": "RNQaIjM6mkhR",
        "colab_type": "code",
        "outputId": "bab456a6-2e07-40f3-f8e5-d3196ae2c1b9",
        "colab": {
          "base_uri": "https://localhost:8080/",
          "height": 33
        }
      },
      "source": [
        "#Find the most common words\n",
        "\n",
        "from collections import Counter\n",
        "\n",
        "# Utility function to calculate how frequently words appear in the text.\n",
        "def word_frequencies(text, include_stop=True):\n",
        "    \n",
        "    # Build a list of words.\n",
        "    # Strip out punctuation and, optionally, stop words.\n",
        "    words = []\n",
        "    for token in text:\n",
        "      if token.text == 'The':\n",
        "        print(token)\n",
        "        print(token.is_stop)\n",
        "        return Counter(words)\n",
        "      if not token.is_punct and (not token.is_stop or include_stop):\n",
        "        words.append(token.text)\n",
        "            \n",
        "            \n",
        "    # Build and return a Counter object containing word counts.\n",
        "    return Counter(words)\n",
        "    \n",
        "# The most frequent words:\n",
        "roose_freq = word_frequencies(roosevelt).most_common(10)\n",
        "\n",
        "print(roose_freq)\n"
      ],
      "execution_count": 88,
      "outputs": [
        {
          "output_type": "stream",
          "text": [
            "[('the', 1430), ('of', 916), ('and', 620), ('to', 575), ('in', 505), ('be', 254), ('a', 247), ('is', 245), ('that', 186), ('for', 176)]\n"
          ],
          "name": "stdout"
        }
      ]
    },
    {
      "cell_type": "code",
      "metadata": {
        "id": "J0gQ3-T9V9Lr",
        "colab_type": "code",
        "outputId": "3a4b3b2d-f09e-4bcd-b62d-613bc2a0b95b",
        "colab": {
          "base_uri": "https://localhost:8080/",
          "height": 33
        }
      },
      "source": [
        "spacy.__version__"
      ],
      "execution_count": 89,
      "outputs": [
        {
          "output_type": "execute_result",
          "data": {
            "text/plain": [
              "'2.1.4'"
            ]
          },
          "metadata": {
            "tags": []
          },
          "execution_count": 89
        }
      ]
    },
    {
      "cell_type": "code",
      "metadata": {
        "id": "TWQEyJ-AWE2Z",
        "colab_type": "code",
        "colab": {}
      },
      "source": [
        "#!pip install spacy -U"
      ],
      "execution_count": 0,
      "outputs": []
    },
    {
      "cell_type": "markdown",
      "metadata": {
        "id": "mOZYHYb9fNBN",
        "colab_type": "text"
      },
      "source": [
        "Code still including stop words (?) based on caps. Including spaces as well"
      ]
    },
    {
      "cell_type": "code",
      "metadata": {
        "id": "Gkgahn7ge4r0",
        "colab_type": "code",
        "outputId": "3be2b72f-ac6a-4651-d1db-c852df6af09b",
        "colab": {
          "base_uri": "https://localhost:8080/",
          "height": 33
        }
      },
      "source": [
        "# Use our optional keyword argument to remove stop words.\n",
        "roose_freq = word_frequencies(roosevelt, include_stop=False).most_common(10)\n",
        "\n",
        "print('Roose:', roose_freq)\n"
      ],
      "execution_count": 91,
      "outputs": [
        {
          "output_type": "stream",
          "text": [
            "Roose: [(' ', 118), ('government', 58), ('work', 50), ('states', 47), ('great', 45), ('good', 39), ('people', 38), ('law', 38), ('congress', 38), ('nation', 36)]\n"
          ],
          "name": "stdout"
        }
      ]
    },
    {
      "cell_type": "code",
      "metadata": {
        "id": "JC9og66ggaaW",
        "colab_type": "code",
        "outputId": "0ddf30db-df76-4c46-e2a1-c146f782ddcc",
        "colab": {
          "base_uri": "https://localhost:8080/",
          "height": 33
        }
      },
      "source": [
        "# Utility function to calculate how frequently lemas appear in the text.\n",
        "def lemma_frequencies(text, include_stop=True):\n",
        "    \n",
        "    # Build a list of lemas.\n",
        "    # Strip out punctuation and, optionally, stop words.\n",
        "    lemmas = []\n",
        "    for token in text:\n",
        "        if not token.is_punct and (not token.is_stop or include_stop):\n",
        "            lemmas.append(token.lemma_)\n",
        "            \n",
        "    # Build and return a Counter object containing word counts.\n",
        "    return Counter(lemmas)\n",
        "\n",
        "# Instantiate our list of most common lemmas.\n",
        "roose_lemma_freq = lemma_frequencies(roosevelt, include_stop=False).most_common(10)\n",
        "\n",
        "print('Roose Lemmas:', roose_lemma_freq)\n"
      ],
      "execution_count": 92,
      "outputs": [
        {
          "output_type": "stream",
          "text": [
            "Roose Lemmas: [(' ', 118), ('state', 68), ('man', 65), ('government', 63), ('law', 61), ('great', 54), ('work', 54), ('nation', 49), ('good', 42), ('people', 40)]\n"
          ],
          "name": "stdout"
        }
      ]
    },
    {
      "cell_type": "code",
      "metadata": {
        "id": "XkIXyrMWg7aa",
        "colab_type": "code",
        "outputId": "118470ea-a7ae-4ac3-9ddc-324b31157b69",
        "colab": {
          "base_uri": "https://localhost:8080/",
          "height": 737
        }
      },
      "source": [
        "# Initial exploration of sentences.\n",
        "sentences = list(roosevelt.sents)\n",
        "print(\"Roosevelt's State of the Union Address has {} sentences.\".format(len(sentences)))\n",
        "\n",
        "example_sentence = sentences[2]\n",
        "print(\"Here is an example: \\n{}\\n\".format(example_sentence))\n",
        "print('\\nParts of speech:')\n",
        "for token in example_sentence[:9]:\n",
        "    print(token.orth_, token.pos_)\n",
        "    print('\\nDependencies:')\n",
        "for token in example_sentence[:9]:\n",
        "    print(token.orth_, token.dep_, token.head.orth_)"
      ],
      "execution_count": 93,
      "outputs": [
        {
          "output_type": "stream",
          "text": [
            "Roosevelt's State of the Union Address has 530 sentences.\n",
            "Here is an example: \n",
            "the people have emphatically expressed their approval of the principles underlying these policies, and their desire that these principles be kept substantially unchanged, although of course applied in a progressive spirit to meet changing conditions.  \n",
            "\n",
            "\n",
            "Parts of speech:\n",
            "the DET\n",
            "\n",
            "Dependencies:\n",
            "people NOUN\n",
            "\n",
            "Dependencies:\n",
            "have VERB\n",
            "\n",
            "Dependencies:\n",
            "emphatically ADV\n",
            "\n",
            "Dependencies:\n",
            "expressed VERB\n",
            "\n",
            "Dependencies:\n",
            "their DET\n",
            "\n",
            "Dependencies:\n",
            "approval NOUN\n",
            "\n",
            "Dependencies:\n",
            "of ADP\n",
            "\n",
            "Dependencies:\n",
            "the DET\n",
            "\n",
            "Dependencies:\n",
            "the det people\n",
            "people nsubj expressed\n",
            "have aux expressed\n",
            "emphatically advmod expressed\n",
            "expressed ROOT expressed\n",
            "their poss approval\n",
            "approval dobj expressed\n",
            "of prep approval\n",
            "the det principles\n"
          ],
          "name": "stdout"
        }
      ]
    },
    {
      "cell_type": "code",
      "metadata": {
        "id": "usKtynxWhfE-",
        "colab_type": "code",
        "outputId": "8ed32f8a-171a-4fe1-e273-ac1d8cb32fb0",
        "colab": {
          "base_uri": "https://localhost:8080/",
          "height": 183
        }
      },
      "source": [
        "# Extract the first ten entities.\n",
        "entities = list(roosevelt.ents)[0:10]\n",
        "for entity in entities:\n",
        "    print(entity.label_, ' '.join(t.orth_ for t in entity))"
      ],
      "execution_count": 94,
      "outputs": [
        {
          "output_type": "stream",
          "text": [
            "ORDINAL second\n",
            "DATE the last half century\n",
            "CARDINAL one\n",
            "CARDINAL fifty - seventh\n",
            "ORDINAL second\n",
            "NORP american\n",
            "TIME the hours\n",
            "DATE 1901\n",
            "DATE monthly\n",
            "DATE march 2 , 1903\n"
          ],
          "name": "stdout"
        }
      ]
    },
    {
      "cell_type": "code",
      "metadata": {
        "id": "YlH3Q2X_hn7j",
        "colab_type": "code",
        "outputId": "cc1af8a4-d81d-4b9e-e9ac-a39f703d9d70",
        "colab": {
          "base_uri": "https://localhost:8080/",
          "height": 33
        }
      },
      "source": [
        "people = [entity.text for entity in list(roosevelt.ents) if entity.label_ == \"PERSON\"]\n",
        "print(set(people))"
      ],
      "execution_count": 95,
      "outputs": [
        {
          "output_type": "stream",
          "text": [
            "set()\n"
          ],
          "name": "stdout"
        }
      ]
    },
    {
      "cell_type": "code",
      "metadata": {
        "id": "L14AiuDjhI15",
        "colab_type": "code",
        "outputId": "e4538915-c14e-4fb5-8781-be8da3050b67",
        "colab": {
          "base_uri": "https://localhost:8080/",
          "height": 33
        }
      },
      "source": [
        "# Look at some metrics around this sentence.\n",
        "example_words = [token for token in example_sentence if not token.is_punct]\n",
        "unique_words = set([token.text for token in example_words])\n",
        "\n",
        "print((\"There are {} words in this sentence, and {} of them are\"\n",
        "       \" unique.\").format(len(example_words), len(unique_words)))"
      ],
      "execution_count": 96,
      "outputs": [
        {
          "output_type": "stream",
          "text": [
            "There are 36 words in this sentence, and 31 of them are unique.\n"
          ],
          "name": "stdout"
        }
      ]
    },
    {
      "cell_type": "markdown",
      "metadata": {
        "id": "jyyVm7FagY13",
        "colab_type": "text"
      },
      "source": [
        ""
      ]
    },
    {
      "cell_type": "markdown",
      "metadata": {
        "id": "kna7OdUhh2Ok",
        "colab_type": "text"
      },
      "source": [
        "##Getting ready to model"
      ]
    },
    {
      "cell_type": "markdown",
      "metadata": {
        "id": "M6RBOlNba022",
        "colab_type": "text"
      },
      "source": [
        "Here I have taken the popular vote of the subsequent election, the year the address was given and the outcome of the election (0 = loss, 1= win) and addad it to the list of sentences for each address. I then turn this into a dataframe to better work with it."
      ]
    },
    {
      "cell_type": "code",
      "metadata": {
        "id": "uW85YFaCjrvD",
        "colab_type": "code",
        "outputId": "e94aea15-3835-4985-9ef6-88582bfaef5c",
        "colab": {
          "base_uri": "https://localhost:8080/",
          "height": 197
        }
      },
      "source": [
        "roose_sents = [[sent, \"T_Roosevelt\", 56.4, 1904, 1] for sent in roosevelt.sents]\n",
        "clint_sents = [[sent, \"Clinton\", 49.2, 1996, 1] for sent in clinton.sents]\n",
        "clev_sents = [[sent, \"Cleveland\", 48.6, 1888, 0] for sent in cleveland.sents]\n",
        "buren_sents = [[sent, \"Buren\", 46.8, 1840, 0] for sent in buren.sents]\n",
        "fd_roose_sents = [[sent, \"F_Roosevelt\", 60.2, 1936, 1] for sent in fd_roose.sents]\n",
        "linc_sents = [[sent, \"Lincoln\", 55.0, 1864, 1] for sent in lincoln.sents]\n",
        "obama_sents =[[sent, \"Obama\", 50.9, 2012, 1] for sent in obama.sents]\n",
        "jackson_sents = [[sent, \"Jackson\", 54.2, 1832, 1] for sent in jackson.sents]\n",
        "johnson_sents = [[sent, \"Johnson\", 61.1, 1964, 1] for sent in johnson.sents]\n",
        "reagan_sents = [[sent, \"Reagan\", 58.8, 1984, 1] for sent in reagan.sents]\n",
        "\n",
        "\n",
        "sentences = pd.DataFrame(roose_sents + clint_sents + clev_sents + buren_sents + fd_roose_sents + linc_sents + obama_sents + jackson_sents + johnson_sents + reagan_sents)\n",
        "sentences.head()"
      ],
      "execution_count": 97,
      "outputs": [
        {
          "output_type": "execute_result",
          "data": {
            "text/html": [
              "<div>\n",
              "<style scoped>\n",
              "    .dataframe tbody tr th:only-of-type {\n",
              "        vertical-align: middle;\n",
              "    }\n",
              "\n",
              "    .dataframe tbody tr th {\n",
              "        vertical-align: top;\n",
              "    }\n",
              "\n",
              "    .dataframe thead th {\n",
              "        text-align: right;\n",
              "    }\n",
              "</style>\n",
              "<table border=\"1\" class=\"dataframe\">\n",
              "  <thead>\n",
              "    <tr style=\"text-align: right;\">\n",
              "      <th></th>\n",
              "      <th>0</th>\n",
              "      <th>1</th>\n",
              "      <th>2</th>\n",
              "      <th>3</th>\n",
              "      <th>4</th>\n",
              "    </tr>\n",
              "  </thead>\n",
              "  <tbody>\n",
              "    <tr>\n",
              "      <th>0</th>\n",
              "      <td>(to, the, senate, and, house, of, representati...</td>\n",
              "      <td>T_Roosevelt</td>\n",
              "      <td>56.4</td>\n",
              "      <td>1904</td>\n",
              "      <td>1</td>\n",
              "    </tr>\n",
              "    <tr>\n",
              "      <th>1</th>\n",
              "      <td>(such, prosperity, is, of, course, primarily, ...</td>\n",
              "      <td>T_Roosevelt</td>\n",
              "      <td>56.4</td>\n",
              "      <td>1904</td>\n",
              "      <td>1</td>\n",
              "    </tr>\n",
              "    <tr>\n",
              "      <th>2</th>\n",
              "      <td>(the, people, have, emphatically, expressed, t...</td>\n",
              "      <td>T_Roosevelt</td>\n",
              "      <td>56.4</td>\n",
              "      <td>1904</td>\n",
              "      <td>1</td>\n",
              "    </tr>\n",
              "    <tr>\n",
              "      <th>3</th>\n",
              "      <td>(the, enlargement, of, scope, of, the, functio...</td>\n",
              "      <td>T_Roosevelt</td>\n",
              "      <td>56.4</td>\n",
              "      <td>1904</td>\n",
              "      <td>1</td>\n",
              "    </tr>\n",
              "    <tr>\n",
              "      <th>4</th>\n",
              "      <td>(battle, ships, and, forts, ,, public, buildin...</td>\n",
              "      <td>T_Roosevelt</td>\n",
              "      <td>56.4</td>\n",
              "      <td>1904</td>\n",
              "      <td>1</td>\n",
              "    </tr>\n",
              "  </tbody>\n",
              "</table>\n",
              "</div>"
            ],
            "text/plain": [
              "                                                   0            1  ...     3  4\n",
              "0  (to, the, senate, and, house, of, representati...  T_Roosevelt  ...  1904  1\n",
              "1  (such, prosperity, is, of, course, primarily, ...  T_Roosevelt  ...  1904  1\n",
              "2  (the, people, have, emphatically, expressed, t...  T_Roosevelt  ...  1904  1\n",
              "3  (the, enlargement, of, scope, of, the, functio...  T_Roosevelt  ...  1904  1\n",
              "4  (battle, ships, and, forts, ,, public, buildin...  T_Roosevelt  ...  1904  1\n",
              "\n",
              "[5 rows x 5 columns]"
            ]
          },
          "metadata": {
            "tags": []
          },
          "execution_count": 97
        }
      ]
    },
    {
      "cell_type": "code",
      "metadata": {
        "id": "9JLaTL80dk3d",
        "colab_type": "code",
        "colab": {}
      },
      "source": [
        "sentences['text_sentence']= sentences[0]\n",
        "sentences['president']= sentences[1]\n",
        "sentences['popular_vote']=sentences[2]\n",
        "sentences['year']=sentences[3]\n",
        "sentences['outcome']=sentences[4]"
      ],
      "execution_count": 0,
      "outputs": []
    },
    {
      "cell_type": "markdown",
      "metadata": {
        "id": "BzeDHDo1bSYn",
        "colab_type": "text"
      },
      "source": [
        "Setting up functions to process the sentences and give most common words that will be helpful for the models to determine clusters based on"
      ]
    },
    {
      "cell_type": "code",
      "metadata": {
        "id": "tqgqFuBUTcqE",
        "colab_type": "code",
        "colab": {}
      },
      "source": [
        "def bag_of_words(text):\n",
        "    \n",
        "    # Filter out punctuation and stop words.\n",
        "    allwords = [token.lemma_\n",
        "                for token in text\n",
        "                if not token.is_punct\n",
        "                and not token.is_stop]\n",
        "    \n",
        "    # Return the most common words.\n",
        "    return [item[0] for item in Counter(allwords).most_common(2000)]"
      ],
      "execution_count": 0,
      "outputs": []
    },
    {
      "cell_type": "code",
      "metadata": {
        "id": "AisRCcQvkQmA",
        "colab_type": "code",
        "colab": {}
      },
      "source": [
        " \n",
        "# Creates a data frame with features for each word in our common word set.\n",
        "# Each value is the count of the times the word appears in each sentence.\n",
        "def bow_features(sentences, common_words):\n",
        "    \n",
        "    # Scaffold the data frame and initialize counts to zero.\n",
        "    df = pd.DataFrame(columns=common_words)\n",
        "    df['text_sentence'] = sentences[0]\n",
        "    df['president'] = sentences[1]\n",
        "    df['popular_vote'] = sentences[2]\n",
        "    df['year']= sentences[3]\n",
        "    df['outcome'] = sentences[4]\n",
        "    df.loc[:, common_words] = 0\n",
        "    \n",
        "    # Process each row, counting the occurrence of words in each sentence.\n",
        "    for i, sentence in enumerate(df['text_sentence']):\n",
        "        \n",
        "        # Convert the sentence to lemmas, then filter out punctuation,\n",
        "        # stop words, and uncommon words.\n",
        "        words = [token.lemma_\n",
        "                 for token in sentence\n",
        "                 if (\n",
        "                     not token.is_punct\n",
        "                     and not token.is_stop\n",
        "                     and token.lemma_ in common_words\n",
        "                 )]\n",
        "        \n",
        "        # Populate the row with word counts.\n",
        "        for word in words:\n",
        "            df.loc[i, word] += 1\n",
        "        \n",
        "        # This counter is just to make sure the kernel didn't hang.\n",
        "        if i % 50 == 0:\n",
        "            print(\"Processing row {}\".format(i))\n",
        "            \n",
        "    return df\n",
        "\n",
        "# Set up the bags.\n",
        "roose_words = bag_of_words(roosevelt)\n",
        "clint_words = bag_of_words(clinton)\n",
        "clev_words = bag_of_words(cleveland)\n",
        "bur_words = bag_of_words(buren)\n",
        "fd_roose_words = bag_of_words(fd_roose)\n",
        "linc_words = bag_of_words(lincoln)\n",
        "obam_words = bag_of_words(obama)\n",
        "jackson_words = bag_of_words(jackson)\n",
        "john_words = bag_of_words(johnson)\n",
        "reagan_words = bag_of_words(reagan)\n",
        "\n",
        "\n",
        "# Combine bags to create a set of unique words.\n",
        "common_words = set(roose_words + clint_words + clev_words + bur_words + fd_roose_words + linc_words + obam_words + jackson_words + john_words + reagan_words)"
      ],
      "execution_count": 0,
      "outputs": []
    },
    {
      "cell_type": "code",
      "metadata": {
        "id": "eIu-5YddJ8Ku",
        "colab_type": "code",
        "outputId": "91f5d0a9-2639-410f-d737-8dfcd97c577f",
        "colab": {
          "base_uri": "https://localhost:8080/",
          "height": 1397
        }
      },
      "source": [
        "word_counts = bow_features(sentences, common_words)\n",
        "word_counts.head()"
      ],
      "execution_count": 112,
      "outputs": [
        {
          "output_type": "stream",
          "text": [
            "Processing row 0\n",
            "Processing row 50\n",
            "Processing row 100\n",
            "Processing row 150\n",
            "Processing row 200\n",
            "Processing row 250\n",
            "Processing row 300\n",
            "Processing row 350\n",
            "Processing row 400\n",
            "Processing row 450\n",
            "Processing row 500\n",
            "Processing row 550\n",
            "Processing row 600\n",
            "Processing row 650\n",
            "Processing row 700\n",
            "Processing row 750\n",
            "Processing row 800\n",
            "Processing row 850\n",
            "Processing row 900\n",
            "Processing row 950\n",
            "Processing row 1000\n",
            "Processing row 1050\n",
            "Processing row 1100\n",
            "Processing row 1150\n",
            "Processing row 1200\n",
            "Processing row 1250\n",
            "Processing row 1300\n",
            "Processing row 1350\n",
            "Processing row 1400\n",
            "Processing row 1450\n",
            "Processing row 1500\n",
            "Processing row 1550\n",
            "Processing row 1600\n",
            "Processing row 1650\n",
            "Processing row 1700\n",
            "Processing row 1750\n",
            "Processing row 1800\n",
            "Processing row 1850\n",
            "Processing row 1900\n",
            "Processing row 1950\n",
            "Processing row 2000\n",
            "Processing row 2050\n",
            "Processing row 2100\n",
            "Processing row 2150\n",
            "Processing row 2200\n",
            "Processing row 2250\n",
            "Processing row 2300\n",
            "Processing row 2350\n",
            "Processing row 2400\n",
            "Processing row 2450\n",
            "Processing row 2500\n",
            "Processing row 2550\n",
            "Processing row 2600\n",
            "Processing row 2650\n",
            "Processing row 2700\n",
            "Processing row 2750\n"
          ],
          "name": "stdout"
        },
        {
          "output_type": "execute_result",
          "data": {
            "text/html": [
              "<div>\n",
              "<style scoped>\n",
              "    .dataframe tbody tr th:only-of-type {\n",
              "        vertical-align: middle;\n",
              "    }\n",
              "\n",
              "    .dataframe tbody tr th {\n",
              "        vertical-align: top;\n",
              "    }\n",
              "\n",
              "    .dataframe thead th {\n",
              "        text-align: right;\n",
              "    }\n",
              "</style>\n",
              "<table border=\"1\" class=\"dataframe\">\n",
              "  <thead>\n",
              "    <tr style=\"text-align: right;\">\n",
              "      <th></th>\n",
              "      <th>ill</th>\n",
              "      <th>option</th>\n",
              "      <th>legislator</th>\n",
              "      <th>borrowing</th>\n",
              "      <th>abide</th>\n",
              "      <th>apprehension</th>\n",
              "      <th>being</th>\n",
              "      <th>confusing</th>\n",
              "      <th>utilize</th>\n",
              "      <th>willing</th>\n",
              "      <th>generation</th>\n",
              "      <th>underprivileged</th>\n",
              "      <th>vicious</th>\n",
              "      <th>consistent</th>\n",
              "      <th>decisive</th>\n",
              "      <th>investigator</th>\n",
              "      <th>successfully</th>\n",
              "      <th>abstract</th>\n",
              "      <th>total</th>\n",
              "      <th>sexual</th>\n",
              "      <th>disloyal</th>\n",
              "      <th>fatal</th>\n",
              "      <th>reciprocity</th>\n",
              "      <th>hayti</th>\n",
              "      <th>payday</th>\n",
              "      <th>badly</th>\n",
              "      <th>revolution</th>\n",
              "      <th>o'neill</th>\n",
              "      <th>decline</th>\n",
              "      <th>lawless</th>\n",
              "      <th>result</th>\n",
              "      <th>102,316,152.99</th>\n",
              "      <th>bank</th>\n",
              "      <th>avoid</th>\n",
              "      <th>contribution</th>\n",
              "      <th>arbitration</th>\n",
              "      <th>function</th>\n",
              "      <th>wealth</th>\n",
              "      <th>noble</th>\n",
              "      <th>engagement</th>\n",
              "      <th>...</th>\n",
              "      <th>98,400</th>\n",
              "      <th>obsolete</th>\n",
              "      <th>accessible</th>\n",
              "      <th>painful</th>\n",
              "      <th>convention</th>\n",
              "      <th>observation</th>\n",
              "      <th>impend</th>\n",
              "      <th>medium</th>\n",
              "      <th>antagonism</th>\n",
              "      <th>absence</th>\n",
              "      <th>surviving</th>\n",
              "      <th>approximation</th>\n",
              "      <th>root</th>\n",
              "      <th>test</th>\n",
              "      <th>preserve</th>\n",
              "      <th>desirability</th>\n",
              "      <th>generally</th>\n",
              "      <th>haytian</th>\n",
              "      <th>loose</th>\n",
              "      <th>lebanon</th>\n",
              "      <th>alike</th>\n",
              "      <th>presidency</th>\n",
              "      <th>missile</th>\n",
              "      <th>ayre</th>\n",
              "      <th>residential</th>\n",
              "      <th>suffice</th>\n",
              "      <th>renew</th>\n",
              "      <th>terceira</th>\n",
              "      <th>curse</th>\n",
              "      <th>22,767</th>\n",
              "      <th>petty</th>\n",
              "      <th>grenada</th>\n",
              "      <th>lobbyist</th>\n",
              "      <th>mingle</th>\n",
              "      <th>writing</th>\n",
              "      <th>montana</th>\n",
              "      <th>tribute</th>\n",
              "      <th>barry</th>\n",
              "      <th>text_sentence</th>\n",
              "      <th>popular_vote</th>\n",
              "    </tr>\n",
              "  </thead>\n",
              "  <tbody>\n",
              "    <tr>\n",
              "      <th>0</th>\n",
              "      <td>0</td>\n",
              "      <td>0</td>\n",
              "      <td>0</td>\n",
              "      <td>0</td>\n",
              "      <td>0</td>\n",
              "      <td>0</td>\n",
              "      <td>0</td>\n",
              "      <td>0</td>\n",
              "      <td>0</td>\n",
              "      <td>0</td>\n",
              "      <td>0</td>\n",
              "      <td>0</td>\n",
              "      <td>0</td>\n",
              "      <td>0</td>\n",
              "      <td>0</td>\n",
              "      <td>0</td>\n",
              "      <td>0</td>\n",
              "      <td>0</td>\n",
              "      <td>0</td>\n",
              "      <td>0</td>\n",
              "      <td>0</td>\n",
              "      <td>0</td>\n",
              "      <td>0</td>\n",
              "      <td>0</td>\n",
              "      <td>0</td>\n",
              "      <td>0</td>\n",
              "      <td>0</td>\n",
              "      <td>0</td>\n",
              "      <td>0</td>\n",
              "      <td>0</td>\n",
              "      <td>0</td>\n",
              "      <td>0</td>\n",
              "      <td>0</td>\n",
              "      <td>0</td>\n",
              "      <td>0</td>\n",
              "      <td>0</td>\n",
              "      <td>0</td>\n",
              "      <td>0</td>\n",
              "      <td>0</td>\n",
              "      <td>0</td>\n",
              "      <td>...</td>\n",
              "      <td>0</td>\n",
              "      <td>0</td>\n",
              "      <td>0</td>\n",
              "      <td>0</td>\n",
              "      <td>0</td>\n",
              "      <td>0</td>\n",
              "      <td>0</td>\n",
              "      <td>0</td>\n",
              "      <td>0</td>\n",
              "      <td>0</td>\n",
              "      <td>0</td>\n",
              "      <td>0</td>\n",
              "      <td>0</td>\n",
              "      <td>0</td>\n",
              "      <td>0</td>\n",
              "      <td>0</td>\n",
              "      <td>0</td>\n",
              "      <td>0</td>\n",
              "      <td>0</td>\n",
              "      <td>0</td>\n",
              "      <td>0</td>\n",
              "      <td>0</td>\n",
              "      <td>0</td>\n",
              "      <td>0</td>\n",
              "      <td>0</td>\n",
              "      <td>0</td>\n",
              "      <td>0</td>\n",
              "      <td>0</td>\n",
              "      <td>0</td>\n",
              "      <td>0</td>\n",
              "      <td>0</td>\n",
              "      <td>0</td>\n",
              "      <td>0</td>\n",
              "      <td>0</td>\n",
              "      <td>0</td>\n",
              "      <td>0</td>\n",
              "      <td>0</td>\n",
              "      <td>0</td>\n",
              "      <td>(to, the, senate, and, house, of, representati...</td>\n",
              "      <td>56.4</td>\n",
              "    </tr>\n",
              "    <tr>\n",
              "      <th>1</th>\n",
              "      <td>0</td>\n",
              "      <td>0</td>\n",
              "      <td>0</td>\n",
              "      <td>0</td>\n",
              "      <td>0</td>\n",
              "      <td>0</td>\n",
              "      <td>0</td>\n",
              "      <td>0</td>\n",
              "      <td>0</td>\n",
              "      <td>0</td>\n",
              "      <td>0</td>\n",
              "      <td>0</td>\n",
              "      <td>0</td>\n",
              "      <td>0</td>\n",
              "      <td>0</td>\n",
              "      <td>0</td>\n",
              "      <td>0</td>\n",
              "      <td>0</td>\n",
              "      <td>0</td>\n",
              "      <td>0</td>\n",
              "      <td>0</td>\n",
              "      <td>0</td>\n",
              "      <td>0</td>\n",
              "      <td>0</td>\n",
              "      <td>0</td>\n",
              "      <td>0</td>\n",
              "      <td>0</td>\n",
              "      <td>0</td>\n",
              "      <td>0</td>\n",
              "      <td>0</td>\n",
              "      <td>0</td>\n",
              "      <td>0</td>\n",
              "      <td>0</td>\n",
              "      <td>0</td>\n",
              "      <td>0</td>\n",
              "      <td>0</td>\n",
              "      <td>0</td>\n",
              "      <td>0</td>\n",
              "      <td>0</td>\n",
              "      <td>0</td>\n",
              "      <td>...</td>\n",
              "      <td>0</td>\n",
              "      <td>0</td>\n",
              "      <td>0</td>\n",
              "      <td>0</td>\n",
              "      <td>0</td>\n",
              "      <td>0</td>\n",
              "      <td>0</td>\n",
              "      <td>0</td>\n",
              "      <td>0</td>\n",
              "      <td>0</td>\n",
              "      <td>0</td>\n",
              "      <td>0</td>\n",
              "      <td>0</td>\n",
              "      <td>0</td>\n",
              "      <td>0</td>\n",
              "      <td>0</td>\n",
              "      <td>0</td>\n",
              "      <td>0</td>\n",
              "      <td>0</td>\n",
              "      <td>0</td>\n",
              "      <td>0</td>\n",
              "      <td>0</td>\n",
              "      <td>0</td>\n",
              "      <td>0</td>\n",
              "      <td>0</td>\n",
              "      <td>0</td>\n",
              "      <td>0</td>\n",
              "      <td>0</td>\n",
              "      <td>0</td>\n",
              "      <td>0</td>\n",
              "      <td>0</td>\n",
              "      <td>0</td>\n",
              "      <td>0</td>\n",
              "      <td>0</td>\n",
              "      <td>0</td>\n",
              "      <td>0</td>\n",
              "      <td>0</td>\n",
              "      <td>0</td>\n",
              "      <td>(such, prosperity, is, of, course, primarily, ...</td>\n",
              "      <td>56.4</td>\n",
              "    </tr>\n",
              "    <tr>\n",
              "      <th>2</th>\n",
              "      <td>0</td>\n",
              "      <td>0</td>\n",
              "      <td>0</td>\n",
              "      <td>0</td>\n",
              "      <td>0</td>\n",
              "      <td>0</td>\n",
              "      <td>0</td>\n",
              "      <td>0</td>\n",
              "      <td>0</td>\n",
              "      <td>0</td>\n",
              "      <td>0</td>\n",
              "      <td>0</td>\n",
              "      <td>0</td>\n",
              "      <td>0</td>\n",
              "      <td>0</td>\n",
              "      <td>0</td>\n",
              "      <td>0</td>\n",
              "      <td>0</td>\n",
              "      <td>0</td>\n",
              "      <td>0</td>\n",
              "      <td>0</td>\n",
              "      <td>0</td>\n",
              "      <td>0</td>\n",
              "      <td>0</td>\n",
              "      <td>0</td>\n",
              "      <td>0</td>\n",
              "      <td>0</td>\n",
              "      <td>0</td>\n",
              "      <td>0</td>\n",
              "      <td>0</td>\n",
              "      <td>0</td>\n",
              "      <td>0</td>\n",
              "      <td>0</td>\n",
              "      <td>0</td>\n",
              "      <td>0</td>\n",
              "      <td>0</td>\n",
              "      <td>0</td>\n",
              "      <td>0</td>\n",
              "      <td>0</td>\n",
              "      <td>0</td>\n",
              "      <td>...</td>\n",
              "      <td>0</td>\n",
              "      <td>0</td>\n",
              "      <td>0</td>\n",
              "      <td>0</td>\n",
              "      <td>0</td>\n",
              "      <td>0</td>\n",
              "      <td>0</td>\n",
              "      <td>0</td>\n",
              "      <td>0</td>\n",
              "      <td>0</td>\n",
              "      <td>0</td>\n",
              "      <td>0</td>\n",
              "      <td>0</td>\n",
              "      <td>0</td>\n",
              "      <td>0</td>\n",
              "      <td>0</td>\n",
              "      <td>0</td>\n",
              "      <td>0</td>\n",
              "      <td>0</td>\n",
              "      <td>0</td>\n",
              "      <td>0</td>\n",
              "      <td>0</td>\n",
              "      <td>0</td>\n",
              "      <td>0</td>\n",
              "      <td>0</td>\n",
              "      <td>0</td>\n",
              "      <td>0</td>\n",
              "      <td>0</td>\n",
              "      <td>0</td>\n",
              "      <td>0</td>\n",
              "      <td>0</td>\n",
              "      <td>0</td>\n",
              "      <td>0</td>\n",
              "      <td>0</td>\n",
              "      <td>0</td>\n",
              "      <td>0</td>\n",
              "      <td>0</td>\n",
              "      <td>0</td>\n",
              "      <td>(the, people, have, emphatically, expressed, t...</td>\n",
              "      <td>56.4</td>\n",
              "    </tr>\n",
              "    <tr>\n",
              "      <th>3</th>\n",
              "      <td>0</td>\n",
              "      <td>0</td>\n",
              "      <td>0</td>\n",
              "      <td>0</td>\n",
              "      <td>0</td>\n",
              "      <td>0</td>\n",
              "      <td>0</td>\n",
              "      <td>0</td>\n",
              "      <td>0</td>\n",
              "      <td>0</td>\n",
              "      <td>0</td>\n",
              "      <td>0</td>\n",
              "      <td>0</td>\n",
              "      <td>0</td>\n",
              "      <td>0</td>\n",
              "      <td>0</td>\n",
              "      <td>0</td>\n",
              "      <td>0</td>\n",
              "      <td>0</td>\n",
              "      <td>0</td>\n",
              "      <td>0</td>\n",
              "      <td>0</td>\n",
              "      <td>0</td>\n",
              "      <td>0</td>\n",
              "      <td>0</td>\n",
              "      <td>0</td>\n",
              "      <td>0</td>\n",
              "      <td>0</td>\n",
              "      <td>0</td>\n",
              "      <td>0</td>\n",
              "      <td>0</td>\n",
              "      <td>0</td>\n",
              "      <td>0</td>\n",
              "      <td>0</td>\n",
              "      <td>0</td>\n",
              "      <td>0</td>\n",
              "      <td>1</td>\n",
              "      <td>0</td>\n",
              "      <td>0</td>\n",
              "      <td>0</td>\n",
              "      <td>...</td>\n",
              "      <td>0</td>\n",
              "      <td>0</td>\n",
              "      <td>0</td>\n",
              "      <td>0</td>\n",
              "      <td>0</td>\n",
              "      <td>0</td>\n",
              "      <td>0</td>\n",
              "      <td>0</td>\n",
              "      <td>0</td>\n",
              "      <td>0</td>\n",
              "      <td>0</td>\n",
              "      <td>0</td>\n",
              "      <td>0</td>\n",
              "      <td>0</td>\n",
              "      <td>0</td>\n",
              "      <td>0</td>\n",
              "      <td>0</td>\n",
              "      <td>0</td>\n",
              "      <td>0</td>\n",
              "      <td>0</td>\n",
              "      <td>0</td>\n",
              "      <td>0</td>\n",
              "      <td>0</td>\n",
              "      <td>0</td>\n",
              "      <td>0</td>\n",
              "      <td>0</td>\n",
              "      <td>0</td>\n",
              "      <td>0</td>\n",
              "      <td>0</td>\n",
              "      <td>0</td>\n",
              "      <td>0</td>\n",
              "      <td>0</td>\n",
              "      <td>0</td>\n",
              "      <td>0</td>\n",
              "      <td>0</td>\n",
              "      <td>0</td>\n",
              "      <td>0</td>\n",
              "      <td>0</td>\n",
              "      <td>(the, enlargement, of, scope, of, the, functio...</td>\n",
              "      <td>56.4</td>\n",
              "    </tr>\n",
              "    <tr>\n",
              "      <th>4</th>\n",
              "      <td>0</td>\n",
              "      <td>0</td>\n",
              "      <td>0</td>\n",
              "      <td>0</td>\n",
              "      <td>0</td>\n",
              "      <td>0</td>\n",
              "      <td>0</td>\n",
              "      <td>0</td>\n",
              "      <td>0</td>\n",
              "      <td>0</td>\n",
              "      <td>0</td>\n",
              "      <td>0</td>\n",
              "      <td>0</td>\n",
              "      <td>0</td>\n",
              "      <td>0</td>\n",
              "      <td>0</td>\n",
              "      <td>0</td>\n",
              "      <td>0</td>\n",
              "      <td>0</td>\n",
              "      <td>0</td>\n",
              "      <td>0</td>\n",
              "      <td>0</td>\n",
              "      <td>0</td>\n",
              "      <td>0</td>\n",
              "      <td>0</td>\n",
              "      <td>0</td>\n",
              "      <td>0</td>\n",
              "      <td>0</td>\n",
              "      <td>0</td>\n",
              "      <td>0</td>\n",
              "      <td>0</td>\n",
              "      <td>0</td>\n",
              "      <td>0</td>\n",
              "      <td>0</td>\n",
              "      <td>0</td>\n",
              "      <td>0</td>\n",
              "      <td>0</td>\n",
              "      <td>0</td>\n",
              "      <td>0</td>\n",
              "      <td>0</td>\n",
              "      <td>...</td>\n",
              "      <td>0</td>\n",
              "      <td>0</td>\n",
              "      <td>0</td>\n",
              "      <td>0</td>\n",
              "      <td>0</td>\n",
              "      <td>0</td>\n",
              "      <td>0</td>\n",
              "      <td>0</td>\n",
              "      <td>0</td>\n",
              "      <td>0</td>\n",
              "      <td>0</td>\n",
              "      <td>0</td>\n",
              "      <td>0</td>\n",
              "      <td>0</td>\n",
              "      <td>0</td>\n",
              "      <td>0</td>\n",
              "      <td>0</td>\n",
              "      <td>0</td>\n",
              "      <td>0</td>\n",
              "      <td>0</td>\n",
              "      <td>0</td>\n",
              "      <td>0</td>\n",
              "      <td>0</td>\n",
              "      <td>0</td>\n",
              "      <td>0</td>\n",
              "      <td>0</td>\n",
              "      <td>0</td>\n",
              "      <td>0</td>\n",
              "      <td>0</td>\n",
              "      <td>0</td>\n",
              "      <td>0</td>\n",
              "      <td>0</td>\n",
              "      <td>0</td>\n",
              "      <td>0</td>\n",
              "      <td>0</td>\n",
              "      <td>0</td>\n",
              "      <td>0</td>\n",
              "      <td>0</td>\n",
              "      <td>(battle, ships, and, forts, ,, public, buildin...</td>\n",
              "      <td>56.4</td>\n",
              "    </tr>\n",
              "  </tbody>\n",
              "</table>\n",
              "<p>5 rows × 5482 columns</p>\n",
              "</div>"
            ],
            "text/plain": [
              "   ill  option  ...                                      text_sentence  popular_vote\n",
              "0    0       0  ...  (to, the, senate, and, house, of, representati...          56.4\n",
              "1    0       0  ...  (such, prosperity, is, of, course, primarily, ...          56.4\n",
              "2    0       0  ...  (the, people, have, emphatically, expressed, t...          56.4\n",
              "3    0       0  ...  (the, enlargement, of, scope, of, the, functio...          56.4\n",
              "4    0       0  ...  (battle, ships, and, forts, ,, public, buildin...          56.4\n",
              "\n",
              "[5 rows x 5482 columns]"
            ]
          },
          "metadata": {
            "tags": []
          },
          "execution_count": 112
        }
      ]
    },
    {
      "cell_type": "markdown",
      "metadata": {
        "id": "kFvQWHbquMxH",
        "colab_type": "text"
      },
      "source": [
        "## Setting up target and data\n",
        "\n",
        "Let's see if the models can predict which year the addresses were delivered. This should have the same outcome as if it was predicting which author gave the speech, or what percent of the popular vote they got based on the speech since that data is exclusive to each address."
      ]
    },
    {
      "cell_type": "code",
      "metadata": {
        "id": "_ULWsT5cwFK3",
        "colab_type": "code",
        "colab": {}
      },
      "source": [
        "target = word_counts['year']\n",
        "data = np.array(word_counts.drop(['text_sentence','president', 'year', 'popular_vote', 'outcome'], 1))\n",
        "#data = np.array(word_counts.drop(['text_sentence','president'], 1))"
      ],
      "execution_count": 0,
      "outputs": []
    },
    {
      "cell_type": "markdown",
      "metadata": {
        "id": "0866a3FJg4nB",
        "colab_type": "text"
      },
      "source": [
        "#Kmeans\n",
        "Divide into training and test sets and normalize X."
      ]
    },
    {
      "cell_type": "code",
      "metadata": {
        "id": "X_EyoB9PuTI8",
        "colab_type": "code",
        "colab": {}
      },
      "source": [
        "from sklearn.cluster import KMeans\n",
        "from sklearn.preprocessing import normalize\n",
        "from sklearn.decomposition import PCA\n",
        "from sklearn.cluster import MiniBatchKMeans\n",
        "from sklearn.model_selection import train_test_split\n",
        "\n",
        "X_train, X_test, y_train, y_test = train_test_split(data, target, test_size = .25, random_state = 42 )\n",
        "\n",
        "X_norm = normalize(X_train)\n",
        "\n",
        "# Reduce it to two components.\n",
        "#X_pca = PCA(2).fit_transform(X_norm)\n",
        "\n",
        "# Calculate predicted values.\n",
        "y_pred = KMeans(n_clusters=10, random_state=42).fit_predict(X_norm)\n",
        "\n",
        "# Plot the solution.\n",
        "# plt.scatter(X_pca[:, 0], X_pca[:, 1], c=y_pred)\n",
        "# plt.show()\n",
        "\n",
        "# Check the solution against the data.\n",
        "# print('Comparing k-means clusters against the data:')\n",
        "# print(pd.crosstab(y_pred, y_train))\n",
        "len(X_train)\n",
        "len(X_norm)"
      ],
      "execution_count": 0,
      "outputs": []
    },
    {
      "cell_type": "code",
      "metadata": {
        "id": "mB74tWtcLGR7",
        "colab_type": "code",
        "colab": {}
      },
      "source": [
        "print (len(X_train))\n",
        "print (len(X_norm))"
      ],
      "execution_count": 0,
      "outputs": []
    },
    {
      "cell_type": "markdown",
      "metadata": {
        "id": "-jUqYgs_SSPt",
        "colab_type": "text"
      },
      "source": [
        "#Random Forest for feature selection\n",
        "\n",
        "Using this model to see which words are most important in determining the year that the address was given."
      ]
    },
    {
      "cell_type": "code",
      "metadata": {
        "id": "APwgbtBj12H_",
        "colab_type": "code",
        "colab": {}
      },
      "source": [
        "\n",
        "from sklearn import ensemble\n",
        "RandForest= ensemble.RandomForestRegressor()\n",
        "\n",
        "RandForest.fit(data, target)\n",
        "\n",
        "RandForest.feature_importances_\n",
        "RandForest_ft_series = pd.Series(data=RandForest.feature_importances_)\n",
        "###################################\n",
        "sorted_series = RandForest_ft_series.sort_values(ascending = False)\n",
        "sorted_series\n"
      ],
      "execution_count": 0,
      "outputs": []
    },
    {
      "cell_type": "markdown",
      "metadata": {
        "id": "CE96dcE5U7Nu",
        "colab_type": "text"
      },
      "source": [
        "##Sort series based on random forest ranking \n",
        "\n",
        "I arbitrarily picked .00001 as a cut off point for which data was most important and then, found the index of that threshold and selt that up as the stopping point for the dataframe"
      ]
    },
    {
      "cell_type": "code",
      "metadata": {
        "id": "OzkZ9ty2Pn67",
        "colab_type": "code",
        "colab": {}
      },
      "source": [
        "df_combined = pd.concat([sorted_series, word_counts], axis=1)\n",
        "df_combined = df_combined.dropna()\n",
        "df_combined = df_combined.sort_values([0], ascending = False)\n",
        "\n",
        "\n",
        "# df_combined.columns = ['values', 'words', 'president', 'pop_vote', 'year', 'outcome']\n",
        "# df_combined = df_combined.sort_values('values', ascending = False)\n",
        "# df_combined = df_combined.dropna()\n",
        "df_combined"
      ],
      "execution_count": 0,
      "outputs": []
    },
    {
      "cell_type": "code",
      "metadata": {
        "id": "Jaf1nkVBY5xN",
        "colab_type": "code",
        "colab": {}
      },
      "source": [
        "#Find where the feature significance is less than or equal to .0001 in a sorted list\n",
        "\n",
        "print (next(x[0] for x in enumerate(df_combined[0]) if x[1] <= .00001))\n",
        "\n",
        "\n",
        "\n",
        "ft_sel_df = df_combined.iloc[:1061, :]\n",
        "\n",
        "ft_sel_df\n",
        "#ft_sel_df['popular_vote']"
      ],
      "execution_count": 0,
      "outputs": []
    },
    {
      "cell_type": "markdown",
      "metadata": {
        "id": "yuSHbF1biWYb",
        "colab_type": "text"
      },
      "source": [
        "#Evaluating how many clusters are needed."
      ]
    },
    {
      "cell_type": "code",
      "metadata": {
        "id": "k83cV7FjRTkd",
        "colab_type": "code",
        "colab": {}
      },
      "source": [
        "target = ft_sel_df['popular_vote']\n",
        "\n",
        "data =  np.array(ft_sel_df.drop(['text_sentence', 'popular_vote'], 1))\n",
        "\n",
        "data\n",
        "\n",
        "\n"
      ],
      "execution_count": 0,
      "outputs": []
    },
    {
      "cell_type": "code",
      "metadata": {
        "id": "e52yuS7SMn_a",
        "colab_type": "code",
        "colab": {}
      },
      "source": [
        "X_norm.shape"
      ],
      "execution_count": 0,
      "outputs": []
    },
    {
      "cell_type": "code",
      "metadata": {
        "id": "N3ELCSvnngNY",
        "colab_type": "code",
        "colab": {}
      },
      "source": [
        "\n",
        "\n",
        "X_train, X_test, y_train, y_test = train_test_split(data, target, test_size = .25, random_state = 42 )\n",
        "type(X_train)"
      ],
      "execution_count": 0,
      "outputs": []
    },
    {
      "cell_type": "markdown",
      "metadata": {
        "colab_type": "text",
        "id": "NjUeyYoWcDOJ"
      },
      "source": [
        "Had a hard time getting this to work before realizing that the 'text_sentence' in the dataframe was throwing off the array so I elimated that from 'data'"
      ]
    },
    {
      "cell_type": "markdown",
      "metadata": {
        "id": "EOsJlWMBwBFX",
        "colab_type": "text"
      },
      "source": [
        "##Silhouette eval for clusters\n",
        "2 clusters is best based on this analysis but two clusters seems like a strange number to group 10 authors. 4 clusters also has a low standard deviation among samples, so I am going to use 4 for better visualization purposes."
      ]
    },
    {
      "cell_type": "code",
      "metadata": {
        "id": "wGVf3UJ2VefU",
        "colab_type": "code",
        "colab": {}
      },
      "source": [
        "#KMeans: Checking consistency of coefficients for 4 clusters with Silhouette\n",
        "\n",
        "from sklearn.model_selection import train_test_split\n",
        "\n",
        "X_half1, X_half2, X_pcahalf1, X_pcahalf2 = train_test_split(\n",
        "    X_norm,\n",
        "    y_pred,\n",
        "    test_size=0.5,\n",
        "    random_state=42)\n",
        "\n",
        "\n",
        "X1, X2, X_pca1, X_pca2 = train_test_split(\n",
        "    X_half1,\n",
        "    X_pcahalf1,\n",
        "    test_size=0.5,\n",
        "    random_state=42)\n",
        "X3, X4, X_pca3, X_pca4 = train_test_split(\n",
        "    X_half2,\n",
        "    X_pcahalf2,\n",
        "    test_size=0.5,\n",
        "    random_state=42)\n",
        "\n",
        "from sklearn import metrics\n",
        "from sklearn.metrics import pairwise_distances\n",
        "\n",
        "sil_2 = []\n",
        "\n",
        "for sample in [X1, X2, X3, X4]:\n",
        "    model = KMeans(n_clusters=2, random_state=42).fit(sample)\n",
        "    labels = model.labels_\n",
        "    sil_2.append(metrics.silhouette_score(sample, labels, metric='euclidean'))\n",
        "\n",
        "sil_3 = []\n",
        "\n",
        "for sample in [X1, X2, X3, X4]:\n",
        "    model = KMeans(n_clusters=3, random_state=42).fit(sample)\n",
        "    labels = model.labels_\n",
        "    sil_3.append(metrics.silhouette_score(sample, labels, metric='euclidean'))\n",
        "\n",
        "    \n",
        "sil_4 = []\n",
        "\n",
        "for sample in [X1, X2, X3, X4]:\n",
        "    model = KMeans(n_clusters=4, random_state=42).fit(sample)\n",
        "    labels = model.labels_\n",
        "    sil_4.append(metrics.silhouette_score(sample, labels, metric='euclidean'))\n",
        "    \n",
        "    \n",
        "sil_5 = []\n",
        "\n",
        "for sample in [X1, X2, X3, X4]:\n",
        "    model = KMeans(n_clusters=5, random_state=42).fit(sample)\n",
        "    labels = model.labels_\n",
        "    sil_5.append(metrics.silhouette_score(sample, labels, metric='euclidean'))\n",
        "    \n",
        "sil_10 = []\n",
        "\n",
        "for sample in [X1, X2, X3, X4]:\n",
        "    model = KMeans(n_clusters=10, random_state=42).fit(sample)\n",
        "    labels = model.labels_\n",
        "    sil_10.append(metrics.silhouette_score(sample, labels, metric='euclidean'))\n",
        "    \n",
        "print('Cross val of 2 clusters:', sil_2)\n",
        "print('Stdev of  clusters:', np.std(sil_2))\n",
        "    \n",
        "print('\\nCross val of 3 clusters:', sil_3)\n",
        "print('Stdev of  clusters:', np.std(sil_3))\n",
        "    \n",
        "print('\\nCross val of 4 clusters:', sil_4)\n",
        "print('Stdev of 4 clusters:', np.std(sil_4))\n",
        "\n",
        "    \n",
        "print('\\nCross val of 5 clusters:', sil_5)\n",
        "print('Stdev of 5 clusters:', np.std(sil_5))\n",
        "\n",
        "print('\\nCross val of 10 clusters:', sil_10)\n",
        "print('Stdev of 10 clusters:', np.std(sil_10))\n",
        "\n",
        "#"
      ],
      "execution_count": 0,
      "outputs": []
    },
    {
      "cell_type": "markdown",
      "metadata": {
        "id": "B1TdK7CtwSUy",
        "colab_type": "text"
      },
      "source": [
        "##Elbow Plot\n",
        "Two clusters appears to be best which agrees with the silhouette analysis. But again, two clusters seems silly."
      ]
    },
    {
      "cell_type": "code",
      "metadata": {
        "id": "U3_pMiz9uSm8",
        "colab_type": "code",
        "colab": {}
      },
      "source": [
        "#Elbow plot\n",
        "sse = []\n",
        "list_k = list(range(1, 20 ))\n",
        "\n",
        "for k in list_k:\n",
        "    km = KMeans(n_clusters=k)\n",
        "    km.fit(X_norm)\n",
        "    sse.append(km.inertia_)\n",
        "\n",
        "# Plot sse against k\n",
        "plt.figure(figsize=(6, 6))\n",
        "plt.plot(list_k, sse, '-o')\n",
        "plt.xlabel(r'Number of clusters *k*')\n",
        "\n",
        "plt.ylabel('Sum of squared distance')\n",
        "plt.title('Elbow Analysis: 4 Clusters Optimal');"
      ],
      "execution_count": 0,
      "outputs": []
    },
    {
      "cell_type": "markdown",
      "metadata": {
        "id": "hl0XHACYoOt-",
        "colab_type": "text"
      },
      "source": [
        "#Forming Clusters"
      ]
    },
    {
      "cell_type": "markdown",
      "metadata": {
        "id": "_VSCYYmwEn7I",
        "colab_type": "text"
      },
      "source": [
        "##Cluster with KMeans using PCA to 2 variables\n",
        "PCA does not seem like the most accurate way to represent this data but without going down a long wormhole into other multi-dimensional reduction techniques, I will use it here."
      ]
    },
    {
      "cell_type": "code",
      "metadata": {
        "id": "fOIRuauEDPbz",
        "colab_type": "code",
        "outputId": "550e1864-fa2d-4ea2-ee80-1a149e662520",
        "colab": {
          "base_uri": "https://localhost:8080/",
          "height": 497
        }
      },
      "source": [
        "target = sentences[1]\n",
        "data = np.array(word_counts.drop(['text_sentence','president', 'year', 'popular_vote', 'outcome'], 1))\n",
        "#data = np.array(word_counts.drop(['text_sentence','president'], 1))\n",
        "\n",
        "X_train, X_test, y_train, y_test = train_test_split(data, target, test_size = .25, random_state = 42 )\n",
        "\n",
        "X_norm = normalize(X_train)\n",
        "\n",
        "# Reduce it to two components.\n",
        "X_pca = PCA(2).fit_transform(X_norm)\n",
        "\n",
        "# Calculate predicted values.\n",
        "y_pred = KMeans(n_clusters=4, random_state=42).fit_predict(X_pca)\n",
        "\n",
        "# Plot the solution.\n",
        "plt.scatter(X_pca[:, 0], X_pca[:,1], c=y_pred)\n",
        "plt.title('Four Clusters: Optimal According to Elbow Method')\n",
        "plt.show()\n",
        "print ('Stdev:', y_pred.std())\n",
        "print(pd.crosstab(y_train, y_pred))\n"
      ],
      "execution_count": 114,
      "outputs": [
        {
          "output_type": "display_data",
          "data": {
            "image/png": "[encoded data removed]",
            "text/plain": [
              "<Figure size 432x288 with 1 Axes>"
            ]
          },
          "metadata": {
            "tags": []
          }
        },
        {
          "output_type": "stream",
          "text": [
            "Stdev: 0.859377215456484\n",
            "col_0          0   1   2   3\n",
            "1                           \n",
            "Buren         58  28  52   1\n",
            "Cleveland     57  90  33   2\n",
            "Clinton      185  56  13  32\n",
            "F_Roosevelt   87  30  11   4\n",
            "Jackson       67  42  41   0\n",
            "Johnson       48  47   1   7\n",
            "Lincoln       83  43  26  10\n",
            "Obama        224  62   7  15\n",
            "Reagan       160  45  16  13\n",
            "T_Roosevelt  256  71  58   5\n"
          ],
          "name": "stdout"
        }
      ]
    },
    {
      "cell_type": "markdown",
      "metadata": {
        "id": "eIE08BsQeU7Y",
        "colab_type": "text"
      },
      "source": [
        "These clusters don't appear to have too much overlap so that's good. But most of the presidents are in the same cluster:\n",
        "Buren: 0\n",
        "Cleveland: 1\n",
        "Clinton: 1\n",
        "F_Roosevelt: 0\n",
        "Jackson: 0\n",
        "Johnson: 0\n",
        "Lincoln: 0\n",
        "Obama: 0\n",
        "Reagan: 0\n",
        "T_Roosevelt: 0\n",
        "\n",
        "This doesn't show a very good distribution and seems to just relegate outliers to clusters 2 and 3."
      ]
    },
    {
      "cell_type": "markdown",
      "metadata": {
        "id": "vyd8bxwxLa6r",
        "colab_type": "text"
      },
      "source": [
        "##tSNE\n",
        "\n",
        "This is one of those dimension reduction techniques that I will use to compare to Kmeans using PCA"
      ]
    },
    {
      "cell_type": "code",
      "metadata": {
        "id": "Jyr-9OqfPJBp",
        "colab_type": "code",
        "colab": {}
      },
      "source": [
        "#tSNE clustering\n",
        "from sklearn.manifold import TSNE\n",
        "X_embedded = TSNE(n_components=2).fit_transform(X_train)\n",
        "\n",
        "\n",
        "print(pd.crosstab(y_train, y_pred))"
      ],
      "execution_count": 0,
      "outputs": []
    },
    {
      "cell_type": "code",
      "metadata": {
        "id": "l7emfnDaNk6y",
        "colab_type": "code",
        "colab": {}
      },
      "source": [
        "print (X_embedded.shape)\n",
        "print (y_train.shape)"
      ],
      "execution_count": 0,
      "outputs": []
    },
    {
      "cell_type": "code",
      "metadata": {
        "id": "UO8hyHk3PEnz",
        "colab_type": "code",
        "colab": {}
      },
      "source": [
        "#transpose X_embedded array. * = tuple, split and plot (tuple unpacking)\n",
        "import seaborn as sns\n",
        "\n",
        "plt.scatter(*X_embedded.T)\n",
        "\n"
      ],
      "execution_count": 0,
      "outputs": []
    },
    {
      "cell_type": "code",
      "metadata": {
        "id": "NIYOjWI0PxJ-",
        "colab_type": "code",
        "colab": {
          "base_uri": "https://localhost:8080/",
          "height": 468
        },
        "outputId": "77bbd8ba-4f11-4159-e70f-00c44907d227"
      },
      "source": [
        "import seaborn as sns\n",
        "\n",
        "color_palette = sns.color_palette('deep',  len(pd.Series(y_pred).value_counts()))\n",
        "cluster_colors = [color_palette[x] if x>=0 else (0.5,0.5,0.5) for x in y_pred]\n",
        "plt.scatter(*X_embedded.T, c=cluster_colors)\n",
        "print(pd.crosstab(y_train, y_pred))\n"
      ],
      "execution_count": 115,
      "outputs": [
        {
          "output_type": "stream",
          "text": [
            "col_0          0   1   2   3\n",
            "1                           \n",
            "Buren         58  28  52   1\n",
            "Cleveland     57  90  33   2\n",
            "Clinton      185  56  13  32\n",
            "F_Roosevelt   87  30  11   4\n",
            "Jackson       67  42  41   0\n",
            "Johnson       48  47   1   7\n",
            "Lincoln       83  43  26  10\n",
            "Obama        224  62   7  15\n",
            "Reagan       160  45  16  13\n",
            "T_Roosevelt  256  71  58   5\n"
          ],
          "name": "stdout"
        },
        {
          "output_type": "display_data",
          "data": {
            "image/png": "[encoded data removed]",
            "text/plain": [
              "<Figure size 432x288 with 1 Axes>"
            ]
          },
          "metadata": {
            "tags": []
          }
        }
      ]
    },
    {
      "cell_type": "markdown",
      "metadata": {
        "id": "QWL2RFIKe8hb",
        "colab_type": "text"
      },
      "source": [
        "These clusters appear to have a fair amount of overlap. And most of the presidents are in the same cluster:\n",
        "Buren: 0\n",
        "Cleveland: 1\n",
        "Clinton: 0 (changed clusters from Kmeans)\n",
        "F_Roosevelt: 0\n",
        "Jackson: 0\n",
        "Johnson: 0\n",
        "Lincoln: 0\n",
        "Obama: 0\n",
        "Reagan: 0\n",
        "T_Roosevelt: 0\n",
        "\n",
        "This doesn't show a very good distribution but, most of the presidents are still grouped in the same clusters as they were for Kmeans."
      ]
    },
    {
      "cell_type": "code",
      "metadata": {
        "id": "8MO-0zwPRGC9",
        "colab_type": "code",
        "colab": {}
      },
      "source": [
        "y_train.value_counts"
      ],
      "execution_count": 0,
      "outputs": []
    },
    {
      "cell_type": "markdown",
      "metadata": {
        "id": "0HQnl9yNfxlp",
        "colab_type": "text"
      },
      "source": [
        "Attempting the same model with the y data just for fun"
      ]
    },
    {
      "cell_type": "code",
      "metadata": {
        "id": "t7ofq1yERo7z",
        "colab_type": "code",
        "colab": {}
      },
      "source": [
        "from sklearn import preprocessing\n",
        "for_show_in_plot = preprocessing.LabelEncoder().fit_transform(y_train)"
      ],
      "execution_count": 0,
      "outputs": []
    },
    {
      "cell_type": "code",
      "metadata": {
        "id": "hK41f_qDQq8I",
        "colab_type": "code",
        "colab": {
          "base_uri": "https://localhost:8080/",
          "height": 285
        },
        "outputId": "ce3529d0-067e-4c93-975e-39737e08271c"
      },
      "source": [
        "import seaborn as sns\n",
        "\n",
        "color_palette = sns.color_palette('deep',  len(pd.Series(for_show_in_plot).value_counts()))\n",
        "cluster_colors = [color_palette[x] if x>=0 else (0.5,0.5,0.5) for x in for_show_in_plot]\n",
        "plt.scatter(*X_embedded.T, c=cluster_colors)"
      ],
      "execution_count": 104,
      "outputs": [
        {
          "output_type": "execute_result",
          "data": {
            "text/plain": [
              "<matplotlib.collections.PathCollection at 0x7f4a1f910c50>"
            ]
          },
          "metadata": {
            "tags": []
          },
          "execution_count": 104
        },
        {
          "output_type": "display_data",
          "data": {
            "image/png": "[encoded data removed]",
            "text/plain": [
              "<Figure size 432x288 with 1 Axes>"
            ]
          },
          "metadata": {
            "tags": []
          }
        }
      ]
    },
    {
      "cell_type": "markdown",
      "metadata": {
        "id": "4bsIvYp7fg9i",
        "colab_type": "text"
      },
      "source": [
        "Well, at least it looks pretty"
      ]
    },
    {
      "cell_type": "code",
      "metadata": {
        "id": "UwP5dG-_TvhZ",
        "colab_type": "code",
        "colab": {
          "base_uri": "https://localhost:8080/",
          "height": 33
        },
        "outputId": "689f928d-e5bb-453f-91a3-583212c8e08c"
      },
      "source": [
        "len(pd.Series(for_show_in_plot).value_counts())"
      ],
      "execution_count": 105,
      "outputs": [
        {
          "output_type": "execute_result",
          "data": {
            "text/plain": [
              "10"
            ]
          },
          "metadata": {
            "tags": []
          },
          "execution_count": 105
        }
      ]
    },
    {
      "cell_type": "markdown",
      "metadata": {
        "id": "QfzmvB2TRJZq",
        "colab_type": "text"
      },
      "source": [
        "##MeanShift using PCA"
      ]
    },
    {
      "cell_type": "code",
      "metadata": {
        "id": "ZEGhw0snROuM",
        "colab_type": "code",
        "colab": {
          "base_uri": "https://localhost:8080/",
          "height": 502
        },
        "outputId": "2d35f26a-6962-49ec-8e39-d698449e1f12"
      },
      "source": [
        "from sklearn.cluster import MeanShift, estimate_bandwidth\n",
        "\n",
        "# Here we set the bandwidth. This function automatically derives a bandwidth\n",
        "# number based on an inspection of the distances among points in the data.\n",
        "# Reduce it to two components.\n",
        "X_pca = PCA(2).fit_transform(X_norm)\n",
        "\n",
        "\n",
        "#############################3\n",
        "\n",
        "bandwidth = estimate_bandwidth(X_pca, quantile=0.2, n_samples=500)\n",
        "\n",
        "# Declare and fit the model.\n",
        "ms = MeanShift(bandwidth=bandwidth, bin_seeding=True)\n",
        "ms.fit(X_pca)\n",
        "\n",
        "# Extract cluster assignments for each data point.\n",
        "labels = ms.labels_\n",
        "\n",
        "# Coordinates of the cluster centers.\n",
        "cluster_centers = ms.cluster_centers_\n",
        "\n",
        "# Count our clusters.\n",
        "n_clusters_ = len(np.unique(labels))\n",
        "\n",
        "print(\"Number of estimated clusters: {}\".format(n_clusters_))\n",
        "\n",
        "plt.scatter(X_pca[:, 0], X_pca[:, 1], c=labels)\n",
        "plt.show()\n",
        "\n",
        "print('Comparing the assigned categories to the ones in the data:')\n",
        "print(pd.crosstab(y_train, labels))\n"
      ],
      "execution_count": 106,
      "outputs": [
        {
          "output_type": "stream",
          "text": [
            "Number of estimated clusters: 11\n"
          ],
          "name": "stdout"
        },
        {
          "output_type": "display_data",
          "data": {
            "image/png": "[encoded data removed]",
            "text/plain": [
              "<Figure size 432x288 with 1 Axes>"
            ]
          },
          "metadata": {
            "tags": []
          }
        },
        {
          "output_type": "stream",
          "text": [
            "Comparing the assigned categories to the ones in the data:\n",
            "col_0         0   1   2   3   4   5   6   7   8   9   10\n",
            "1                                                       \n",
            "Buren         82  26   1   1   0   3  26   0   0   0   0\n",
            "Cleveland     65  87   0   0   0   5  22   2   0   0   1\n",
            "Clinton      189  41  29  13   2   2   9   0   0   1   0\n",
            "F_Roosevelt   89  26   6   0   0   2   9   0   0   0   0\n",
            "Jackson       90  40   1   0   0   2  16   0   0   0   1\n",
            "Johnson       49  37  10   5   0   1   1   0   0   0   0\n",
            "Lincoln       95  40   8   3   0   1  13   0   2   0   0\n",
            "Obama        229  57  12   5   0   2   3   0   0   0   0\n",
            "Reagan       168  42   7   4   2   2   9   0   0   0   0\n",
            "T_Roosevelt  292  68   9   0   0   2  16   0   0   0   3\n"
          ],
          "name": "stdout"
        }
      ]
    },
    {
      "cell_type": "markdown",
      "metadata": {
        "id": "hur2uxovf9jy",
        "colab_type": "text"
      },
      "source": [
        "Meanshift clustering looks similar to the initial kmeans model. It uses the same pca reduction so it makes sense that they should look similar.\n",
        "\n",
        "Buren: 0\n",
        "Cleveland: 1\n",
        "Clinton: 0 (same cluster as tsne)\n",
        "F_Roosevelt: 0\n",
        "Jackson: 0\n",
        "Johnson: 0\n",
        "Lincoln: 0\n",
        "Obama: 0\n",
        "Reagan: 0\n",
        "T_Roosevelt: 0\n",
        "\n",
        "All of the presidents are still grouped in the same clusters as they were for tsne. MeanShift seems very sensitive to the outliers as it has chosen 11 clusters instead of 2 or 4"
      ]
    },
    {
      "cell_type": "markdown",
      "metadata": {
        "id": "q26N0bk6cqin",
        "colab_type": "text"
      },
      "source": [
        "#Supervised Learning models"
      ]
    },
    {
      "cell_type": "markdown",
      "metadata": {
        "id": "_oCNgKufKeko",
        "colab_type": "text"
      },
      "source": [
        "## Random Forest: Hugely overfit"
      ]
    },
    {
      "cell_type": "code",
      "metadata": {
        "id": "JMHPHgBok02E",
        "colab_type": "code",
        "colab": {
          "base_uri": "https://localhost:8080/",
          "height": 100
        },
        "outputId": "ceb1b7d0-9c5d-40dd-dac1-199175916b19"
      },
      "source": [
        "from sklearn import ensemble\n",
        "from sklearn.model_selection import train_test_split\n",
        "\n",
        "rfc = ensemble.RandomForestClassifier()\n",
        "\n",
        "train_rfc = rfc.fit(X_train, y_train)\n",
        "\n",
        "print('Training set score:', train_rfc.score(X_train, y_train))\n",
        "print('\\nTest set score:', train_rfc.score(X_test, y_test))"
      ],
      "execution_count": 107,
      "outputs": [
        {
          "output_type": "stream",
          "text": [
            "/usr/local/lib/python3.6/dist-packages/sklearn/ensemble/forest.py:245: FutureWarning: The default value of n_estimators will change from 10 in version 0.20 to 100 in 0.22.\n",
            "  \"10 in version 0.20 to 100 in 0.22.\", FutureWarning)\n"
          ],
          "name": "stderr"
        },
        {
          "output_type": "stream",
          "text": [
            "Training set score: 0.9798657718120806\n",
            "\n",
            "Test set score: 0.34195402298850575\n"
          ],
          "name": "stdout"
        }
      ]
    },
    {
      "cell_type": "markdown",
      "metadata": {
        "id": "ZMg5TxEyKtLy",
        "colab_type": "text"
      },
      "source": [
        "##Log Regression with Bag of Words: Also overfit, but less so"
      ]
    },
    {
      "cell_type": "code",
      "metadata": {
        "id": "YonM2iqKoSeY",
        "colab_type": "code",
        "colab": {
          "base_uri": "https://localhost:8080/",
          "height": 170
        },
        "outputId": "d709f2f7-7c47-426c-81ae-d5f929e023bf"
      },
      "source": [
        "from sklearn.linear_model import LogisticRegression\n",
        "\n",
        "lr = LogisticRegression(penalty='l2') # No need to specify l2 as it's the default. But we put it for demonstration.\n",
        "train = lr.fit(X_train, y_train)\n",
        "print(X_train.shape, y_train.shape)\n",
        "print('Training set score:', lr.score(X_train, y_train))\n",
        "print('\\nTest set score:', lr.score(X_test, y_test))"
      ],
      "execution_count": 109,
      "outputs": [
        {
          "output_type": "stream",
          "text": [
            "/usr/local/lib/python3.6/dist-packages/sklearn/linear_model/logistic.py:432: FutureWarning: Default solver will be changed to 'lbfgs' in 0.22. Specify a solver to silence this warning.\n",
            "  FutureWarning)\n",
            "/usr/local/lib/python3.6/dist-packages/sklearn/linear_model/logistic.py:469: FutureWarning: Default multi_class will be changed to 'auto' in 0.22. Specify the multi_class option to silence this warning.\n",
            "  \"this warning.\", FutureWarning)\n"
          ],
          "name": "stderr"
        },
        {
          "output_type": "stream",
          "text": [
            "(2086, 5477) (2086,)\n",
            "Training set score: 0.965484180249281\n",
            "\n",
            "Test set score: 0.5028735632183908\n"
          ],
          "name": "stdout"
        }
      ]
    },
    {
      "cell_type": "markdown",
      "metadata": {
        "id": "brR_hu7uLAae",
        "colab_type": "text"
      },
      "source": [
        "##Gradient Boost: Not performing well on the training or test set."
      ]
    },
    {
      "cell_type": "code",
      "metadata": {
        "id": "bs_AKcrpK_Dv",
        "colab_type": "code",
        "colab": {
          "base_uri": "https://localhost:8080/",
          "height": 67
        },
        "outputId": "452c8297-fcdb-4982-fac0-c7079e82d4ef"
      },
      "source": [
        "clf = ensemble.GradientBoostingClassifier()\n",
        "train = clf.fit(X_train, y_train)\n",
        "\n",
        "print('Training set score:', clf.score(X_train, y_train))\n",
        "print('\\nTest set score:', clf.score(X_test, y_test))"
      ],
      "execution_count": 111,
      "outputs": [
        {
          "output_type": "stream",
          "text": [
            "Training set score: 0.8619367209971237\n",
            "\n",
            "Test set score: 0.3850574712643678\n"
          ],
          "name": "stdout"
        }
      ]
    },
    {
      "cell_type": "markdown",
      "metadata": {
        "id": "jlZbZTW2g6XU",
        "colab_type": "text"
      },
      "source": [
        "#Summary\n",
        "\n",
        "It does not appear that any of the models (unsupervised or supervised) accurately predict even the year that these presidential addresses were given. The best looking cluster algorithm appears to be Kmeans using PCA to reduce the dimensions down to two, but even so, the distribution of presidents is incredibly poor. Most presidents reside in the first cluster. Subsequent clustering algorithms also cannot distribute the presidents into evenly divided clusters. Further exploration into feature selection may help this issue.\n",
        "\n",
        "As for supervised modeling, log regression seems to be the most effective based on the methods chosen. I chose random forest and gradient boost as I expected these models, which use model boosting, to be able to better train on the data. I was surprised that the log regression, while still very overfit, outperformed the two boosted models.\n",
        "\n",
        "Overall, none of these models were good predictors of the year that the address was given. More exploration into feature selection and dimension reduction techniques could help to improve these models and more accurately predict any of the variables associated with the words given in these speeches."
      ]
    },
    {
      "cell_type": "code",
      "metadata": {
        "id": "8hX8i6Tmimo8",
        "colab_type": "code",
        "colab": {}
      },
      "source": [
        ""
      ],
      "execution_count": 0,
      "outputs": []
    }
  ]
}