{
  "nbformat": 4,
  "nbformat_minor": 0,
  "metadata": {
    "colab": {
      "name": "Presidential SOTUs.ipynb",
      "version": "0.3.2",
      "provenance": [],
      "collapsed_sections": [
        "0erFEFB-yAt_"
      ]
    },
    "language_info": {
      "codemirror_mode": {
        "name": "ipython",
        "version": 3
      },
      "file_extension": ".py",
      "mimetype": "text/x-python",
      "name": "python",
      "nbconvert_exporter": "python",
      "pygments_lexer": "ipython3",
      "version": "3.7.1"
    },
    "kernelspec": {
      "display_name": "Python 3",
      "language": "python",
      "name": "python3"
    }
  },
  "cells": [
    {
      "cell_type": "markdown",
      "metadata": {
        "id": "-RE2Jfm-aPox",
        "colab_type": "text"
      },
      "source": [
        "#Presidential State of the Union Addresses\n",
        "This project is an investigation into the State of the Union addresses given by presidents in the year of an impending election wherein they were incumbents. By using supervised and unsupervised techniques, I intend to uncover trends in the word usage in these addresses to see if there are trends among the presidential speeches (unsupervised) and if these can be used to predict the outcome of the election or the percentage of popular vote received by the candidate in the election following the speech (supervised)."
      ]
    },
    {
      "cell_type": "code",
      "metadata": {
        "id": "xsTBX01hmkgy",
        "colab_type": "code",
        "colab": {}
      },
      "source": [
        "%matplotlib inline\n",
        "import numpy as np\n",
        "import pandas as pd\n",
        "import scipy\n",
        "import sklearn\n",
        "import spacy\n",
        "import matplotlib.pyplot as plt\n",
        "import seaborn as sns\n",
        "import re\n",
        "from nltk.corpus import gutenberg, stopwords\n",
        "from collections import Counter\n",
        "import nltk"
      ],
      "execution_count": 0,
      "outputs": []
    },
    {
      "cell_type": "markdown",
      "metadata": {
        "id": "MIw-8hXRbKyN",
        "colab_type": "text"
      },
      "source": [
        "Presidential SOTU addresses taken from Github"
      ]
    },
    {
      "cell_type": "code",
      "metadata": {
        "id": "WoJO2r-UPVnW",
        "colab_type": "code",
        "colab": {}
      },
      "source": [
        "\n",
        "Buren_upload = open ('Buren_1840.txt').read()\n",
        "Cleveland_upload = open ('Cleveland_1888.txt').read()\n",
        "Clinton_upload = open ('Clinton_1996.txt').read()\n",
        "Jackson_upload = open ('Jackson_1832.txt').read()\n",
        "Johnson_upload= open ('Johnson_1964.txt').read()\n",
        "Lincoln_upload = open ('Lincoln_1864.txt').read()\n",
        "Obama_upload = open ('Obama_2012.txt').read()\n",
        "Reagan_upload = open ('Reagan_1984.txt').read()\n",
        "Roose_1_upload = open('Roosevelt_1904.txt').read()\n",
        "Roose_2_upload = open ('Roosevelt_1936.txt').read()\n"
      ],
      "execution_count": 0,
      "outputs": []
    },
    {
      "cell_type": "code",
      "metadata": {
        "id": "7uXoDqB154RN",
        "colab_type": "code",
        "colab": {}
      },
      "source": [
        "#president_SOTU = pd.read_csv(r'https://github.com/harr1582/Presidential-SOTU/blob/master/Buren_1840.txt')"
      ],
      "execution_count": 0,
      "outputs": []
    },
    {
      "cell_type": "markdown",
      "metadata": {
        "id": "lNc2rD0lmkhF",
        "colab_type": "text"
      },
      "source": [
        "## Cleaning\n"
      ]
    },
    {
      "cell_type": "code",
      "metadata": {
        "id": "lVZ3bx59ntwD",
        "colab_type": "code",
        "colab": {}
      },
      "source": [
        "#Takes apart the dictionary into just values and returns to variable assigned\n",
        "\n",
        "# bur_loss = list(Buren_upload.values())\n",
        "# clev_loss = list(Cleveland_upload.values())\n",
        "# clint = list(Clinton_upload.values())\n",
        "# jack = list(Jackson_upload.values())\n",
        "# john = list(Johnson_upload.values())\n",
        "# roose = list(Roose_1_upload.values())\n",
        "# fdr = list (Roose_2_upload.values())\n",
        "# linc = list(Lincoln_upload.values())\n",
        "# obam = list(Obama_upload.values())\n",
        "# reag = list(Reagan_upload.values())\n",
        "\n",
        "# #Turns list into string\n",
        "# roose_str = ' '.join(str(x) for x in roose)\n",
        "# clint_str = ' '.join(str(x) for x in clint)\n",
        "# bur_str = ' '.join(str(x) for x in bur_loss)\n",
        "# clev_loss_str = ' '.join(str(x) for x in clev_loss)\n",
        "# fdr_str = ' '.join(str(x) for x in fdr)\n",
        "# linc_str = ' '.join(str(x) for x in linc)\n",
        "# obam_str = ' '.join(str(x) for x in obam)\n",
        "# jack_str = ' '.join(str(x) for x in jack)\n",
        "# john_str = ' '.join(str(x) for x in john)\n",
        "# reag_str = ' '.join(str(x) for x in reag)\n"
      ],
      "execution_count": 0,
      "outputs": []
    },
    {
      "cell_type": "code",
      "metadata": {
        "id": "bFeD-JIfa1Ps",
        "colab_type": "code",
        "colab": {}
      },
      "source": [
        "\n",
        "#Getting rid of newlines and first random letter/space\n",
        "\n",
        "roose_str = re.sub(r'\\n', ' ', Roose_1_upload)\n",
        "clint_str = re.sub(r'\\n', ' ', Clinton_upload)\n",
        "clev_loss_str =  re.sub(r'\\n', ' ', Cleveland_upload)\n",
        "bur_str = re.sub(r'\\n', ' ', Buren_upload)\n",
        "fdr_str =  re.sub(r'\\n', ' ', Roose_2_upload)\n",
        "linc_str =  re.sub(r'\\n', ' ', Lincoln_upload)\n",
        "obam_str =  re.sub(r'\\n', ' ', Obama_upload)\n",
        "jack_str =  re.sub(r'\\n', ' ', Jackson_upload)\n",
        "john_str =  re.sub(r'\\n', ' ', Johnson_upload)\n",
        "reag_str =  re.sub(r'\\n', ' ', Reagan_upload)\n",
        "\n",
        "roosevelt = roose_str[2:]\n",
        "clinton = clint_str[2:]\n",
        "cleveland =  clev_loss_str[2:]\n",
        "buren = bur_str[2:]\n",
        "fd_roose =  fdr_str[2:]\n",
        "lincoln = linc_str[2:]\n",
        "obama =  obam_str[2:]\n",
        "jackson = jack_str[2:]\n",
        "johnson =  john_str[2:]\n",
        "reagan =  reag_str[2:]"
      ],
      "execution_count": 0,
      "outputs": []
    },
    {
      "cell_type": "code",
      "metadata": {
        "id": "uGxvule1G410",
        "colab_type": "code",
        "outputId": "9dfd3c50-e0a3-4b8f-90f4-b506c381ec63",
        "colab": {
          "base_uri": "https://localhost:8080/",
          "height": 53
        }
      },
      "source": [
        "reag_str"
      ],
      "execution_count": 34,
      "outputs": [
        {
          "output_type": "execute_result",
          "data": {
            "text/plain": [
              "'Mr. Speaker, Mr. President, distinguished Members of the Congress, honored guests, and fellow citizens:  Once again, in keeping with time-honored tradition, I have come to report to you on the state of the Union, and I\\'m pleased to report that America is much improved, and there\\'s good reason to believe that improvement will continue through the days to come.  You and I have had some honest and open differences in the year past. But they didn\\'t keep us from joining hands in bipartisan cooperation to stop a long decline that had drained this nation\\'s spirit and eroded its health. There is renewed energy and optimism throughout the land. America is back, standing tall, looking to the eighties with courage, confidence, and hope.  The problems we\\'re overcoming are not the heritage of one person, party, or even one generation. It\\'s just the tendency of government to grow, for practices and programs to become the nearest thing to eternal life we\\'ll ever see on this Earth. And there\\'s always that well-intentioned chorus of voices saying, \"With a little more power and a little more money, we could do so much for the people.\" For a time we forgot the American dream isn\\'t one of making government bigger; it\\'s keeping faith with the mighty spirit of free people under God.  As we came to the decade of the eighties, we faced the worst crisis in our postwar history. In the seventies were years of rising problems and falling confidence. There was a feeling government had grown beyond the consent of the governed. Families felt helpless in the face of mounting inflation and the indignity of taxes that reduced reward for hard work, thrift, and risktaking. All this was overlaid by an evergrowing web of rules and regulations.  On the international scene, we had an uncomfortable feeling that we\\'d lost the respect of friend and foe. Some questioned whether we had the will to defend peace and freedom. But America is too great for small dreams. There was a hunger in the land for a spiritual revival; if you will, a crusade for renewal. The American people said: Let us look to the future with confidence, both at home and abroad. Let us give freedom a chance.  Americans were ready to make a new beginning, and together we have done it. We\\'re confronting our problems one by one. Hope is alive tonight for millions of young families and senior citizens set free from unfair tax increases and crushing inflation. Inflation has been beaten down from 12.4 to 3.2 percent, and that\\'s a great victory for all the people. The prime rate has been cut almost in half, and we must work together to bring it down even more.  Together, we passed the first across-the-board tax reduction for everyone since the Kennedy tax cuts. Next year, tax rates will be indexed so inflation can\\'t push people into higher brackets when they get cost-of-living pay raises. Government must never again use inflation to profit at the people\\'s expense.  Today a working family earning $25,000 has $1,100 more in purchasing power than if tax and inflation rates were still at the 1980 levels. Real after-tax income increased 5 percent last year. And economic deregulation of key industries like transportation has offered more chances--or choices, I should say, to consumers and new changes--or chances for entrepreneurs and protecting safety. Tonight, we can report and be proud of one of the best recoveries in decades. Send away the handwringers and the doubting Thomases. Hope is reborn for couples dreaming of owning homes and for risktakers with vision to create tomorrow\\'s opportunities.  The spirit of enterprise is sparked by the sunrise industries of high-tech and by small business people with big ideas--people like Barbara Proctor, who rose from a ghetto to build a multimillion-dollar advertising agency in Chicago; Carlos Perez, a Cuban refugee, who turned $27 and a dream into a successful importing business in Coral Gables, Florida.  People like these are heroes for the eighties. They helped 4 million Americans find jobs in 1983. More people are drawing paychecks tonight than ever before. And Congress helps--or progress helps everyone--well, Congress does too----everyone. In 1983 women filled 73 percent of all the new jobs in managerial, professional, and technical fields.  But we know that many of our fellow countrymen are still out of work, wondering what will come of their hopes and dreams. Can we love America and not reach out to tell them: You are not forgotten; we will not rest until each of you can reach as high as your God-given talents will take you.  The heart of America is strong; it\\'s good and true. The cynics were wrong; America never was a sick society. We\\'re seeing rededication to bedrock values of faith, family, work, neighborhood, peace, and freedom--values that help bring us together as one people, from the youngest child to the most senior citizen.  The Congress deserves America\\'s thanks for helping us restore pride and credibility to our military. And I hope that you\\'re as proud as I am of the young men and women in uniform who have volunteered to man the ramparts in defense of freedom and whose dedication, valor, and skill increases so much our chance of living in a world at peace.  People everywhere hunger for peace and a better life. The tide of the future is a freedom tide, and our struggle for democracy cannot and will not be denied. This nation champions peace that enshrines liberty, democratic rights, and dignity for every individual. America\\'s new strength, confidence, and purpose are carrying hope and opportunity far from our shores. A world economic recovery is underway. It began here.  We\\'ve journeyed far, but we have much farther to go. Franklin Roosevelt told us 50 years ago this month: \"Civilization can not go back; civilization must not stand still. We have undertaken new methods. It is our task to perfect, to improve, to alter when necessary, but in all cases to go forward.\"  It\\'s time to move forward again, time for America to take freedom\\'s next step. Let us unite tonight behind four great goals to keep America free, secure, and at peace in the eighties together.  We can ensure steady economic growth. We can develop America\\'s next frontier. We can strengthen our traditional values. And we can build a meaningful peace to protect our loved ones and this shining star of faith that has guided millions from tyranny to the safe harbor of freedom, progress, and hope.  Doing these things will open wider the gates of opportunity, provide greater security for all, with no barriers of bigotry or discrimination.  The key to a dynamic decade is vigorous economic growth, our first great goal. We might well begin with common sense in Federal budgeting: government spending no more than government takes in.  We must bring Federal deficits down. But how we do that makes all the difference.  We can begin by limiting the size and scope of government. Under the leadership of Vice President Bush, we have reduced the growth of Federal regulations by more than 25 percent and cut well over 300 million hours of government-required paperwork each year. This will save the public more than $150 billion over the next 10 years.  The Grace commission has given us some 2,500 recommendations for reducing wasteful spending, and they\\'re being examined throughout the administration. Federal spending growth has been cut from 17.4 percent in 1980 to less than half of that today, and we have already achieved over $300 billion in budget savings for the period of 1982 to \\'86. But that\\'s only a little more than half of what we sought. Government is still spending too large a percentage of the total economy.  Now, some insist that any further budget savings must be obtained by reducing the portion spent on defense. This ignores the fact that national defense is solely the responsibility of the Federal Government; indeed, it is its prime responsibility. And yet defense spending is less than a third of the total budget. During the years of President Kennedy and of the years before that, defense was almost half the total budget. And then came several years in which our military capability was allowed to deteriorate to a very dangerous degree. We are just now restoring, through the essential modernization of our conventional and strategic forces, our capability to meet our present and future security needs. We dare not shirk our responsibility to keep America free, secure, and at peace.  The last decade saw domestic spending surge literally out of control. But the basis for such spending had been laid in previous years. A pattern of overspending has been in place for half a century. As the national debt grew, we were told not to worry, that we owed it to ourselves.  Now we know that deficits are a cause for worry. But there\\'s a difference of opinion as to whether taxes should be increased, spending cut, or some of both. Fear is expressed that government borrowing to fund the deficit could inhibit the economic recovery by taking capital needed for business and industrial expansion. Well, I think that debate is missing an important point. Whether government borrows or increases taxes, it will be taking the same amount of money from the private sector, and, either way, that\\'s too much. Simple fairness dictates that government must not raise taxes on families struggling to pay their bills. The root of the problem is that government\\'s share is more than we can afford if we\\'re to have a sound economy.  We must bring down the deficits to ensure continued economic growth. In the budget that I will submit on February 1st, I will recommend measures that will reduce the deficit over the next 5 years. Many of these will be unfinished business from last year\\'s budget.  Some could be enacted quickly if we could join in a serious effort to address this problem. I spoke today with Speaker of the House O\\'Neill, Senate Majority Leader Baker, Senate Minority Leader Byrd, and House Minority Leader Michel. I asked them if they would designate congressional representatives to meet with representatives of the administration to try to reach prompt agreement on a bipartisan deficit reduction plan. I know it would take a long, hard struggle to agree on a full-scale plan. So, what I have proposed is that we first see if we can agree on a down payment.  Now, I believe there is basis for such an agreement, one that could reduce the deficits by about a hundred billion dollars over the next 3 years. We could focus on some of the less contentious spending cuts that are still pending before the Congress. These could be combined with measures to close certain tax loopholes, measures that the Treasury Department has previously said to be worthy of support. In addition, we could examine the possibility of achieving further outlay savings based on the work of the Grace commission.  If the congressional leadership is willing, my representatives will be prepared to meet with theirs at the earliest possible time. I would hope the leadership might agree on an expedited timetable in which to develop and enact that down payment.  But a down payment alone is not enough to break us out of the deficit problem. It could help us start on the right path. Yet, we must do more. So, I propose that we begin exploring how together we can make structural reforms to curb the built-in growth of spending.  I also propose improvements in the budgeting process. Some 43 of our 50 States grant their Governors the right to veto individual items in appropriation bills without having to veto the entire bill. California is one of those 43 States. As Governor, I found this line-item veto was a powerful tool against wasteful or extravagant spending. It works in 43 States. Let\\'s put it to work in Washington for all the people.  It would be most effective if done by constitutional amendment. The majority of Americans approve of such an amendment, just as they and I approve of an amendment mandating a balanced Federal budget. Many States also have this protection in their constitutions.  To talk of meeting the present situation by increasing taxes is a Band-Aid solution which does nothing to cure an illness that\\'s been coming on for half a century--to say nothing of the fact that it poses a real threat to economic recovery. Let\\'s remember that a substantial amount of income tax is presently owed and not paid by people in the underground economy. It would be immoral to make those who are paying taxes pay more to compensate for those who aren\\'t paying their share.  There\\'s a better way. Let us go forward with an historic reform for fairness, simplicity, and incentives for growth. I am asking Secretary Don Regan for a plan for action to simplify the entire tax code, so all taxpayers, big and small, are treated more fairly. And I believe such a plan could result in that underground economy being brought into the sunlight of honest tax compliance. And it could make the tax base broader, so personal tax rates could come down, not go up. I\\'ve asked that specific recommendations, consistent with those objectives, be presented to me by December 1984.  Our second great goal is to build on America\\'s pioneer spirit--I said something funny? I said America\\'s next frontier--and that\\'s to develop that frontier. A sparkling economy spurs initiatives, sunrise industries, and makes older ones more competitive.  Nowhere is this more important than our next frontier: space. Nowhere do we so effectively demonstrate our technological leadership and ability to make life better on Earth. The Space Age is barely a quarter of a century old. But already we\\'ve pushed civilization forward with our advances in science and technology. Opportunities and jobs will multiply as we cross new thresholds of knowledge and reach deeper into the unknown.  Our progress in space--taking giant steps for all mankind--is a tribute to American teamwork and excellence. Our finest minds in government, industry, and academia have all pulled together. And we can be proud to say: We are first; we are the best; and we are so because we\\'re free.  America has always been greatest when we dared to be great. We can reach for greatness again. We can follow our dreams to distant stars, living and working in space for peaceful, economic, and scientific gain. Tonight, I am directing NASA to develop a permanently manned space station and to do it within a decade.  A space station will permit quantum leaps in our research in science, communications, in metals, and in lifesaving medicines which could be manufactured only in space. We want our friends to help us meet these challenges and share in their benefits. NASA will invite other countries to participate so we can strengthen peace, build prosperity, and expand freedom for all who share our goals.  Just as the oceans opened up a new world for clipper ships and Yankee traders, space holds enormous potential for commerce today. The market for space transportation could surpass our capacity to develop it. Companies interested in putting payloads into space must have ready access to private sector launch services. The Department of Transportation will help an expendable launch services industry to get off the ground. We\\'ll soon implement a number of executive initiatives, develop proposals to ease regulatory constraints, and, with NASA\\'s help, promote private sector investment in space.  And as we develop the frontier of space, let us remember our responsibility to preserve our older resources here on Earth. Preservation of our environment is not a liberal or conservative challenge, it\\'s common sense.  Though this is a time of budget constraints, I have requested for EPA one of the largest percentage budget increases of any agency. We will begin the long, necessary effort to clean up a productive recreational area and a special national resource--the Chesapeake Bay.  To reduce the threat posed by abandoned hazardous waste dumps, EPA will spend $410 million. And I will request a supplemental increase of 50 million. And because the Superfund law expires in 1985, I\\'ve asked Bill Ruckelshaus to develop a proposal for its extension so there\\'ll be additional time to complete this important task.  On the question of acid rain, which concerns people in many areas of the United States and Canada, I\\'m proposing a research program that doubles our current funding. And we\\'ll take additional action to restore our lakes and develop new technology to reduce pollution that causes acid rain.  We have greatly improved the conditions of our natural resources. We\\'ll ask the Congress for $157 million beginning in 1985 to acquire new park and conservation lands. The Department of the Interior will encourage careful, selective exploration and production on our vital resources in an Exclusive Economic Zone within the 200-mile limit off our coasts--but with strict adherence to environmental laws and with fuller State and public participation.  But our most precious resources, our greatest hope for the future, are the minds and hearts of our people, especially our children. We can help them build tomorrow by strengthening our community of shared values. This must be our third great goal. For us, faith, work, family, neighborhood, freedom, and peace are not just words; they\\'re expressions of what America means, definitions of what makes us a good and loving people.  Families stand at the center of our society. And every family has a personal stake in promoting excellence in education. Excellence does not begin in Washington. A 600-percent increase in Federal spending on education between 1960 and 1980 was accompanied by a steady decline in Scholastic Aptitude Test scores. Excellence must begin in our homes and neighborhood schools, where it\\'s the responsibility of every parent and teacher and the right of every child.  Our children come first, and that\\'s why I established a bipartisan National Commission on Excellence in Education, to help us chart a commonsense course for better education. And already, communities are implementing the Commission\\'s recommendations. Schools are reporting progress in math and reading skills. But we must do more to restore discipline to schools; and we must encourage the teaching of new basics, reward teachers of merit, enforce tougher standards, and put our parents back in charge.  I will continue to press for tuition tax credits to expand opportunities for families and to soften the double payment for those paying public school taxes and private school tuition. Our proposal would target assistance to low- and middle-income families. Just as more incentives are needed within our schools, greater competition is needed among our schools. Without standards and competition, there can be no champions, no records broken, no excellence in education or any other walk of life.  And while I\\'m on this subject, each day your Members observe a 200-year-old tradition meant to signify America is one nation under God. I must ask: If you can begin your day with a member of the clergy standing right here leading you in prayer, then why can\\'t freedom to acknowledge God be enjoyed again by children in every schoolroom across this land?  America was founded by people who believed that God was their rock of safety. He is ours. I recognize we must be cautious in claiming that God is on our side, but I think it\\'s all right to keep asking if we\\'re on His side.  During our first 3 years, we have joined bipartisan efforts to restore protection of the law to unborn children. Now, I know this issue is very controversial. But unless and until it can be proven that an unborn child is not a living human being, can we justify assuming without proof that it isn\\'t? No one has yet offered such proof; indeed, all the evidence is to the contrary. We should rise above bitterness and reproach, and if Americans could come together in a spirit of understanding and helping, then we could find positive solutions to the tragedy of abortion.  Economic recovery, better education, rededication to values, all show the spirit of renewal gaining the upper hand. And all will improve family life in the eighties. But families need more. They need assurance that they and their loved ones can walk the streets of America without being afraid. Parents need to know their children will not be victims of child pornography and abduction. This year we will intensify our drive against these and other horrible crimes like sexual abuse and family violence.  Already our efforts to crack down on career criminals, organized crime, drugpushers, and to enforce tougher sentences and paroles are having effect. In 1982 the crime rate dropped by 4.3 percent, the biggest decline since 1972. Protecting victims is just as important as safeguarding the rights of defendants.  Opportunities for all Americans will increase if we move forward in fair housing and work to ensure women\\'s rights, provide for equitable treatment in pension benefits and Individual Retirement Accounts, facilitate child care, and enforce delinquent parent support payments.  It\\'s not just the home but the workplace and community that sustain our values and shape our future. So, I ask your help in assisting more communities to break the bondage of dependency. Help us to free enterprise by permitting debate and voting \"yes\" on our proposal for enterprise zones in America. This has been before you for 2 years. Its passage can help high-unemployment areas by creating jobs and restoring neighborhoods.  A society bursting with opportunities, reaching for its future with confidence, sustained by faith, fair play, and a conviction that good and courageous people will flourish when they\\'re free--these are the secrets of a strong and prosperous America at peace with itself and the world.  A lasting and meaningful peace is our fourth great goal. It is our highest aspiration. And our record is clear: Americans resort to force only when we must. We have never been aggressors. We have always struggled to defend freedom and democracy.  We have no territorial ambitions. We occupy no countries. We build no walls to lock people in. Americans build the future. And our vision of a better life for farmers, merchants, and working people, from the Americas to Asia, begins with a simple premise: The future is best decided by ballots, not bullets.  Governments which rest upon the consent of the governed do not wage war on their neighbors. Only when people are given a personal stake in deciding their own destiny, benefiting from their own risks, do they create societies that are prosperous, progressive, and free. Tonight, it is democracies that offer hope by feeding the hungry, prolonging life, and eliminating drudgery.  When it comes to keeping America strong, free, and at peace, there should be no Republicans or Democrats, just patriotic Americans. We can decide the tough issues not by who is right, but by what is right.  Together, we can continue to advance our agenda for peace. We can establish a more stable basis for peaceful relations with the Soviet Union; strengthen allied relations across the board; achieve real and equitable reductions in the levels of nuclear arms; reinforce our peacemaking efforts in the Middle East, Central America, and southern Africa; or assist developing countries, particularly our neighbors in the Western Hemisphere; and assist in the development of democratic institutions throughout the world.  The wisdom of our bipartisan cooperation was seen in the work of the Scowcroft commission, which strengthened our ability to deter war and protect peace. In that same spirit, I urge you to move forward with the Henry Jackson plan to implement the recommendations of the Bipartisan Commission on Central America.  Your joint resolution on the multinational peacekeeping force in Lebanon is also serving the cause of peace. We are making progress in Lebanon. For nearly 10 years, the Lebanese have lived from tragedy to tragedy with no hope for their future. Now the multinational peacekeeping force and our marines are helping them break their cycle of despair. There is hope for a free, independent, and sovereign Lebanon. We must have the courage to give peace a chance. And we must not be driven from our objectives for peace in Lebanon by state-sponsored terrorism. We have seen this ugly specter in Beirut, Kuwait, and Rangoon. It demands international attention. I will forward shortly legislative proposals to help combat terrorism. And I will be seeking support from our allies for concerted action.  Our NATO alliance is strong. 1983 was a banner year for political courage. And we have strengthened our partnerships and our friendships in the Far East. We\\'re committed to dialog, deterrence, and promoting prosperity. We\\'ll work with our trading partners for a new round of negotiations in support of freer world trade, greater competition, and more open markets.  A rebirth of bipartisan cooperation, of economic growth, and military deterrence, and a growing spirit of unity among our people at home and our allies abroad underline a fundamental and far-reaching change: The United States is safer, stronger, and more secure in 1984 than before. We can now move with confidence to seize the opportunities for peace, and we will.  Tonight, I want to speak to the people of the Soviet Union, to tell them it\\'s true that our governments have had serious differences, but our sons and daughters have never fought each other in war. And if we Americans have our way, they never will.  People of the Soviet Union, there is only one sane policy, for your country and mine, to preserve our civilization in this modern age: A nuclear war cannot be won and must never be fought. The only value in our two nations possessing nuclear weapons is to make sure they will never be used. But then would it not be better to do away with them entirely?  People of the Soviet, President Dwight Eisenhower, who fought by your side in World War II, said the essential struggle \"is not merely man against man or nation against nation. It is man against war.\" Americans are people of peace. If your government wants peace, there will be peace. We can come together in faith and friendship to build a safer and far better world for our children and our children\\'s children. And the whole world will rejoice. That is my message to you.  Some days when life seems hard and we reach out for values to sustain us or a friend to help us, we find a person who reminds us what it means to be Americans.  Sergeant Stephen Trujillo, a medic in the 2d Ranger Battalion, 75th Infantry, was in the first helicopter to land at the compound held by Cuban forces in Grenada. He saw three other helicopters crash. Despite the imminent explosion of the burning aircraft, he never hesitated. He ran across 25 yards of open terrain through enemy fire to rescue wounded soldiers. He directed two other medics, administered first aid, and returned again and again to the crash site to carry his wounded friends to safety.  Sergeant Trujillo, you and your fellow service men and women not only saved innocent lives; you set a nation free. You inspire us as a force for freedom, not for despotism; and, yes, for peace, not conquest. God bless you.  And then there are unsung heroes: single parents, couples, church and civic volunteers. Their hearts carry without complaint the pains of family and community problems. They soothe our sorrow, heal our wounds, calm our fears, and share our joy.  A person like Father Ritter is always there. His Covenant House programs in New York and Houston provide shelter and help to thousands of frightened and abused children each year. The same is true of Dr. Charles Carson. Paralyzed in a plane crash, he still believed nothing is impossible. Today in Minnesota, he works 80 hours a week without pay, helping pioneer the field of computer-controlled walking. He has given hope to 500,000 paralyzed Americans that some day they may walk again.  How can we not believe in the greatness of America? How can we not do what is right and needed to preserve this last best hope of man on Earth? After all our struggles to restore America, to revive confidence in our country, hope for our future, after all our hard-won victories earned through the patience and courage of every citizen, we cannot, must not, and will not turn back. We will finish our job. How could we do less? We\\'re Americans.  Carl Sandburg said, \"I see America not in the setting sun of a black night of despair... I see America in the crimson light of a rising sun fresh from the burning, creative hand of God... I see great days ahead for men and women of will and vision.\"  I\\'ve never felt more strongly that America\\'s best days and democracy\\'s best days lie ahead. We\\'re a powerful force for good. With faith and courage, we can perform great deeds and take freedom\\'s next step. And we will. We will carry on the tradition of a good and worthy people who have brought light where there was darkness, warmth where there was cold, medicine where there was disease, food where there was hunger, and peace where there was only bloodshed.  Let us be sure that those who come after will say of us in our time, that in our time we did everything that could be done. We finished the race; we kept them free; we kept the faith.  Thank you very much. God bless you, and God bless America.  NOTE: The President spoke at 9:02 p.m. in the House Chamber of the Capitol. He was introduced by Thomas P. O\\'Neill, Jr., Speaker of the House of Representatives. The address was broadcast live on nationwide radio and television.'"
            ]
          },
          "metadata": {
            "tags": []
          },
          "execution_count": 34
        }
      ]
    },
    {
      "cell_type": "markdown",
      "metadata": {
        "id": "1LOdamhjbfdC",
        "colab_type": "text"
      },
      "source": [
        "Parsing"
      ]
    },
    {
      "cell_type": "code",
      "metadata": {
        "id": "TMFuJscumkhG",
        "colab_type": "code",
        "colab": {}
      },
      "source": [
        "import spacy\n",
        "nlp = spacy.load('en')\n",
        "\n",
        "\n",
        "# All the processing work is done here, so it may take a while.\n",
        "roosevelt = nlp(roosevelt)\n",
        "clinton= nlp(clinton)\n",
        "cleveland = nlp(cleveland)\n",
        "buren = nlp(buren)\n",
        "fd_roose = nlp(fd_roose)\n",
        "lincoln = nlp(lincoln)\n",
        "obama = nlp(obama)\n",
        "jackson = nlp(jackson)\n",
        "johnson = nlp(johnson)\n",
        "reagan = nlp(reagan)"
      ],
      "execution_count": 0,
      "outputs": []
    },
    {
      "cell_type": "markdown",
      "metadata": {
        "id": "0erFEFB-yAt_",
        "colab_type": "text"
      },
      "source": [
        "## Exploration\n"
      ]
    },
    {
      "cell_type": "code",
      "metadata": {
        "id": "tEusFBbE9AcN",
        "colab_type": "code",
        "colab": {}
      },
      "source": [
        ""
      ],
      "execution_count": 0,
      "outputs": []
    },
    {
      "cell_type": "code",
      "metadata": {
        "id": "W0sJnwyKmkhL",
        "colab_type": "code",
        "outputId": "f13b44f0-ac89-487d-a27f-95f326e4425c",
        "colab": {
          "base_uri": "https://localhost:8080/",
          "height": 0
        }
      },
      "source": [
        "# Let's explore the objects we've built.\n",
        "print(\"The roose object is a {} object.\".format(type(roosevelt)))\n",
        "print(\"It is {} tokens long\".format(len(roosevelt)))\n",
        "print(\"The first three tokens are '{}'\".format(roosevelt[:3]))\n",
        "print(\"The type of each token is {}\".format(type(roosevelt[0])))"
      ],
      "execution_count": 36,
      "outputs": [
        {
          "output_type": "stream",
          "text": [
            "The roose object is a <class 'spacy.tokens.doc.Doc'> object.\n",
            "It is 19244 tokens long\n",
            "The first three tokens are ' the Senate'\n",
            "The type of each token is <class 'spacy.tokens.token.Token'>\n"
          ],
          "name": "stdout"
        }
      ]
    },
    {
      "cell_type": "code",
      "metadata": {
        "id": "RNQaIjM6mkhR",
        "colab_type": "code",
        "outputId": "8e6ce794-bb4b-4d14-e769-d85efda5e946",
        "colab": {
          "base_uri": "https://localhost:8080/",
          "height": 0
        }
      },
      "source": [
        "#Find the most common words\n",
        "\n",
        "from collections import Counter\n",
        "\n",
        "# Utility function to calculate how frequently words appear in the text.\n",
        "def word_frequencies(text, include_stop=True):\n",
        "    \n",
        "    # Build a list of words.\n",
        "    # Strip out punctuation and, optionally, stop words.\n",
        "    words = []\n",
        "    for token in text:\n",
        "      if token.text == 'The':\n",
        "        print(token)\n",
        "        print(token.is_stop)\n",
        "        return Counter(words)\n",
        "      if not token.is_punct and (not token.is_stop or include_stop):\n",
        "        words.append(token.text)\n",
        "            \n",
        "            \n",
        "    # Build and return a Counter object containing word counts.\n",
        "    return Counter(words)\n",
        "    \n",
        "# The most frequent words:\n",
        "roose_freq = word_frequencies(roosevelt).most_common(10)\n",
        "\n",
        "print(roose_freq)\n"
      ],
      "execution_count": 37,
      "outputs": [
        {
          "output_type": "stream",
          "text": [
            "The\n",
            "False\n",
            "[(' ', 2), ('the', 1), ('Senate', 1), ('and', 1), ('House', 1), ('of', 1), ('Representatives', 1)]\n"
          ],
          "name": "stdout"
        }
      ]
    },
    {
      "cell_type": "code",
      "metadata": {
        "id": "J0gQ3-T9V9Lr",
        "colab_type": "code",
        "outputId": "0c06386d-dff7-4146-8045-8ea0f1a77698",
        "colab": {
          "base_uri": "https://localhost:8080/",
          "height": 0
        }
      },
      "source": [
        "spacy.__version__"
      ],
      "execution_count": 38,
      "outputs": [
        {
          "output_type": "execute_result",
          "data": {
            "text/plain": [
              "'2.0.18'"
            ]
          },
          "metadata": {
            "tags": []
          },
          "execution_count": 38
        }
      ]
    },
    {
      "cell_type": "code",
      "metadata": {
        "id": "TWQEyJ-AWE2Z",
        "colab_type": "code",
        "colab": {}
      },
      "source": [
        "#!pip install spacy -U"
      ],
      "execution_count": 0,
      "outputs": []
    },
    {
      "cell_type": "markdown",
      "metadata": {
        "id": "mOZYHYb9fNBN",
        "colab_type": "text"
      },
      "source": [
        "Code still including stop words (?) based on caps. Including spaces as well"
      ]
    },
    {
      "cell_type": "code",
      "metadata": {
        "id": "Gkgahn7ge4r0",
        "colab_type": "code",
        "outputId": "692f7f5b-7526-4e46-83b3-0971bbbc759a",
        "colab": {
          "base_uri": "https://localhost:8080/",
          "height": 0
        }
      },
      "source": [
        "# Use our optional keyword argument to remove stop words.\n",
        "roose_freq = word_frequencies(roosevelt, include_stop=False).most_common(10)\n",
        "\n",
        "print('Roose:', roose_freq)\n"
      ],
      "execution_count": 40,
      "outputs": [
        {
          "output_type": "stream",
          "text": [
            "The\n",
            "False\n",
            "Roose: [(' ', 2), ('Senate', 1), ('House', 1), ('Representatives', 1)]\n"
          ],
          "name": "stdout"
        }
      ]
    },
    {
      "cell_type": "code",
      "metadata": {
        "id": "JC9og66ggaaW",
        "colab_type": "code",
        "outputId": "0ad05f16-d42b-4e0b-dfa2-2a608dff8b81",
        "colab": {
          "base_uri": "https://localhost:8080/",
          "height": 0
        }
      },
      "source": [
        "# Utility function to calculate how frequently lemas appear in the text.\n",
        "def lemma_frequencies(text, include_stop=True):\n",
        "    \n",
        "    # Build a list of lemas.\n",
        "    # Strip out punctuation and, optionally, stop words.\n",
        "    lemmas = []\n",
        "    for token in text:\n",
        "        if not token.is_punct and (not token.is_stop or include_stop):\n",
        "            lemmas.append(token.lemma_)\n",
        "            \n",
        "    # Build and return a Counter object containing word counts.\n",
        "    return Counter(lemmas)\n",
        "\n",
        "# Instantiate our list of most common lemmas.\n",
        "roose_lemma_freq = lemma_frequencies(roosevelt, include_stop=False).most_common(10)\n",
        "\n",
        "print('Roose Lemmas:', roose_lemma_freq)\n"
      ],
      "execution_count": 41,
      "outputs": [
        {
          "output_type": "stream",
          "text": [
            "Roose Lemmas: [('-PRON-', 139), ('the', 129), (' ', 119), ('man', 65), ('government', 63), ('law', 61), ('great', 54), ('work', 54), ('good', 51), ('nation', 49)]\n"
          ],
          "name": "stdout"
        }
      ]
    },
    {
      "cell_type": "code",
      "metadata": {
        "id": "XkIXyrMWg7aa",
        "colab_type": "code",
        "outputId": "5149689f-b85d-4f60-ad8a-0a9a755e6a48",
        "colab": {
          "base_uri": "https://localhost:8080/",
          "height": 0
        }
      },
      "source": [
        "# Initial exploration of sentences.\n",
        "sentences = list(roosevelt.sents)\n",
        "print(\"Roosevelt's State of the Union Address has {} sentences.\".format(len(sentences)))\n",
        "\n",
        "example_sentence = sentences[2]\n",
        "print(\"Here is an example: \\n{}\\n\".format(example_sentence))\n",
        "print('\\nParts of speech:')\n",
        "for token in example_sentence[:9]:\n",
        "    print(token.orth_, token.pos_)\n",
        "    print('\\nDependencies:')\n",
        "for token in example_sentence[:9]:\n",
        "    print(token.orth_, token.dep_, token.head.orth_)"
      ],
      "execution_count": 42,
      "outputs": [
        {
          "output_type": "stream",
          "text": [
            "Roosevelt's State of the Union Address has 535 sentences.\n",
            "Here is an example: \n",
            "Such prosperity is of course primarily due to the high individual average of our citizenship, taken together with our great natural resources; but an important factor therein is the working of our long-continued governmental policies.\n",
            "\n",
            "\n",
            "Parts of speech:\n",
            "Such ADJ\n",
            "\n",
            "Dependencies:\n",
            "prosperity NOUN\n",
            "\n",
            "Dependencies:\n",
            "is VERB\n",
            "\n",
            "Dependencies:\n",
            "of ADP\n",
            "\n",
            "Dependencies:\n",
            "course NOUN\n",
            "\n",
            "Dependencies:\n",
            "primarily ADV\n",
            "\n",
            "Dependencies:\n",
            "due ADP\n",
            "\n",
            "Dependencies:\n",
            "to ADP\n",
            "\n",
            "Dependencies:\n",
            "the DET\n",
            "\n",
            "Dependencies:\n",
            "Such amod prosperity\n",
            "prosperity nsubj is\n",
            "is ROOT is\n",
            "of prep is\n",
            "course pobj of\n",
            "primarily advmod due\n",
            "due acomp is\n",
            "to prep due\n",
            "the det average\n"
          ],
          "name": "stdout"
        }
      ]
    },
    {
      "cell_type": "code",
      "metadata": {
        "id": "usKtynxWhfE-",
        "colab_type": "code",
        "outputId": "03d95ba1-c019-4b66-a931-c43630f08cc0",
        "colab": {
          "base_uri": "https://localhost:8080/",
          "height": 0
        }
      },
      "source": [
        "# Extract the first ten entities.\n",
        "entities = list(roosevelt.ents)[0:10]\n",
        "for entity in entities:\n",
        "    print(entity.label_, ' '.join(t.orth_ for t in entity))"
      ],
      "execution_count": 43,
      "outputs": [
        {
          "output_type": "stream",
          "text": [
            "NORP  \n",
            "ORG Senate\n",
            "ORG House of Representatives\n",
            "ORG Nation\n",
            "ORG the National Government\n",
            "PERSON Battle\n",
            "ORDINAL second\n",
            "ORG Nation\n",
            "GPE States\n",
            "DATE the last half century\n"
          ],
          "name": "stdout"
        }
      ]
    },
    {
      "cell_type": "code",
      "metadata": {
        "id": "YlH3Q2X_hn7j",
        "colab_type": "code",
        "outputId": "4f1c4036-4288-4997-9322-2bd318a4c9bc",
        "colab": {
          "base_uri": "https://localhost:8080/",
          "height": 0
        }
      },
      "source": [
        "people = [entity.text for entity in list(roosevelt.ents) if entity.label_ == \"PERSON\"]\n",
        "print(set(people))"
      ],
      "execution_count": 44,
      "outputs": [
        {
          "output_type": "stream",
          "text": [
            "{'James', 'Salmon', 'Wright', 'Good Americanism', 'Powers', 'McKinley', 'Gaynor', 'Beavers', 'Sooner', 'Green', 'Battle', 'Canyon', \"Major L'Enfant\", 'Revised Statutes'}\n"
          ],
          "name": "stdout"
        }
      ]
    },
    {
      "cell_type": "code",
      "metadata": {
        "id": "L14AiuDjhI15",
        "colab_type": "code",
        "outputId": "3c4c4bca-c16a-4b62-86c9-23db7acc274f",
        "colab": {
          "base_uri": "https://localhost:8080/",
          "height": 0
        }
      },
      "source": [
        "# Look at some metrics around this sentence.\n",
        "example_words = [token for token in example_sentence if not token.is_punct]\n",
        "unique_words = set([token.text for token in example_words])\n",
        "\n",
        "print((\"There are {} words in this sentence, and {} of them are\"\n",
        "       \" unique.\").format(len(example_words), len(unique_words)))"
      ],
      "execution_count": 45,
      "outputs": [
        {
          "output_type": "stream",
          "text": [
            "There are 36 words in this sentence, and 30 of them are unique.\n"
          ],
          "name": "stdout"
        }
      ]
    },
    {
      "cell_type": "markdown",
      "metadata": {
        "id": "jyyVm7FagY13",
        "colab_type": "text"
      },
      "source": [
        ""
      ]
    },
    {
      "cell_type": "markdown",
      "metadata": {
        "id": "kna7OdUhh2Ok",
        "colab_type": "text"
      },
      "source": [
        "##Getting ready to model"
      ]
    },
    {
      "cell_type": "code",
      "metadata": {
        "id": "uW85YFaCjrvD",
        "colab_type": "code",
        "outputId": "4ecd6137-e58d-4010-db92-b9e62900bb6b",
        "colab": {
          "base_uri": "https://localhost:8080/",
          "height": 197
        }
      },
      "source": [
        "roose_sents = [[sent, \"T_Roosevelt\", 56.4, 1904, 1] for sent in roosevelt.sents]\n",
        "clint_sents = [[sent, \"Clinton\", 49.2, 1996, 1] for sent in clinton.sents]\n",
        "clev_sents = [[sent, \"Cleveland\", 48.6, 1888, 0] for sent in cleveland.sents]\n",
        "buren_sents = [[sent, \"Buren\", 46.8, 1840, 0] for sent in buren.sents]\n",
        "fd_roose_sents = [[sent, \"F_Roosevelt\", 60.2, 1936, 1] for sent in fd_roose.sents]\n",
        "linc_sents = [[sent, \"Lincoln\", 55.0, 1864, 1] for sent in lincoln.sents]\n",
        "obama_sents =[[sent, \"Obama\", 50.9, 2012, 1] for sent in obama.sents]\n",
        "jackson_sents = [[sent, \"Jackson\", 54.2, 1832, 1] for sent in jackson.sents]\n",
        "johnson_sents = [[sent, \"Johnson\", 61.1, 1964, 1] for sent in johnson.sents]\n",
        "reagan_sents = [[sent, \"Reagan\", 58.8, 1984, 1] for sent in reagan.sents]\n",
        "\n",
        "\n",
        "sentences = pd.DataFrame(roose_sents + clint_sents + clev_sents + buren_sents + fd_roose_sents + linc_sents + obama_sents + jackson_sents + johnson_sents + reagan_sents)\n",
        "sentences.head()"
      ],
      "execution_count": 6,
      "outputs": [
        {
          "output_type": "execute_result",
          "data": {
            "text/html": [
              "<div>\n",
              "<style scoped>\n",
              "    .dataframe tbody tr th:only-of-type {\n",
              "        vertical-align: middle;\n",
              "    }\n",
              "\n",
              "    .dataframe tbody tr th {\n",
              "        vertical-align: top;\n",
              "    }\n",
              "\n",
              "    .dataframe thead th {\n",
              "        text-align: right;\n",
              "    }\n",
              "</style>\n",
              "<table border=\"1\" class=\"dataframe\">\n",
              "  <thead>\n",
              "    <tr style=\"text-align: right;\">\n",
              "      <th></th>\n",
              "      <th>0</th>\n",
              "      <th>1</th>\n",
              "      <th>2</th>\n",
              "      <th>3</th>\n",
              "      <th>4</th>\n",
              "    </tr>\n",
              "  </thead>\n",
              "  <tbody>\n",
              "    <tr>\n",
              "      <th>0</th>\n",
              "      <td>( , the, Senate, and, House, of, Representativ...</td>\n",
              "      <td>T_Roosevelt</td>\n",
              "      <td>56.4</td>\n",
              "      <td>1904</td>\n",
              "      <td>1</td>\n",
              "    </tr>\n",
              "    <tr>\n",
              "      <th>1</th>\n",
              "      <td>(The, Nation, continues, to, enjoy, noteworthy...</td>\n",
              "      <td>T_Roosevelt</td>\n",
              "      <td>56.4</td>\n",
              "      <td>1904</td>\n",
              "      <td>1</td>\n",
              "    </tr>\n",
              "    <tr>\n",
              "      <th>2</th>\n",
              "      <td>(Such, prosperity, is, of, course, primarily, ...</td>\n",
              "      <td>T_Roosevelt</td>\n",
              "      <td>56.4</td>\n",
              "      <td>1904</td>\n",
              "      <td>1</td>\n",
              "    </tr>\n",
              "    <tr>\n",
              "      <th>3</th>\n",
              "      <td>(The, people, have, emphatically, expressed, t...</td>\n",
              "      <td>T_Roosevelt</td>\n",
              "      <td>56.4</td>\n",
              "      <td>1904</td>\n",
              "      <td>1</td>\n",
              "    </tr>\n",
              "    <tr>\n",
              "      <th>4</th>\n",
              "      <td>(The, enlargement, of, scope, of, the, functio...</td>\n",
              "      <td>T_Roosevelt</td>\n",
              "      <td>56.4</td>\n",
              "      <td>1904</td>\n",
              "      <td>1</td>\n",
              "    </tr>\n",
              "  </tbody>\n",
              "</table>\n",
              "</div>"
            ],
            "text/plain": [
              "                                                   0            1  ...     3  4\n",
              "0  ( , the, Senate, and, House, of, Representativ...  T_Roosevelt  ...  1904  1\n",
              "1  (The, Nation, continues, to, enjoy, noteworthy...  T_Roosevelt  ...  1904  1\n",
              "2  (Such, prosperity, is, of, course, primarily, ...  T_Roosevelt  ...  1904  1\n",
              "3  (The, people, have, emphatically, expressed, t...  T_Roosevelt  ...  1904  1\n",
              "4  (The, enlargement, of, scope, of, the, functio...  T_Roosevelt  ...  1904  1\n",
              "\n",
              "[5 rows x 5 columns]"
            ]
          },
          "metadata": {
            "tags": []
          },
          "execution_count": 6
        }
      ]
    },
    {
      "cell_type": "code",
      "metadata": {
        "id": "9JLaTL80dk3d",
        "colab_type": "code",
        "colab": {}
      },
      "source": [
        "sentences['text_sentence']= sentences[0]\n",
        "sentences['president']= sentences[1]\n",
        "sentences['popular_vote']=sentences[2]\n",
        "sentences['year']=sentences[3]\n",
        "sentences['outcome']=sentences[4]"
      ],
      "execution_count": 0,
      "outputs": []
    },
    {
      "cell_type": "code",
      "metadata": {
        "id": "SK37YWav6dSo",
        "colab_type": "code",
        "colab": {}
      },
      "source": [
        "#token.text for token in sent for sent in roosevelt.sents\n",
        "#[[token.text for token in sent] for sent in doc.sents] \n",
        "#[sent.string for sent in doc.sents] "
      ],
      "execution_count": 0,
      "outputs": []
    },
    {
      "cell_type": "code",
      "metadata": {
        "id": "AisRCcQvkQmA",
        "colab_type": "code",
        "colab": {}
      },
      "source": [
        "def bag_of_words(text):\n",
        "    \n",
        "    # Filter out punctuation and stop words.\n",
        "    allwords = [token.lemma_\n",
        "                for token in text\n",
        "                if not token.is_punct\n",
        "                and not token.is_stop]\n",
        "    \n",
        "    # Return the most common words.\n",
        "    return [item[0] for item in Counter(allwords).most_common(2000)]\n",
        "    \n",
        "\n",
        "# Creates a data frame with features for each word in our common word set.\n",
        "# Each value is the count of the times the word appears in each sentence.\n",
        "def bow_features(sentences, common_words):\n",
        "    \n",
        "    # Scaffold the data frame and initialize counts to zero.\n",
        "    df = pd.DataFrame(columns=common_words)\n",
        "    df['text_sentence'] = sentences[0]\n",
        "    df['president'] = sentences[1]\n",
        "    df['popular_vote'] = sentences[2]\n",
        "    df['year']= sentences[3]\n",
        "    df['outcome'] = sentences[4]\n",
        "    df.loc[:, common_words] = 0\n",
        "    \n",
        "    # Process each row, counting the occurrence of words in each sentence.\n",
        "    for i, sentence in enumerate(df['text_sentence']):\n",
        "        \n",
        "        # Convert the sentence to lemmas, then filter out punctuation,\n",
        "        # stop words, and uncommon words.\n",
        "        words = [token.lemma_\n",
        "                 for token in sentence\n",
        "                 if (\n",
        "                     not token.is_punct\n",
        "                     and not token.is_stop\n",
        "                     and token.lemma_ in common_words\n",
        "                 )]\n",
        "        \n",
        "        # Populate the row with word counts.\n",
        "        for word in words:\n",
        "            df.loc[i, word] += 1\n",
        "        \n",
        "        # This counter is just to make sure the kernel didn't hang.\n",
        "        if i % 50 == 0:\n",
        "            print(\"Processing row {}\".format(i))\n",
        "            \n",
        "    return df\n",
        "\n",
        "# Set up the bags.\n",
        "roose_words = bag_of_words(roosevelt)\n",
        "clint_words = bag_of_words(clinton)\n",
        "clev_words = bag_of_words(cleveland)\n",
        "bur_words = bag_of_words(buren)\n",
        "fd_roose_words = bag_of_words(fd_roose)\n",
        "linc_words = bag_of_words(lincoln)\n",
        "obam_words = bag_of_words(obama)\n",
        "jackson_words = bag_of_words(jackson)\n",
        "john_words = bag_of_words(johnson)\n",
        "reagan_words = bag_of_words(reagan)\n",
        "\n",
        "\n",
        "# Combine bags to create a set of unique words.\n",
        "common_words = set(roose_words + clint_words + clev_words + bur_words + fd_roose_words + linc_words + obam_words + jackson_words + john_words + reagan_words)"
      ],
      "execution_count": 0,
      "outputs": []
    },
    {
      "cell_type": "code",
      "metadata": {
        "id": "eIu-5YddJ8Ku",
        "colab_type": "code",
        "outputId": "0518e4c0-b253-4732-c582-914566d4ba05",
        "colab": {
          "base_uri": "https://localhost:8080/",
          "height": 1413
        }
      },
      "source": [
        "word_counts = bow_features(sentences, common_words)\n",
        "word_counts.head()"
      ],
      "execution_count": 9,
      "outputs": [
        {
          "output_type": "stream",
          "text": [
            "Processing row 0\n",
            "Processing row 50\n",
            "Processing row 100\n",
            "Processing row 150\n",
            "Processing row 200\n",
            "Processing row 250\n",
            "Processing row 300\n",
            "Processing row 350\n",
            "Processing row 400\n",
            "Processing row 450\n",
            "Processing row 500\n",
            "Processing row 550\n",
            "Processing row 600\n",
            "Processing row 650\n",
            "Processing row 700\n",
            "Processing row 750\n",
            "Processing row 800\n",
            "Processing row 850\n",
            "Processing row 900\n",
            "Processing row 950\n",
            "Processing row 1000\n",
            "Processing row 1050\n",
            "Processing row 1100\n",
            "Processing row 1150\n",
            "Processing row 1200\n",
            "Processing row 1250\n",
            "Processing row 1300\n",
            "Processing row 1350\n",
            "Processing row 1400\n",
            "Processing row 1450\n",
            "Processing row 1500\n",
            "Processing row 1550\n",
            "Processing row 1600\n",
            "Processing row 1650\n",
            "Processing row 1700\n",
            "Processing row 1750\n",
            "Processing row 1800\n",
            "Processing row 1850\n",
            "Processing row 1900\n",
            "Processing row 1950\n",
            "Processing row 2000\n",
            "Processing row 2050\n",
            "Processing row 2100\n",
            "Processing row 2150\n",
            "Processing row 2200\n",
            "Processing row 2250\n",
            "Processing row 2300\n",
            "Processing row 2350\n",
            "Processing row 2400\n",
            "Processing row 2450\n",
            "Processing row 2500\n",
            "Processing row 2550\n",
            "Processing row 2600\n",
            "Processing row 2650\n",
            "Processing row 2700\n",
            "Processing row 2750\n"
          ],
          "name": "stdout"
        },
        {
          "output_type": "execute_result",
          "data": {
            "text/html": [
              "<div>\n",
              "<style scoped>\n",
              "    .dataframe tbody tr th:only-of-type {\n",
              "        vertical-align: middle;\n",
              "    }\n",
              "\n",
              "    .dataframe tbody tr th {\n",
              "        vertical-align: top;\n",
              "    }\n",
              "\n",
              "    .dataframe thead th {\n",
              "        text-align: right;\n",
              "    }\n",
              "</style>\n",
              "<table border=\"1\" class=\"dataframe\">\n",
              "  <thead>\n",
              "    <tr style=\"text-align: right;\">\n",
              "      <th></th>\n",
              "      <th>commence</th>\n",
              "      <th>unencumbered</th>\n",
              "      <th>emigration</th>\n",
              "      <th>individualism</th>\n",
              "      <th>thousand</th>\n",
              "      <th>introduce</th>\n",
              "      <th>bondage</th>\n",
              "      <th>suppression</th>\n",
              "      <th>preexist</th>\n",
              "      <th>innocent</th>\n",
              "      <th>confusion</th>\n",
              "      <th>24,549</th>\n",
              "      <th>above</th>\n",
              "      <th>two</th>\n",
              "      <th>cairo</th>\n",
              "      <th>bullet</th>\n",
              "      <th>custom</th>\n",
              "      <th>breadwinner</th>\n",
              "      <th>hoover</th>\n",
              "      <th>plant</th>\n",
              "      <th>economically</th>\n",
              "      <th>invite</th>\n",
              "      <th>businessman</th>\n",
              "      <th>subordinate</th>\n",
              "      <th>alternative</th>\n",
              "      <th>everybody</th>\n",
              "      <th>precautionary</th>\n",
              "      <th>endless</th>\n",
              "      <th>purchasing</th>\n",
              "      <th>medicare</th>\n",
              "      <th>hiring</th>\n",
              "      <th>oblige</th>\n",
              "      <th>oppression</th>\n",
              "      <th>tv</th>\n",
              "      <th>discreet</th>\n",
              "      <th>north</th>\n",
              "      <th>heroism</th>\n",
              "      <th>ancestor</th>\n",
              "      <th>arbiter</th>\n",
              "      <th>intercourse</th>\n",
              "      <th>...</th>\n",
              "      <th>owing</th>\n",
              "      <th>wag</th>\n",
              "      <th>maine</th>\n",
              "      <th>civil</th>\n",
              "      <th>submission</th>\n",
              "      <th>up</th>\n",
              "      <th>entangling</th>\n",
              "      <th>sorrow</th>\n",
              "      <th>tool</th>\n",
              "      <th>vest</th>\n",
              "      <th>armed</th>\n",
              "      <th>exempt</th>\n",
              "      <th>walking</th>\n",
              "      <th>body</th>\n",
              "      <th>march</th>\n",
              "      <th>protract</th>\n",
              "      <th>lasting</th>\n",
              "      <th>party</th>\n",
              "      <th>protestant</th>\n",
              "      <th>152,362,116.70</th>\n",
              "      <th>fullness</th>\n",
              "      <th>african</th>\n",
              "      <th>west</th>\n",
              "      <th>1972</th>\n",
              "      <th>satisfy</th>\n",
              "      <th>presently</th>\n",
              "      <th>exceptional</th>\n",
              "      <th>warrant</th>\n",
              "      <th>complain</th>\n",
              "      <th>bond</th>\n",
              "      <th>271</th>\n",
              "      <th>canada</th>\n",
              "      <th>rewarding</th>\n",
              "      <th>murderous</th>\n",
              "      <th>amply</th>\n",
              "      <th>prerequisite</th>\n",
              "      <th>strand</th>\n",
              "      <th>bearing</th>\n",
              "      <th>text_sentence</th>\n",
              "      <th>popular_vote</th>\n",
              "    </tr>\n",
              "  </thead>\n",
              "  <tbody>\n",
              "    <tr>\n",
              "      <th>0</th>\n",
              "      <td>0</td>\n",
              "      <td>0</td>\n",
              "      <td>0</td>\n",
              "      <td>0</td>\n",
              "      <td>0</td>\n",
              "      <td>0</td>\n",
              "      <td>0</td>\n",
              "      <td>0</td>\n",
              "      <td>0</td>\n",
              "      <td>0</td>\n",
              "      <td>0</td>\n",
              "      <td>0</td>\n",
              "      <td>0</td>\n",
              "      <td>0</td>\n",
              "      <td>0</td>\n",
              "      <td>0</td>\n",
              "      <td>0</td>\n",
              "      <td>0</td>\n",
              "      <td>0</td>\n",
              "      <td>0</td>\n",
              "      <td>0</td>\n",
              "      <td>0</td>\n",
              "      <td>0</td>\n",
              "      <td>0</td>\n",
              "      <td>0</td>\n",
              "      <td>0</td>\n",
              "      <td>0</td>\n",
              "      <td>0</td>\n",
              "      <td>0</td>\n",
              "      <td>0</td>\n",
              "      <td>0</td>\n",
              "      <td>0</td>\n",
              "      <td>0</td>\n",
              "      <td>0</td>\n",
              "      <td>0</td>\n",
              "      <td>0</td>\n",
              "      <td>0</td>\n",
              "      <td>0</td>\n",
              "      <td>0</td>\n",
              "      <td>0</td>\n",
              "      <td>...</td>\n",
              "      <td>0</td>\n",
              "      <td>0</td>\n",
              "      <td>0</td>\n",
              "      <td>0</td>\n",
              "      <td>0</td>\n",
              "      <td>0</td>\n",
              "      <td>0</td>\n",
              "      <td>0</td>\n",
              "      <td>0</td>\n",
              "      <td>0</td>\n",
              "      <td>0</td>\n",
              "      <td>0</td>\n",
              "      <td>0</td>\n",
              "      <td>0</td>\n",
              "      <td>0</td>\n",
              "      <td>0</td>\n",
              "      <td>0</td>\n",
              "      <td>0</td>\n",
              "      <td>0</td>\n",
              "      <td>0</td>\n",
              "      <td>0</td>\n",
              "      <td>0</td>\n",
              "      <td>0</td>\n",
              "      <td>0</td>\n",
              "      <td>0</td>\n",
              "      <td>0</td>\n",
              "      <td>0</td>\n",
              "      <td>0</td>\n",
              "      <td>0</td>\n",
              "      <td>0</td>\n",
              "      <td>0</td>\n",
              "      <td>0</td>\n",
              "      <td>0</td>\n",
              "      <td>0</td>\n",
              "      <td>0</td>\n",
              "      <td>0</td>\n",
              "      <td>0</td>\n",
              "      <td>0</td>\n",
              "      <td>( , the, Senate, and, House, of, Representativ...</td>\n",
              "      <td>56.4</td>\n",
              "    </tr>\n",
              "    <tr>\n",
              "      <th>1</th>\n",
              "      <td>0</td>\n",
              "      <td>0</td>\n",
              "      <td>0</td>\n",
              "      <td>0</td>\n",
              "      <td>0</td>\n",
              "      <td>0</td>\n",
              "      <td>0</td>\n",
              "      <td>0</td>\n",
              "      <td>0</td>\n",
              "      <td>0</td>\n",
              "      <td>0</td>\n",
              "      <td>0</td>\n",
              "      <td>0</td>\n",
              "      <td>0</td>\n",
              "      <td>0</td>\n",
              "      <td>0</td>\n",
              "      <td>0</td>\n",
              "      <td>0</td>\n",
              "      <td>0</td>\n",
              "      <td>0</td>\n",
              "      <td>0</td>\n",
              "      <td>0</td>\n",
              "      <td>0</td>\n",
              "      <td>0</td>\n",
              "      <td>0</td>\n",
              "      <td>0</td>\n",
              "      <td>0</td>\n",
              "      <td>0</td>\n",
              "      <td>0</td>\n",
              "      <td>0</td>\n",
              "      <td>0</td>\n",
              "      <td>0</td>\n",
              "      <td>0</td>\n",
              "      <td>0</td>\n",
              "      <td>0</td>\n",
              "      <td>0</td>\n",
              "      <td>0</td>\n",
              "      <td>0</td>\n",
              "      <td>0</td>\n",
              "      <td>0</td>\n",
              "      <td>...</td>\n",
              "      <td>0</td>\n",
              "      <td>0</td>\n",
              "      <td>0</td>\n",
              "      <td>0</td>\n",
              "      <td>0</td>\n",
              "      <td>0</td>\n",
              "      <td>0</td>\n",
              "      <td>0</td>\n",
              "      <td>0</td>\n",
              "      <td>0</td>\n",
              "      <td>0</td>\n",
              "      <td>0</td>\n",
              "      <td>0</td>\n",
              "      <td>0</td>\n",
              "      <td>0</td>\n",
              "      <td>0</td>\n",
              "      <td>0</td>\n",
              "      <td>0</td>\n",
              "      <td>0</td>\n",
              "      <td>0</td>\n",
              "      <td>0</td>\n",
              "      <td>0</td>\n",
              "      <td>0</td>\n",
              "      <td>0</td>\n",
              "      <td>0</td>\n",
              "      <td>0</td>\n",
              "      <td>0</td>\n",
              "      <td>0</td>\n",
              "      <td>0</td>\n",
              "      <td>0</td>\n",
              "      <td>0</td>\n",
              "      <td>0</td>\n",
              "      <td>0</td>\n",
              "      <td>0</td>\n",
              "      <td>0</td>\n",
              "      <td>0</td>\n",
              "      <td>0</td>\n",
              "      <td>0</td>\n",
              "      <td>(The, Nation, continues, to, enjoy, noteworthy...</td>\n",
              "      <td>56.4</td>\n",
              "    </tr>\n",
              "    <tr>\n",
              "      <th>2</th>\n",
              "      <td>0</td>\n",
              "      <td>0</td>\n",
              "      <td>0</td>\n",
              "      <td>0</td>\n",
              "      <td>0</td>\n",
              "      <td>0</td>\n",
              "      <td>0</td>\n",
              "      <td>0</td>\n",
              "      <td>0</td>\n",
              "      <td>0</td>\n",
              "      <td>0</td>\n",
              "      <td>0</td>\n",
              "      <td>0</td>\n",
              "      <td>0</td>\n",
              "      <td>0</td>\n",
              "      <td>0</td>\n",
              "      <td>0</td>\n",
              "      <td>0</td>\n",
              "      <td>0</td>\n",
              "      <td>0</td>\n",
              "      <td>0</td>\n",
              "      <td>0</td>\n",
              "      <td>0</td>\n",
              "      <td>0</td>\n",
              "      <td>0</td>\n",
              "      <td>0</td>\n",
              "      <td>0</td>\n",
              "      <td>0</td>\n",
              "      <td>0</td>\n",
              "      <td>0</td>\n",
              "      <td>0</td>\n",
              "      <td>0</td>\n",
              "      <td>0</td>\n",
              "      <td>0</td>\n",
              "      <td>0</td>\n",
              "      <td>0</td>\n",
              "      <td>0</td>\n",
              "      <td>0</td>\n",
              "      <td>0</td>\n",
              "      <td>0</td>\n",
              "      <td>...</td>\n",
              "      <td>0</td>\n",
              "      <td>0</td>\n",
              "      <td>0</td>\n",
              "      <td>0</td>\n",
              "      <td>0</td>\n",
              "      <td>0</td>\n",
              "      <td>0</td>\n",
              "      <td>0</td>\n",
              "      <td>0</td>\n",
              "      <td>0</td>\n",
              "      <td>0</td>\n",
              "      <td>0</td>\n",
              "      <td>0</td>\n",
              "      <td>0</td>\n",
              "      <td>0</td>\n",
              "      <td>0</td>\n",
              "      <td>0</td>\n",
              "      <td>0</td>\n",
              "      <td>0</td>\n",
              "      <td>0</td>\n",
              "      <td>0</td>\n",
              "      <td>0</td>\n",
              "      <td>0</td>\n",
              "      <td>0</td>\n",
              "      <td>0</td>\n",
              "      <td>0</td>\n",
              "      <td>0</td>\n",
              "      <td>0</td>\n",
              "      <td>0</td>\n",
              "      <td>0</td>\n",
              "      <td>0</td>\n",
              "      <td>0</td>\n",
              "      <td>0</td>\n",
              "      <td>0</td>\n",
              "      <td>0</td>\n",
              "      <td>0</td>\n",
              "      <td>0</td>\n",
              "      <td>0</td>\n",
              "      <td>(Such, prosperity, is, of, course, primarily, ...</td>\n",
              "      <td>56.4</td>\n",
              "    </tr>\n",
              "    <tr>\n",
              "      <th>3</th>\n",
              "      <td>0</td>\n",
              "      <td>0</td>\n",
              "      <td>0</td>\n",
              "      <td>0</td>\n",
              "      <td>0</td>\n",
              "      <td>0</td>\n",
              "      <td>0</td>\n",
              "      <td>0</td>\n",
              "      <td>0</td>\n",
              "      <td>0</td>\n",
              "      <td>0</td>\n",
              "      <td>0</td>\n",
              "      <td>0</td>\n",
              "      <td>0</td>\n",
              "      <td>0</td>\n",
              "      <td>0</td>\n",
              "      <td>0</td>\n",
              "      <td>0</td>\n",
              "      <td>0</td>\n",
              "      <td>0</td>\n",
              "      <td>0</td>\n",
              "      <td>0</td>\n",
              "      <td>0</td>\n",
              "      <td>0</td>\n",
              "      <td>0</td>\n",
              "      <td>0</td>\n",
              "      <td>0</td>\n",
              "      <td>0</td>\n",
              "      <td>0</td>\n",
              "      <td>0</td>\n",
              "      <td>0</td>\n",
              "      <td>0</td>\n",
              "      <td>0</td>\n",
              "      <td>0</td>\n",
              "      <td>0</td>\n",
              "      <td>0</td>\n",
              "      <td>0</td>\n",
              "      <td>0</td>\n",
              "      <td>0</td>\n",
              "      <td>0</td>\n",
              "      <td>...</td>\n",
              "      <td>0</td>\n",
              "      <td>0</td>\n",
              "      <td>0</td>\n",
              "      <td>0</td>\n",
              "      <td>0</td>\n",
              "      <td>0</td>\n",
              "      <td>0</td>\n",
              "      <td>0</td>\n",
              "      <td>0</td>\n",
              "      <td>0</td>\n",
              "      <td>0</td>\n",
              "      <td>0</td>\n",
              "      <td>0</td>\n",
              "      <td>0</td>\n",
              "      <td>0</td>\n",
              "      <td>0</td>\n",
              "      <td>0</td>\n",
              "      <td>0</td>\n",
              "      <td>0</td>\n",
              "      <td>0</td>\n",
              "      <td>0</td>\n",
              "      <td>0</td>\n",
              "      <td>0</td>\n",
              "      <td>0</td>\n",
              "      <td>0</td>\n",
              "      <td>0</td>\n",
              "      <td>0</td>\n",
              "      <td>0</td>\n",
              "      <td>0</td>\n",
              "      <td>0</td>\n",
              "      <td>0</td>\n",
              "      <td>0</td>\n",
              "      <td>0</td>\n",
              "      <td>0</td>\n",
              "      <td>0</td>\n",
              "      <td>0</td>\n",
              "      <td>0</td>\n",
              "      <td>0</td>\n",
              "      <td>(The, people, have, emphatically, expressed, t...</td>\n",
              "      <td>56.4</td>\n",
              "    </tr>\n",
              "    <tr>\n",
              "      <th>4</th>\n",
              "      <td>0</td>\n",
              "      <td>0</td>\n",
              "      <td>0</td>\n",
              "      <td>0</td>\n",
              "      <td>0</td>\n",
              "      <td>0</td>\n",
              "      <td>0</td>\n",
              "      <td>0</td>\n",
              "      <td>0</td>\n",
              "      <td>0</td>\n",
              "      <td>0</td>\n",
              "      <td>0</td>\n",
              "      <td>0</td>\n",
              "      <td>0</td>\n",
              "      <td>0</td>\n",
              "      <td>0</td>\n",
              "      <td>0</td>\n",
              "      <td>0</td>\n",
              "      <td>0</td>\n",
              "      <td>0</td>\n",
              "      <td>0</td>\n",
              "      <td>0</td>\n",
              "      <td>0</td>\n",
              "      <td>0</td>\n",
              "      <td>0</td>\n",
              "      <td>0</td>\n",
              "      <td>0</td>\n",
              "      <td>0</td>\n",
              "      <td>0</td>\n",
              "      <td>0</td>\n",
              "      <td>0</td>\n",
              "      <td>0</td>\n",
              "      <td>0</td>\n",
              "      <td>0</td>\n",
              "      <td>0</td>\n",
              "      <td>0</td>\n",
              "      <td>0</td>\n",
              "      <td>0</td>\n",
              "      <td>0</td>\n",
              "      <td>0</td>\n",
              "      <td>...</td>\n",
              "      <td>0</td>\n",
              "      <td>0</td>\n",
              "      <td>0</td>\n",
              "      <td>0</td>\n",
              "      <td>0</td>\n",
              "      <td>0</td>\n",
              "      <td>0</td>\n",
              "      <td>0</td>\n",
              "      <td>0</td>\n",
              "      <td>0</td>\n",
              "      <td>0</td>\n",
              "      <td>0</td>\n",
              "      <td>0</td>\n",
              "      <td>0</td>\n",
              "      <td>0</td>\n",
              "      <td>0</td>\n",
              "      <td>0</td>\n",
              "      <td>0</td>\n",
              "      <td>0</td>\n",
              "      <td>0</td>\n",
              "      <td>0</td>\n",
              "      <td>0</td>\n",
              "      <td>0</td>\n",
              "      <td>0</td>\n",
              "      <td>0</td>\n",
              "      <td>0</td>\n",
              "      <td>0</td>\n",
              "      <td>0</td>\n",
              "      <td>0</td>\n",
              "      <td>0</td>\n",
              "      <td>0</td>\n",
              "      <td>0</td>\n",
              "      <td>0</td>\n",
              "      <td>0</td>\n",
              "      <td>0</td>\n",
              "      <td>0</td>\n",
              "      <td>0</td>\n",
              "      <td>0</td>\n",
              "      <td>(The, enlargement, of, scope, of, the, functio...</td>\n",
              "      <td>56.4</td>\n",
              "    </tr>\n",
              "  </tbody>\n",
              "</table>\n",
              "<p>5 rows × 5618 columns</p>\n",
              "</div>"
            ],
            "text/plain": [
              "   commence  ...  popular_vote\n",
              "0         0  ...          56.4\n",
              "1         0  ...          56.4\n",
              "2         0  ...          56.4\n",
              "3         0  ...          56.4\n",
              "4         0  ...          56.4\n",
              "\n",
              "[5 rows x 5618 columns]"
            ]
          },
          "metadata": {
            "tags": []
          },
          "execution_count": 9
        }
      ]
    },
    {
      "cell_type": "markdown",
      "metadata": {
        "id": "kFvQWHbquMxH",
        "colab_type": "text"
      },
      "source": [
        "# Cluster work"
      ]
    },
    {
      "cell_type": "code",
      "metadata": {
        "id": "_ULWsT5cwFK3",
        "colab_type": "code",
        "colab": {}
      },
      "source": [
        "target = sentences[1]\n",
        "data = np.array(word_counts.drop(['text_sentence','president', 'year', 'popular_vote', 'outcome'], 1))\n",
        "#data = np.array(word_counts.drop(['text_sentence','president'], 1))"
      ],
      "execution_count": 0,
      "outputs": []
    },
    {
      "cell_type": "markdown",
      "metadata": {
        "id": "XoKUwL73CsQL",
        "colab_type": "text"
      },
      "source": [
        "Question:\n",
        "\n",
        "*   Why do we want this as an array instead of a dataframe?\n",
        "\n",
        "\n"
      ]
    },
    {
      "cell_type": "code",
      "metadata": {
        "id": "8GKiVcJIm_Ph",
        "colab_type": "code",
        "colab": {}
      },
      "source": [
        "len(target)"
      ],
      "execution_count": 0,
      "outputs": []
    },
    {
      "cell_type": "code",
      "metadata": {
        "id": "jJPmmNEmznFm",
        "colab_type": "code",
        "colab": {}
      },
      "source": [
        "sentences[1].value_counts()"
      ],
      "execution_count": 0,
      "outputs": []
    },
    {
      "cell_type": "markdown",
      "metadata": {
        "id": "0866a3FJg4nB",
        "colab_type": "text"
      },
      "source": [
        "Divide into training and test sets and normalize X. Y_pred is a fitting to KMeans?"
      ]
    },
    {
      "cell_type": "code",
      "metadata": {
        "id": "X_EyoB9PuTI8",
        "colab_type": "code",
        "colab": {
          "base_uri": "https://localhost:8080/",
          "height": 33
        },
        "outputId": "8b773a8c-a610-4aae-aca2-e5b4b77870af"
      },
      "source": [
        "from sklearn.cluster import KMeans\n",
        "from sklearn.preprocessing import normalize\n",
        "from sklearn.decomposition import PCA\n",
        "from sklearn.cluster import MiniBatchKMeans\n",
        "from sklearn.model_selection import train_test_split\n",
        "\n",
        "X_train, X_test, y_train, y_test = train_test_split(data, target, test_size = .25, random_state = 42 )\n",
        "\n",
        "X_norm = normalize(X_train)\n",
        "\n",
        "# Reduce it to two components.\n",
        "#X_pca = PCA(2).fit_transform(X_norm)\n",
        "\n",
        "# Calculate predicted values.\n",
        "y_pred_kmeans = KMeans(n_clusters=10, random_state=42).fit_predict(X_norm)\n",
        "\n",
        "# Plot the solution.\n",
        "# plt.scatter(X_pca[:, 0], X_pca[:, 1], c=y_pred)\n",
        "# plt.show()\n",
        "\n",
        "# Check the solution against the data.\n",
        "# print('Comparing k-means clusters against the data:')\n",
        "# print(pd.crosstab(y_pred, y_train))\n",
        "len(X_norm)"
      ],
      "execution_count": 12,
      "outputs": [
        {
          "output_type": "execute_result",
          "data": {
            "text/plain": [
              "2093"
            ]
          },
          "metadata": {
            "tags": []
          },
          "execution_count": 12
        }
      ]
    },
    {
      "cell_type": "markdown",
      "metadata": {
        "id": "ttgYmaTSz0jL",
        "colab_type": "text"
      },
      "source": [
        "#Normalizing x reduces it's size so it can't fit into the models with y_train"
      ]
    },
    {
      "cell_type": "markdown",
      "metadata": {
        "id": "fBdO1F5arDMz",
        "colab_type": "text"
      },
      "source": [
        "#Makes sense to me to use Lasso to Reduce the features"
      ]
    },
    {
      "cell_type": "code",
      "metadata": {
        "id": "36CAEJ5xt6XX",
        "colab_type": "code",
        "colab": {}
      },
      "source": [
        "\n",
        "\n",
        "# #Numeric target for lasso\n",
        "# y_train_lass = sentences[3]\n",
        "\n",
        "\n",
        "# #turn y_train_lass into an array so it works in model\n",
        "# from numpy import array\n",
        "# y_tr_lass = array(y_train_lass)\n",
        "\n",
        "# y_tr_lass.reshape(1,-1)\n",
        "\n",
        "# print (X_train.shape)\n",
        "# print (y_tr_lass.shape)"
      ],
      "execution_count": 0,
      "outputs": []
    },
    {
      "cell_type": "code",
      "metadata": {
        "id": "RWP4jKgUrJBs",
        "colab_type": "code",
        "colab": {
          "base_uri": "https://localhost:8080/",
          "height": 33
        },
        "outputId": "8819ad65-e43c-427e-b1fb-bb68d93c02f7"
      },
      "source": [
        "from sklearn import linear_model\n",
        "lass = linear_model.Lasso(alpha=.35)   #will need to optimize. see coral code\n",
        "lassfit = lass.fit(data, sentences[3])\n",
        "\n",
        "print('R^2 for Lasso:', lass.score(data, sentences[3]))\n"
      ],
      "execution_count": 13,
      "outputs": [
        {
          "output_type": "stream",
          "text": [
            "R^2 for Lasso: 0.4319883354203958\n"
          ],
          "name": "stdout"
        }
      ]
    },
    {
      "cell_type": "code",
      "metadata": {
        "id": "APwgbtBj12H_",
        "colab_type": "code",
        "colab": {
          "base_uri": "https://localhost:8080/",
          "height": 262
        },
        "outputId": "8d070aed-73db-4a8a-9946-a089987cc6d5"
      },
      "source": [
        "\n",
        "from sklearn import ensemble\n",
        "RandForest= ensemble.RandomForestRegressor()\n",
        "\n",
        "RandForest.fit(data, sentences[3])\n",
        "\n",
        "RandForest.feature_importances_\n",
        "RandForest_ft_series = pd.Series(data=RandForest.feature_importances_, index=data.columns)\n",
        "###################################\n",
        "sorted_series = RandForest_ft_series.sort_values(ascending = False)\n",
        "sorted_series\n"
      ],
      "execution_count": 14,
      "outputs": [
        {
          "output_type": "stream",
          "text": [
            "/usr/local/lib/python3.6/dist-packages/sklearn/ensemble/forest.py:245: FutureWarning: The default value of n_estimators will change from 10 in version 0.20 to 100 in 0.22.\n",
            "  \"10 in version 0.20 to 100 in 0.22.\", FutureWarning)\n"
          ],
          "name": "stderr"
        },
        {
          "output_type": "error",
          "ename": "AttributeError",
          "evalue": "ignored",
          "traceback": [
            "\u001b[0;31m---------------------------------------------------------------------------\u001b[0m",
            "\u001b[0;31mAttributeError\u001b[0m                            Traceback (most recent call last)",
            "\u001b[0;32m<ipython-input-14-9ba5647c7e4a>\u001b[0m in \u001b[0;36m<module>\u001b[0;34m()\u001b[0m\n\u001b[1;32m      6\u001b[0m \u001b[0;34m\u001b[0m\u001b[0m\n\u001b[1;32m      7\u001b[0m \u001b[0mRandForest\u001b[0m\u001b[0;34m.\u001b[0m\u001b[0mfeature_importances_\u001b[0m\u001b[0;34m\u001b[0m\u001b[0;34m\u001b[0m\u001b[0m\n\u001b[0;32m----> 8\u001b[0;31m \u001b[0mRandForest_ft_series\u001b[0m \u001b[0;34m=\u001b[0m \u001b[0mpd\u001b[0m\u001b[0;34m.\u001b[0m\u001b[0mSeries\u001b[0m\u001b[0;34m(\u001b[0m\u001b[0mdata\u001b[0m\u001b[0;34m=\u001b[0m\u001b[0mRandForest\u001b[0m\u001b[0;34m.\u001b[0m\u001b[0mfeature_importances_\u001b[0m\u001b[0;34m,\u001b[0m \u001b[0mindex\u001b[0m\u001b[0;34m=\u001b[0m\u001b[0mdata\u001b[0m\u001b[0;34m.\u001b[0m\u001b[0mcolumns\u001b[0m\u001b[0;34m)\u001b[0m\u001b[0;34m\u001b[0m\u001b[0;34m\u001b[0m\u001b[0m\n\u001b[0m\u001b[1;32m      9\u001b[0m \u001b[0;31m###################################\u001b[0m\u001b[0;34m\u001b[0m\u001b[0;34m\u001b[0m\u001b[0;34m\u001b[0m\u001b[0m\n\u001b[1;32m     10\u001b[0m \u001b[0msorted_series\u001b[0m \u001b[0;34m=\u001b[0m \u001b[0mRandForest_ft_series\u001b[0m\u001b[0;34m.\u001b[0m\u001b[0msort_values\u001b[0m\u001b[0;34m(\u001b[0m\u001b[0mascending\u001b[0m \u001b[0;34m=\u001b[0m \u001b[0;32mFalse\u001b[0m\u001b[0;34m)\u001b[0m\u001b[0;34m\u001b[0m\u001b[0;34m\u001b[0m\u001b[0m\n",
            "\u001b[0;31mAttributeError\u001b[0m: 'numpy.ndarray' object has no attribute 'columns'"
          ]
        }
      ]
    },
    {
      "cell_type": "markdown",
      "metadata": {
        "id": "yuSHbF1biWYb",
        "colab_type": "text"
      },
      "source": [
        "#Evaluating how many clusters are needed."
      ]
    },
    {
      "cell_type": "code",
      "metadata": {
        "id": "d_fo2nmOVNa9",
        "colab_type": "code",
        "colab": {}
      },
      "source": [
        "from sklearn.model_selection import train_test_split\n",
        "\n",
        "X_half1, X_half2, X_pcahalf1, X_pcahalf2 = train_test_split(\n",
        "    X_norm,\n",
        "    y_pred,\n",
        "    test_size=0.5,\n",
        "    random_state=42)\n",
        "\n",
        "\n",
        "X1, X2, X_pca1, X_pca2 = train_test_split(\n",
        "    X_half1,\n",
        "    X_pcahalf1,\n",
        "    test_size=0.5,\n",
        "    random_state=42)\n",
        "X3, X4, X_pca3, X_pca4 = train_test_split(\n",
        "    X_half2,\n",
        "    X_pcahalf2,\n",
        "    test_size=0.5,\n",
        "    random_state=42)\n"
      ],
      "execution_count": 0,
      "outputs": []
    },
    {
      "cell_type": "code",
      "metadata": {
        "id": "wGVf3UJ2VefU",
        "colab_type": "code",
        "outputId": "7654d65e-8c3f-457f-b973-c5d28eea7cb1",
        "colab": {
          "base_uri": "https://localhost:8080/",
          "height": 150
        }
      },
      "source": [
        "#KMeans: Checking consistency of coefficients for 4 clusters with Silhouette\n",
        "\n",
        "from sklearn import metrics\n",
        "from sklearn.metrics import pairwise_distances\n",
        "\n",
        "\n",
        "sil_3 = []\n",
        "\n",
        "for sample in [X1, X2, X3, X4]:\n",
        "    model = KMeans(n_clusters=3, random_state=42).fit(sample)\n",
        "    labels = model.labels_\n",
        "    sil_3.append(metrics.silhouette_score(sample, labels, metric='euclidean'))\n",
        "\n",
        "    \n",
        "sil_4 = []\n",
        "\n",
        "for sample in [X1, X2, X3, X4]:\n",
        "    model = KMeans(n_clusters=4, random_state=42).fit(sample)\n",
        "    labels = model.labels_\n",
        "    sil_4.append(metrics.silhouette_score(sample, labels, metric='euclidean'))\n",
        "    \n",
        "    \n",
        "sil_5 = []\n",
        "\n",
        "for sample in [X1, X2, X3, X4]:\n",
        "    model = KMeans(n_clusters=5, random_state=42).fit(sample)\n",
        "    labels = model.labels_\n",
        "    sil_5.append(metrics.silhouette_score(sample, labels, metric='euclidean'))\n",
        "    \n",
        "\n",
        "print('Cross val of 3 clusters:', sil_3)\n",
        "print('Stdev of  clusters:', np.std(sil_3))\n",
        "    \n",
        "print('\\nCross val of 4 clusters:', sil_4)\n",
        "print('Stdev of 4 clusters:', np.std(sil_4))\n",
        "\n",
        "    \n",
        "print('\\nCross val of 5 clusters:', sil_5)\n",
        "print('Stdev of 5 clusters:', np.std(sil_5))\n",
        "#"
      ],
      "execution_count": 20,
      "outputs": [
        {
          "output_type": "stream",
          "text": [
            "Cross val of 3 clusters: [0.02033625351323893, 0.019642051304178003, 0.022470261963021227, 0.0227738892373093]\n",
            "Stdev of  clusters: 0.0013434412572279986\n",
            "\n",
            "Cross val of 4 clusters: [0.023143748951572552, 0.021001553522634588, 0.024509632316105607, 0.02158507482286717]\n",
            "Stdev of 4 clusters: 0.0013712278740477828\n",
            "\n",
            "Cross val of 5 clusters: [0.02751340824871659, 0.019467578878156054, 0.015000233118155218, 0.020132147029939495]\n",
            "Stdev of 5 clusters: 0.004489803090433255\n"
          ],
          "name": "stdout"
        }
      ]
    },
    {
      "cell_type": "code",
      "metadata": {
        "id": "U3_pMiz9uSm8",
        "colab_type": "code",
        "outputId": "9c3721f7-b223-4039-fde9-2964f3407426",
        "colab": {
          "base_uri": "https://localhost:8080/",
          "height": 403
        }
      },
      "source": [
        "#Elbow plot\n",
        "sse = []\n",
        "list_k = list(range(1, 10 ))\n",
        "\n",
        "for k in list_k:\n",
        "    km = KMeans(n_clusters=k)\n",
        "    km.fit(X_norm)\n",
        "    sse.append(km.inertia_)\n",
        "\n",
        "# Plot sse against k\n",
        "plt.figure(figsize=(6, 6))\n",
        "plt.plot(list_k, sse, '-o')\n",
        "plt.xlabel(r'Number of clusters *k*')\n",
        "\n",
        "plt.ylabel('Sum of squared distance')\n",
        "plt.title('Elbow Analysis: 4 Clusters Optimal');"
      ],
      "execution_count": 21,
      "outputs": [
        {
          "output_type": "display_data",
          "data": {
            "image/png": "[encoded data removed]",
            "text/plain": [
              "<Figure size 432x432 with 1 Axes>"
            ]
          },
          "metadata": {
            "tags": []
          }
        }
      ]
    },
    {
      "cell_type": "markdown",
      "metadata": {
        "id": "hl0XHACYoOt-",
        "colab_type": "text"
      },
      "source": [
        "#Forming Clusters"
      ]
    },
    {
      "cell_type": "markdown",
      "metadata": {
        "id": "dO3mRr9jdV3E",
        "colab_type": "text"
      },
      "source": [
        "Now I get why X_norm[:, 0 ] and X_norm[:, 1] were used. It was PCA one and PCA 2"
      ]
    },
    {
      "cell_type": "code",
      "metadata": {
        "id": "k83cV7FjRTkd",
        "colab_type": "code",
        "outputId": "efd44e66-6214-442f-d423-a0a716125cf1",
        "colab": {
          "base_uri": "https://localhost:8080/",
          "height": 468
        }
      },
      "source": [
        "target = sentences[1]\n",
        "data = np.array(word_counts.drop(['text_sentence','president', 'year', 'popular_vote', 'outcome'], 1))\n",
        "\n",
        "\n",
        "X_train, X_test, y_train, y_test = train_test_split(data, target, test_size = .25, random_state = 42 )\n",
        "\n",
        "X_norm = normalize(X_train)\n",
        "\n",
        "# Calculate predicted values.\n",
        "y_pred = KMeans(n_clusters=4, random_state=42).fit_predict(X_norm)\n",
        "\n",
        "# Plot the solution.\n",
        "plt.scatter(X_norm[:, 0], y_pred, c=y_pred)\n",
        "plt.show()\n",
        "\n",
        "# Check the solution against the data.\n",
        "# print('Comparing k-means clusters against the data:')\n",
        "print(pd.crosstab(y_train, y_pred))"
      ],
      "execution_count": 23,
      "outputs": [
        {
          "output_type": "display_data",
          "data": {
            "image/png": "[encoded data removed]",
            "text/plain": [
              "<Figure size 432x288 with 1 Axes>"
            ]
          },
          "metadata": {
            "tags": []
          }
        },
        {
          "output_type": "stream",
          "text": [
            "col_0          0   1   2   3\n",
            "1                           \n",
            "Buren         60  28  17  34\n",
            "Cleveland     44  69  17  59\n",
            "Clinton      102  92  89   9\n",
            "F_Roosevelt   54  33  28   9\n",
            "Jackson       67  36  23  26\n",
            "Johnson       36  45  18   2\n",
            "Lincoln       56  31  30  40\n",
            "Obama        155  75  80  13\n",
            "Reagan        94  51  64  15\n",
            "T_Roosevelt  173  60  65  94\n"
          ],
          "name": "stdout"
        }
      ]
    },
    {
      "cell_type": "code",
      "metadata": {
        "id": "lXV7mDWXoR3I",
        "colab_type": "code",
        "colab": {}
      },
      "source": [
        "\n",
        "len(X_norm[:, 1])\n",
        "y_pred"
      ],
      "execution_count": 0,
      "outputs": []
    },
    {
      "cell_type": "markdown",
      "metadata": {
        "id": "6hjZHEIiUOXP",
        "colab_type": "text"
      },
      "source": [
        "y_pred = KMeans(n_clusters = 4, random_state = 42).fit_predict(X_norm)\n",
        "\n",
        "plt.scatter(sentences[1], y_pred, c=y_pred)\n",
        "\n",
        "plt.title('Four Clusters Representing SOTU data')\n",
        "plt.show()\n",
        "print ('Stdev:', y_pred.std())\n",
        "pd.crosstab(y_train, y_pred)\n",
        "\n"
      ]
    },
    {
      "cell_type": "markdown",
      "metadata": {
        "id": "vyd8bxwxLa6r",
        "colab_type": "text"
      },
      "source": [
        "#tSNE"
      ]
    },
    {
      "cell_type": "code",
      "metadata": {
        "id": "tHN1-dhWLed7",
        "colab_type": "code",
        "colab": {}
      },
      "source": [
        "from sklearn.manifold import TSNE\n",
        "# sample data set\n",
        "\n",
        "X_embedded = TSNE(n_components=1).fit_transform(X_train)"
      ],
      "execution_count": 0,
      "outputs": []
    },
    {
      "cell_type": "code",
      "metadata": {
        "id": "CUlQDz7dPykX",
        "colab_type": "code",
        "colab": {}
      },
      "source": [
        "X_embedded.shape"
      ],
      "execution_count": 0,
      "outputs": []
    },
    {
      "cell_type": "code",
      "metadata": {
        "id": "f7_LIshMP5UW",
        "colab_type": "code",
        "colab": {}
      },
      "source": [
        "\n",
        "# #turn y_train into an array so it works in model\n",
        "#  from numpy import array\n",
        "# y_tr_SNE = array(y_train)\n",
        "# y_tr_SNE.reshape(1,-1)\n",
        "# y_tr_SNE.shape\n"
      ],
      "execution_count": 0,
      "outputs": []
    },
    {
      "cell_type": "code",
      "metadata": {
        "id": "Jyr-9OqfPJBp",
        "colab_type": "code",
        "outputId": "fb662c2f-4c0a-40b9-eaec-b7ab29e2df61",
        "colab": {
          "base_uri": "https://localhost:8080/",
          "height": 604
        }
      },
      "source": [
        "#tSNE clustering\n",
        "\n",
        "X_embedded = TSNE(n_components=2).fit_transform(X_train)\n",
        "plt.scatter(X_embedded,y_train)\n",
        "print(pd.crosstab(y_train, y_pred))"
      ],
      "execution_count": 35,
      "outputs": [
        {
          "output_type": "error",
          "ename": "ValueError",
          "evalue": "ignored",
          "traceback": [
            "\u001b[0;31m---------------------------------------------------------------------------\u001b[0m",
            "\u001b[0;31mValueError\u001b[0m                                Traceback (most recent call last)",
            "\u001b[0;32m<ipython-input-35-e119ab159283>\u001b[0m in \u001b[0;36m<module>\u001b[0;34m()\u001b[0m\n\u001b[1;32m      1\u001b[0m \u001b[0;34m\u001b[0m\u001b[0m\n\u001b[1;32m      2\u001b[0m \u001b[0mX_embedded\u001b[0m \u001b[0;34m=\u001b[0m \u001b[0mTSNE\u001b[0m\u001b[0;34m(\u001b[0m\u001b[0mn_components\u001b[0m\u001b[0;34m=\u001b[0m\u001b[0;36m2\u001b[0m\u001b[0;34m)\u001b[0m\u001b[0;34m.\u001b[0m\u001b[0mfit_transform\u001b[0m\u001b[0;34m(\u001b[0m\u001b[0mX_train\u001b[0m\u001b[0;34m)\u001b[0m\u001b[0;34m\u001b[0m\u001b[0;34m\u001b[0m\u001b[0m\n\u001b[0;32m----> 3\u001b[0;31m \u001b[0mplt\u001b[0m\u001b[0;34m.\u001b[0m\u001b[0mscatter\u001b[0m\u001b[0;34m(\u001b[0m\u001b[0mX_embedded\u001b[0m\u001b[0;34m,\u001b[0m\u001b[0my_train\u001b[0m\u001b[0;34m)\u001b[0m\u001b[0;34m\u001b[0m\u001b[0;34m\u001b[0m\u001b[0m\n\u001b[0m\u001b[1;32m      4\u001b[0m \u001b[0mprint\u001b[0m\u001b[0;34m(\u001b[0m\u001b[0mpd\u001b[0m\u001b[0;34m.\u001b[0m\u001b[0mcrosstab\u001b[0m\u001b[0;34m(\u001b[0m\u001b[0my_train\u001b[0m\u001b[0;34m,\u001b[0m \u001b[0my_pred\u001b[0m\u001b[0;34m)\u001b[0m\u001b[0;34m)\u001b[0m\u001b[0;34m\u001b[0m\u001b[0;34m\u001b[0m\u001b[0m\n",
            "\u001b[0;32m/usr/local/lib/python3.6/dist-packages/matplotlib/pyplot.py\u001b[0m in \u001b[0;36mscatter\u001b[0;34m(x, y, s, c, marker, cmap, norm, vmin, vmax, alpha, linewidths, verts, edgecolors, data, **kwargs)\u001b[0m\n\u001b[1;32m   2860\u001b[0m         \u001b[0mvmin\u001b[0m\u001b[0;34m=\u001b[0m\u001b[0mvmin\u001b[0m\u001b[0;34m,\u001b[0m \u001b[0mvmax\u001b[0m\u001b[0;34m=\u001b[0m\u001b[0mvmax\u001b[0m\u001b[0;34m,\u001b[0m \u001b[0malpha\u001b[0m\u001b[0;34m=\u001b[0m\u001b[0malpha\u001b[0m\u001b[0;34m,\u001b[0m \u001b[0mlinewidths\u001b[0m\u001b[0;34m=\u001b[0m\u001b[0mlinewidths\u001b[0m\u001b[0;34m,\u001b[0m\u001b[0;34m\u001b[0m\u001b[0;34m\u001b[0m\u001b[0m\n\u001b[1;32m   2861\u001b[0m         verts=verts, edgecolors=edgecolors, **({\"data\": data} if data\n\u001b[0;32m-> 2862\u001b[0;31m         is not None else {}), **kwargs)\n\u001b[0m\u001b[1;32m   2863\u001b[0m     \u001b[0msci\u001b[0m\u001b[0;34m(\u001b[0m\u001b[0m__ret\u001b[0m\u001b[0;34m)\u001b[0m\u001b[0;34m\u001b[0m\u001b[0;34m\u001b[0m\u001b[0m\n\u001b[1;32m   2864\u001b[0m     \u001b[0;32mreturn\u001b[0m \u001b[0m__ret\u001b[0m\u001b[0;34m\u001b[0m\u001b[0;34m\u001b[0m\u001b[0m\n",
            "\u001b[0;32m/usr/local/lib/python3.6/dist-packages/matplotlib/__init__.py\u001b[0m in \u001b[0;36minner\u001b[0;34m(ax, data, *args, **kwargs)\u001b[0m\n\u001b[1;32m   1808\u001b[0m                         \u001b[0;34m\"the Matplotlib list!)\"\u001b[0m \u001b[0;34m%\u001b[0m \u001b[0;34m(\u001b[0m\u001b[0mlabel_namer\u001b[0m\u001b[0;34m,\u001b[0m \u001b[0mfunc\u001b[0m\u001b[0;34m.\u001b[0m\u001b[0m__name__\u001b[0m\u001b[0;34m)\u001b[0m\u001b[0;34m,\u001b[0m\u001b[0;34m\u001b[0m\u001b[0;34m\u001b[0m\u001b[0m\n\u001b[1;32m   1809\u001b[0m                         RuntimeWarning, stacklevel=2)\n\u001b[0;32m-> 1810\u001b[0;31m             \u001b[0;32mreturn\u001b[0m \u001b[0mfunc\u001b[0m\u001b[0;34m(\u001b[0m\u001b[0max\u001b[0m\u001b[0;34m,\u001b[0m \u001b[0;34m*\u001b[0m\u001b[0margs\u001b[0m\u001b[0;34m,\u001b[0m \u001b[0;34m**\u001b[0m\u001b[0mkwargs\u001b[0m\u001b[0;34m)\u001b[0m\u001b[0;34m\u001b[0m\u001b[0;34m\u001b[0m\u001b[0m\n\u001b[0m\u001b[1;32m   1811\u001b[0m \u001b[0;34m\u001b[0m\u001b[0m\n\u001b[1;32m   1812\u001b[0m         inner.__doc__ = _add_data_doc(inner.__doc__,\n",
            "\u001b[0;32m/usr/local/lib/python3.6/dist-packages/matplotlib/axes/_axes.py\u001b[0m in \u001b[0;36mscatter\u001b[0;34m(self, x, y, s, c, marker, cmap, norm, vmin, vmax, alpha, linewidths, verts, edgecolors, **kwargs)\u001b[0m\n\u001b[1;32m   4180\u001b[0m         \u001b[0my\u001b[0m \u001b[0;34m=\u001b[0m \u001b[0mnp\u001b[0m\u001b[0;34m.\u001b[0m\u001b[0mma\u001b[0m\u001b[0;34m.\u001b[0m\u001b[0mravel\u001b[0m\u001b[0;34m(\u001b[0m\u001b[0my\u001b[0m\u001b[0;34m)\u001b[0m\u001b[0;34m\u001b[0m\u001b[0;34m\u001b[0m\u001b[0m\n\u001b[1;32m   4181\u001b[0m         \u001b[0;32mif\u001b[0m \u001b[0mx\u001b[0m\u001b[0;34m.\u001b[0m\u001b[0msize\u001b[0m \u001b[0;34m!=\u001b[0m \u001b[0my\u001b[0m\u001b[0;34m.\u001b[0m\u001b[0msize\u001b[0m\u001b[0;34m:\u001b[0m\u001b[0;34m\u001b[0m\u001b[0;34m\u001b[0m\u001b[0m\n\u001b[0;32m-> 4182\u001b[0;31m             \u001b[0;32mraise\u001b[0m \u001b[0mValueError\u001b[0m\u001b[0;34m(\u001b[0m\u001b[0;34m\"x and y must be the same size\"\u001b[0m\u001b[0;34m)\u001b[0m\u001b[0;34m\u001b[0m\u001b[0;34m\u001b[0m\u001b[0m\n\u001b[0m\u001b[1;32m   4183\u001b[0m \u001b[0;34m\u001b[0m\u001b[0m\n\u001b[1;32m   4184\u001b[0m         \u001b[0;32mif\u001b[0m \u001b[0ms\u001b[0m \u001b[0;32mis\u001b[0m \u001b[0;32mNone\u001b[0m\u001b[0;34m:\u001b[0m\u001b[0;34m\u001b[0m\u001b[0;34m\u001b[0m\u001b[0m\n",
            "\u001b[0;31mValueError\u001b[0m: x and y must be the same size"
          ]
        },
        {
          "output_type": "display_data",
          "data": {
            "image/png": "[encoded data removed]",
            "text/plain": [
              "<Figure size 432x288 with 1 Axes>"
            ]
          },
          "metadata": {
            "tags": []
          }
        }
      ]
    },
    {
      "cell_type": "code",
      "metadata": {
        "id": "SerxQzTMd8Km",
        "colab_type": "code",
        "colab": {}
      },
      "source": [
        "from __future__ import print_function\n",
        "import time\n",
        "import numpy as np\n",
        "import pandas as pd\n",
        "from sklearn.datasets import fetch_mldata\n",
        "from sklearn.decomposition import PCA\n",
        "from sklearn.manifold import TSNE\n",
        "%matplotlib inline\n",
        "import matplotlib.pyplot as plt\n",
        "from mpl_toolkits.mplot3d import Axes3D\n",
        "import seaborn as sns"
      ],
      "execution_count": 0,
      "outputs": []
    },
    {
      "cell_type": "code",
      "metadata": {
        "id": "Q2-kwhVdd9l_",
        "colab_type": "code",
        "outputId": "a8e64f4f-0b87-45dd-e332-18cfc8c068b3",
        "colab": {
          "base_uri": "https://localhost:8080/",
          "height": 33
        }
      },
      "source": [
        "\n",
        "X = data\n",
        "y = target\n",
        "print(X.shape, y.shape)\n"
      ],
      "execution_count": 27,
      "outputs": [
        {
          "output_type": "stream",
          "text": [
            "(2791, 5613) (2791,)\n"
          ],
          "name": "stdout"
        }
      ]
    },
    {
      "cell_type": "code",
      "metadata": {
        "id": "U7_go6qke6xF",
        "colab_type": "code",
        "outputId": "b47b4b0a-1fec-4892-d2ab-cd02e9068793",
        "colab": {
          "base_uri": "https://localhost:8080/",
          "height": 33
        }
      },
      "source": [
        "feat_cols = [ 'pixel'+str(i) for i in range(X.shape[1]) ]\n",
        "df = pd.DataFrame(X,columns=feat_cols)\n",
        "df['y'] = y\n",
        "df['label'] = df['y'].apply(lambda i: str(i))\n",
        "X, y = None, None\n",
        "print('Size of the dataframe: {}'.format(df.shape))\n",
        "\n"
      ],
      "execution_count": 28,
      "outputs": [
        {
          "output_type": "stream",
          "text": [
            "Size of the dataframe: (2791, 5615)\n"
          ],
          "name": "stdout"
        }
      ]
    },
    {
      "cell_type": "code",
      "metadata": {
        "id": "EW1dzSF1gEGj",
        "colab_type": "code",
        "colab": {}
      },
      "source": [
        "# For reproducability of the results\n",
        "np.random.seed(42)\n",
        "rndperm = np.random.permutation(df.shape[0])"
      ],
      "execution_count": 0,
      "outputs": []
    },
    {
      "cell_type": "code",
      "metadata": {
        "id": "c-Hk1JtwhkSQ",
        "colab_type": "code",
        "colab": {}
      },
      "source": [
        ""
      ],
      "execution_count": 0,
      "outputs": []
    },
    {
      "cell_type": "code",
      "metadata": {
        "id": "R6A9aqXegIrY",
        "colab_type": "code",
        "outputId": "54109f70-2567-4c10-c8f3-36391208f830",
        "colab": {
          "base_uri": "https://localhost:8080/",
          "height": 33
        }
      },
      "source": [
        "pca = PCA(n_components=3)\n",
        "pca_result = pca.fit_transform(df[feat_cols].values)\n",
        "df['pca-one'] = pca_result[:,0]\n",
        "df['pca-two'] = pca_result[:,1] \n",
        "df['pca-three'] = pca_result[:,2]\n",
        "print('Explained variation per principal component: {}'.format(pca.explained_variance_ratio_))\n"
      ],
      "execution_count": 30,
      "outputs": [
        {
          "output_type": "stream",
          "text": [
            "Explained variation per principal component: [0.0236662  0.02254403 0.01432163]\n"
          ],
          "name": "stdout"
        }
      ]
    },
    {
      "cell_type": "code",
      "metadata": {
        "id": "0yMNJ12ChuBD",
        "colab_type": "code",
        "outputId": "130233b0-589d-42bd-854f-b8e01367ee2c",
        "colab": {
          "base_uri": "https://localhost:8080/",
          "height": 625
        }
      },
      "source": [
        "plt.figure(figsize=(16,10))\n",
        "sns.scatterplot(\n",
        "    x=\"pca-one\", y=\"pca-two\",\n",
        "    hue=\"y\",\n",
        "    palette=sns.color_palette(\"hls\", 10),\n",
        "    data=df.loc[rndperm,:],\n",
        "    legend=\"full\",\n",
        "    alpha=1\n",
        ")"
      ],
      "execution_count": 31,
      "outputs": [
        {
          "output_type": "execute_result",
          "data": {
            "text/plain": [
              "<matplotlib.axes._subplots.AxesSubplot at 0x7f0bddf34128>"
            ]
          },
          "metadata": {
            "tags": []
          },
          "execution_count": 31
        },
        {
          "output_type": "display_data",
          "data": {
            "image/png": "[encoded data removed]",
            "text/plain": [
              "<Figure size 1152x720 with 1 Axes>"
            ]
          },
          "metadata": {
            "tags": []
          }
        }
      ]
    },
    {
      "cell_type": "code",
      "metadata": {
        "id": "m5nyQbEBifff",
        "colab_type": "code",
        "outputId": "b1e78030-88dc-4ab7-9596-edbe3bdc2ab5",
        "colab": {
          "base_uri": "https://localhost:8080/",
          "height": 33
        }
      },
      "source": [
        "N = 10000\n",
        "df_subset = df.loc[rndperm[:N],:].copy()\n",
        "data_subset = df_subset[feat_cols].values\n",
        "pca = PCA(n_components=3)\n",
        "pca_result = pca.fit_transform(data_subset)\n",
        "df_subset['pca-one'] = pca_result[:,0]\n",
        "df_subset['pca-two'] = pca_result[:,1] \n",
        "df_subset['pca-three'] = pca_result[:,2]\n",
        "print('Explained variation per principal component: {}'.format(pca.explained_variance_ratio_))\n"
      ],
      "execution_count": 32,
      "outputs": [
        {
          "output_type": "stream",
          "text": [
            "Explained variation per principal component: [0.0236662  0.02254403 0.01432162]\n"
          ],
          "name": "stdout"
        }
      ]
    },
    {
      "cell_type": "code",
      "metadata": {
        "id": "JhOve1_Lh0t9",
        "colab_type": "code",
        "outputId": "172f54fb-7dd9-4739-b4ae-0e0b3e6d1cb4",
        "colab": {
          "base_uri": "https://localhost:8080/",
          "height": 167
        }
      },
      "source": [
        "\n",
        "tsne = TSNE(n_components=2, verbose=1, perplexity=40, n_iter=300)\n",
        "tsne_results = tsne.fit_transform(data_subset)\n"
      ],
      "execution_count": 33,
      "outputs": [
        {
          "output_type": "stream",
          "text": [
            "[t-SNE] Computing 121 nearest neighbors...\n",
            "[t-SNE] Indexed 2791 samples in 1.440s...\n",
            "[t-SNE] Computed neighbors for 2791 samples in 120.195s...\n",
            "[t-SNE] Computed conditional probabilities for sample 1000 / 2791\n",
            "[t-SNE] Computed conditional probabilities for sample 2000 / 2791\n",
            "[t-SNE] Computed conditional probabilities for sample 2791 / 2791\n",
            "[t-SNE] Mean sigma: 0.799161\n",
            "[t-SNE] KL divergence after 250 iterations with early exaggeration: 149.975082\n",
            "[t-SNE] KL divergence after 300 iterations: 6.183522\n"
          ],
          "name": "stdout"
        }
      ]
    },
    {
      "cell_type": "code",
      "metadata": {
        "id": "WPsjBKjNiuL_",
        "colab_type": "code",
        "outputId": "4c259760-039d-4986-dc5e-63d645b302d0",
        "colab": {
          "base_uri": "https://localhost:8080/",
          "height": 625
        }
      },
      "source": [
        "df_subset['tsne-2d-one'] = tsne_results[:,0]\n",
        "df_subset['tsne-2d-two'] = tsne_results[:,1]\n",
        "plt.figure(figsize=(16,10))\n",
        "sns.scatterplot(\n",
        "    x=\"tsne-2d-one\", y=\"tsne-2d-two\",\n",
        "    hue=\"y\",\n",
        "    palette=sns.color_palette(\"hls\", 10),\n",
        "    data=df_subset,\n",
        "    legend=\"full\",\n",
        "    alpha=1\n",
        ")"
      ],
      "execution_count": 34,
      "outputs": [
        {
          "output_type": "execute_result",
          "data": {
            "text/plain": [
              "<matplotlib.axes._subplots.AxesSubplot at 0x7f0bddf5f438>"
            ]
          },
          "metadata": {
            "tags": []
          },
          "execution_count": 34
        },
        {
          "output_type": "display_data",
          "data": {
            "image/png": "[encoded data removed]",
            "text/plain": [
              "<Figure size 1152x720 with 1 Axes>"
            ]
          },
          "metadata": {
            "tags": []
          }
        }
      ]
    },
    {
      "cell_type": "code",
      "metadata": {
        "id": "P-covbT9i1Rp",
        "colab_type": "code",
        "outputId": "230df70c-bc25-489e-bb15-07a4771d78dd",
        "colab": {
          "base_uri": "https://localhost:8080/",
          "height": 462
        }
      },
      "source": [
        "plt.figure(figsize=(16,7))\n",
        "ax1 = plt.subplot(1, 2, 1)\n",
        "sns.scatterplot(\n",
        "    x=\"pca-one\", y=\"pca-two\",\n",
        "    hue=\"y\",\n",
        "    palette=sns.color_palette(\"hls\", 10),\n",
        "    data=df_subset,\n",
        "    legend=\"full\",\n",
        "    ax=ax1\n",
        ")\n",
        "ax2 = plt.subplot(1, 2, 2)\n",
        "sns.scatterplot(\n",
        "    x=\"tsne-2d-one\", y=\"tsne-2d-two\",\n",
        "    hue=\"y\",\n",
        "    palette=sns.color_palette(\"hls\", 10),\n",
        "    data=df_subset,\n",
        "    legend=\"full\",\n",
        "    ax=ax2)"
      ],
      "execution_count": 36,
      "outputs": [
        {
          "output_type": "execute_result",
          "data": {
            "text/plain": [
              "<matplotlib.axes._subplots.AxesSubplot at 0x7f0bde0b1080>"
            ]
          },
          "metadata": {
            "tags": []
          },
          "execution_count": 36
        },
        {
          "output_type": "display_data",
          "data": {
            "image/png": "[encoded data removed]",
            "text/plain": [
              "<Figure size 1152x504 with 2 Axes>"
            ]
          },
          "metadata": {
            "tags": []
          }
        }
      ]
    },
    {
      "cell_type": "code",
      "metadata": {
        "id": "ZL_iZNfIi9fI",
        "colab_type": "code",
        "outputId": "1ae8a057-a38e-4f2c-cf74-15ec8a7a9ece",
        "colab": {
          "base_uri": "https://localhost:8080/",
          "height": 33
        }
      },
      "source": [
        "pca_50 = PCA(n_components=50)\n",
        "pca_result_50 = pca_50.fit_transform(data_subset)\n",
        "print('Cumulative explained variation for 50 principal components: {}'.format(np.sum(pca_50.explained_variance_ratio_)))"
      ],
      "execution_count": 37,
      "outputs": [
        {
          "output_type": "stream",
          "text": [
            "Cumulative explained variation for 50 principal components: 0.2613522758431942\n"
          ],
          "name": "stdout"
        }
      ]
    },
    {
      "cell_type": "markdown",
      "metadata": {
        "id": "_VSCYYmwEn7I",
        "colab_type": "text"
      },
      "source": [
        "#Cluster with PCA"
      ]
    },
    {
      "cell_type": "code",
      "metadata": {
        "id": "fOIRuauEDPbz",
        "colab_type": "code",
        "outputId": "144981bb-0be5-4325-8448-bfcfaff59038",
        "colab": {
          "base_uri": "https://localhost:8080/",
          "height": 497
        }
      },
      "source": [
        "target = sentences[1]\n",
        "data = np.array(word_counts.drop(['text_sentence','president', 'year', 'popular_vote', 'outcome'], 1))\n",
        "#data = np.array(word_counts.drop(['text_sentence','president'], 1))\n",
        "\n",
        "X_train, X_test, y_train, y_test = train_test_split(data, target, test_size = .25, random_state = 42 )\n",
        "\n",
        "X_norm = normalize(X_train)\n",
        "\n",
        "# Reduce it to two components.\n",
        "X_pca = PCA(2).fit_transform(X_norm)\n",
        "\n",
        "# Calculate predicted values.\n",
        "y_pred = KMeans(n_clusters=4, random_state=42).fit_predict(X_pca)\n",
        "\n",
        "# Plot the solution.\n",
        "plt.scatter(X_pca[:, 0], X_pca[:,1], c=y_pred)\n",
        "plt.title('Four Clusters: Optimal According to Elbow Method')\n",
        "plt.show()\n",
        "print ('Stdev:', y_pred.std())\n",
        "print(pd.crosstab(y_train, y_pred))\n"
      ],
      "execution_count": 39,
      "outputs": [
        {
          "output_type": "display_data",
          "data": {
            "image/png": "[encoded data removed]",
            "text/plain": [
              "<Figure size 432x288 with 1 Axes>"
            ]
          },
          "metadata": {
            "tags": []
          }
        },
        {
          "output_type": "stream",
          "text": [
            "Stdev: 1.1817450583856137\n",
            "col_0          0   1   2   3\n",
            "1                           \n",
            "Buren         86  18  15  20\n",
            "Cleveland     72  16  24  77\n",
            "Clinton      110  87  37  58\n",
            "F_Roosevelt   60  27  16  21\n",
            "Jackson       82  22  17  31\n",
            "Johnson       35  19  21  26\n",
            "Lincoln       80  30  15  32\n",
            "Obama        165  78  25  55\n",
            "Reagan       106  63  22  33\n",
            "T_Roosevelt  241  64  22  65\n"
          ],
          "name": "stdout"
        }
      ]
    },
    {
      "cell_type": "markdown",
      "metadata": {
        "id": "QfzmvB2TRJZq",
        "colab_type": "text"
      },
      "source": [
        "#MeanShift"
      ]
    },
    {
      "cell_type": "code",
      "metadata": {
        "id": "ZEGhw0snROuM",
        "colab_type": "code",
        "colab": {
          "base_uri": "https://localhost:8080/",
          "height": 502
        },
        "outputId": "cc5c4181-f6cc-4e98-9319-467f17808ca1"
      },
      "source": [
        "from sklearn.cluster import MeanShift, estimate_bandwidth\n",
        "\n",
        "# Here we set the bandwidth. This function automatically derives a bandwidth\n",
        "# number based on an inspection of the distances among points in the data.\n",
        "bandwidth = estimate_bandwidth(X_train, quantile=0.2, n_samples=500)\n",
        "\n",
        "# Declare and fit the model.\n",
        "ms = MeanShift(bandwidth=bandwidth, bin_seeding=True)\n",
        "ms.fit(X_train)\n",
        "\n",
        "# Extract cluster assignments for each data point.\n",
        "labels = ms.labels_\n",
        "\n",
        "# Coordinates of the cluster centers.\n",
        "cluster_centers = ms.cluster_centers_\n",
        "\n",
        "# Count our clusters.\n",
        "n_clusters_ = len(np.unique(labels))\n",
        "\n",
        "print(\"Number of estimated clusters: {}\".format(n_clusters_))\n",
        "\n",
        "plt.scatter(X_train[:, 0], X_train[:, 1], c=labels)\n",
        "plt.show()\n",
        "\n",
        "print('Comparing the assigned categories to the ones in the data:')\n",
        "print(pd.crosstab(y_train, labels))\n"
      ],
      "execution_count": 40,
      "outputs": [
        {
          "output_type": "stream",
          "text": [
            "Number of estimated clusters: 2\n"
          ],
          "name": "stdout"
        },
        {
          "output_type": "display_data",
          "data": {
            "image/png": "[encoded data removed]",
            "text/plain": [
              "<Figure size 432x288 with 1 Axes>"
            ]
          },
          "metadata": {
            "tags": []
          }
        },
        {
          "output_type": "stream",
          "text": [
            "Comparing the assigned categories to the ones in the data:\n",
            "col_0          0  1\n",
            "1                  \n",
            "Buren        139  0\n",
            "Cleveland    189  0\n",
            "Clinton      292  0\n",
            "F_Roosevelt  124  0\n",
            "Jackson      152  0\n",
            "Johnson      100  1\n",
            "Lincoln      156  1\n",
            "Obama        323  0\n",
            "Reagan       224  0\n",
            "T_Roosevelt  392  0\n"
          ],
          "name": "stdout"
        }
      ]
    },
    {
      "cell_type": "markdown",
      "metadata": {
        "id": "_oCNgKufKeko",
        "colab_type": "text"
      },
      "source": [
        "# Random Forest"
      ]
    },
    {
      "cell_type": "code",
      "metadata": {
        "id": "OsQxKz34WSuV",
        "colab_type": "code",
        "colab": {}
      },
      "source": [
        ""
      ],
      "execution_count": 0,
      "outputs": []
    },
    {
      "cell_type": "code",
      "metadata": {
        "id": "JMHPHgBok02E",
        "colab_type": "code",
        "outputId": "87886a1d-0dfd-45ec-87f1-dd60853735bd",
        "colab": {
          "base_uri": "https://localhost:8080/",
          "height": 402
        }
      },
      "source": [
        "from sklearn import ensemble\n",
        "from sklearn.model_selection import train_test_split\n",
        "\n",
        "rfc = ensemble.RandomForestClassifier()\n",
        "\n",
        "train_rfc = rfc.fit(X_train, y_train)\n",
        "\n",
        "print('Training set score:', rfc.score(X_train, y_train))\n",
        "print('\\nTest set score:', rfc.score(X_test, y_test))"
      ],
      "execution_count": 42,
      "outputs": [
        {
          "output_type": "stream",
          "text": [
            "/usr/local/lib/python3.6/dist-packages/sklearn/ensemble/forest.py:245: FutureWarning: The default value of n_estimators will change from 10 in version 0.20 to 100 in 0.22.\n",
            "  \"10 in version 0.20 to 100 in 0.22.\", FutureWarning)\n"
          ],
          "name": "stderr"
        },
        {
          "output_type": "error",
          "ename": "ValueError",
          "evalue": "ignored",
          "traceback": [
            "\u001b[0;31m---------------------------------------------------------------------------\u001b[0m",
            "\u001b[0;31mValueError\u001b[0m                                Traceback (most recent call last)",
            "\u001b[0;32m<ipython-input-42-4755b3871fa3>\u001b[0m in \u001b[0;36m<module>\u001b[0;34m()\u001b[0m\n\u001b[1;32m      4\u001b[0m \u001b[0mrfc\u001b[0m \u001b[0;34m=\u001b[0m \u001b[0mensemble\u001b[0m\u001b[0;34m.\u001b[0m\u001b[0mRandomForestClassifier\u001b[0m\u001b[0;34m(\u001b[0m\u001b[0;34m)\u001b[0m\u001b[0;34m\u001b[0m\u001b[0;34m\u001b[0m\u001b[0m\n\u001b[1;32m      5\u001b[0m \u001b[0;34m\u001b[0m\u001b[0m\n\u001b[0;32m----> 6\u001b[0;31m \u001b[0mtrain\u001b[0m \u001b[0;34m=\u001b[0m \u001b[0mrfc\u001b[0m\u001b[0;34m.\u001b[0m\u001b[0mfit\u001b[0m\u001b[0;34m(\u001b[0m\u001b[0mX_train\u001b[0m\u001b[0;34m,\u001b[0m \u001b[0my_train\u001b[0m\u001b[0;34m)\u001b[0m\u001b[0;34m\u001b[0m\u001b[0;34m\u001b[0m\u001b[0m\n\u001b[0m\u001b[1;32m      7\u001b[0m \u001b[0;34m\u001b[0m\u001b[0m\n\u001b[1;32m      8\u001b[0m \u001b[0mprint\u001b[0m\u001b[0;34m(\u001b[0m\u001b[0;34m'Training set score:'\u001b[0m\u001b[0;34m,\u001b[0m \u001b[0mrfc\u001b[0m\u001b[0;34m.\u001b[0m\u001b[0mscore\u001b[0m\u001b[0;34m(\u001b[0m\u001b[0mX_train\u001b[0m\u001b[0;34m,\u001b[0m \u001b[0my_train\u001b[0m\u001b[0;34m)\u001b[0m\u001b[0;34m)\u001b[0m\u001b[0;34m\u001b[0m\u001b[0;34m\u001b[0m\u001b[0m\n",
            "\u001b[0;32m/usr/local/lib/python3.6/dist-packages/sklearn/ensemble/forest.py\u001b[0m in \u001b[0;36mfit\u001b[0;34m(self, X, y, sample_weight)\u001b[0m\n\u001b[1;32m    247\u001b[0m \u001b[0;34m\u001b[0m\u001b[0m\n\u001b[1;32m    248\u001b[0m         \u001b[0;31m# Validate or convert input data\u001b[0m\u001b[0;34m\u001b[0m\u001b[0;34m\u001b[0m\u001b[0;34m\u001b[0m\u001b[0m\n\u001b[0;32m--> 249\u001b[0;31m         \u001b[0mX\u001b[0m \u001b[0;34m=\u001b[0m \u001b[0mcheck_array\u001b[0m\u001b[0;34m(\u001b[0m\u001b[0mX\u001b[0m\u001b[0;34m,\u001b[0m \u001b[0maccept_sparse\u001b[0m\u001b[0;34m=\u001b[0m\u001b[0;34m\"csc\"\u001b[0m\u001b[0;34m,\u001b[0m \u001b[0mdtype\u001b[0m\u001b[0;34m=\u001b[0m\u001b[0mDTYPE\u001b[0m\u001b[0;34m)\u001b[0m\u001b[0;34m\u001b[0m\u001b[0;34m\u001b[0m\u001b[0m\n\u001b[0m\u001b[1;32m    250\u001b[0m         \u001b[0my\u001b[0m \u001b[0;34m=\u001b[0m \u001b[0mcheck_array\u001b[0m\u001b[0;34m(\u001b[0m\u001b[0my\u001b[0m\u001b[0;34m,\u001b[0m \u001b[0maccept_sparse\u001b[0m\u001b[0;34m=\u001b[0m\u001b[0;34m'csc'\u001b[0m\u001b[0;34m,\u001b[0m \u001b[0mensure_2d\u001b[0m\u001b[0;34m=\u001b[0m\u001b[0;32mFalse\u001b[0m\u001b[0;34m,\u001b[0m \u001b[0mdtype\u001b[0m\u001b[0;34m=\u001b[0m\u001b[0;32mNone\u001b[0m\u001b[0;34m)\u001b[0m\u001b[0;34m\u001b[0m\u001b[0;34m\u001b[0m\u001b[0m\n\u001b[1;32m    251\u001b[0m         \u001b[0;32mif\u001b[0m \u001b[0msample_weight\u001b[0m \u001b[0;32mis\u001b[0m \u001b[0;32mnot\u001b[0m \u001b[0;32mNone\u001b[0m\u001b[0;34m:\u001b[0m\u001b[0;34m\u001b[0m\u001b[0;34m\u001b[0m\u001b[0m\n",
            "\u001b[0;32m/usr/local/lib/python3.6/dist-packages/sklearn/utils/validation.py\u001b[0m in \u001b[0;36mcheck_array\u001b[0;34m(array, accept_sparse, accept_large_sparse, dtype, order, copy, force_all_finite, ensure_2d, allow_nd, ensure_min_samples, ensure_min_features, warn_on_dtype, estimator)\u001b[0m\n\u001b[1;32m    494\u001b[0m             \u001b[0;32mtry\u001b[0m\u001b[0;34m:\u001b[0m\u001b[0;34m\u001b[0m\u001b[0;34m\u001b[0m\u001b[0m\n\u001b[1;32m    495\u001b[0m                 \u001b[0mwarnings\u001b[0m\u001b[0;34m.\u001b[0m\u001b[0msimplefilter\u001b[0m\u001b[0;34m(\u001b[0m\u001b[0;34m'error'\u001b[0m\u001b[0;34m,\u001b[0m \u001b[0mComplexWarning\u001b[0m\u001b[0;34m)\u001b[0m\u001b[0;34m\u001b[0m\u001b[0;34m\u001b[0m\u001b[0m\n\u001b[0;32m--> 496\u001b[0;31m                 \u001b[0marray\u001b[0m \u001b[0;34m=\u001b[0m \u001b[0mnp\u001b[0m\u001b[0;34m.\u001b[0m\u001b[0masarray\u001b[0m\u001b[0;34m(\u001b[0m\u001b[0marray\u001b[0m\u001b[0;34m,\u001b[0m \u001b[0mdtype\u001b[0m\u001b[0;34m=\u001b[0m\u001b[0mdtype\u001b[0m\u001b[0;34m,\u001b[0m \u001b[0morder\u001b[0m\u001b[0;34m=\u001b[0m\u001b[0morder\u001b[0m\u001b[0;34m)\u001b[0m\u001b[0;34m\u001b[0m\u001b[0;34m\u001b[0m\u001b[0m\n\u001b[0m\u001b[1;32m    497\u001b[0m             \u001b[0;32mexcept\u001b[0m \u001b[0mComplexWarning\u001b[0m\u001b[0;34m:\u001b[0m\u001b[0;34m\u001b[0m\u001b[0;34m\u001b[0m\u001b[0m\n\u001b[1;32m    498\u001b[0m                 raise ValueError(\"Complex data not supported\\n\"\n",
            "\u001b[0;32m/usr/local/lib/python3.6/dist-packages/numpy/core/numeric.py\u001b[0m in \u001b[0;36masarray\u001b[0;34m(a, dtype, order)\u001b[0m\n\u001b[1;32m    536\u001b[0m \u001b[0;34m\u001b[0m\u001b[0m\n\u001b[1;32m    537\u001b[0m     \"\"\"\n\u001b[0;32m--> 538\u001b[0;31m     \u001b[0;32mreturn\u001b[0m \u001b[0marray\u001b[0m\u001b[0;34m(\u001b[0m\u001b[0ma\u001b[0m\u001b[0;34m,\u001b[0m \u001b[0mdtype\u001b[0m\u001b[0;34m,\u001b[0m \u001b[0mcopy\u001b[0m\u001b[0;34m=\u001b[0m\u001b[0;32mFalse\u001b[0m\u001b[0;34m,\u001b[0m \u001b[0morder\u001b[0m\u001b[0;34m=\u001b[0m\u001b[0morder\u001b[0m\u001b[0;34m)\u001b[0m\u001b[0;34m\u001b[0m\u001b[0;34m\u001b[0m\u001b[0m\n\u001b[0m\u001b[1;32m    539\u001b[0m \u001b[0;34m\u001b[0m\u001b[0m\n\u001b[1;32m    540\u001b[0m \u001b[0;34m\u001b[0m\u001b[0m\n",
            "\u001b[0;31mValueError\u001b[0m: setting an array element with a sequence."
          ]
        }
      ]
    },
    {
      "cell_type": "markdown",
      "metadata": {
        "id": "zzM80T_CY0cs",
        "colab_type": "text"
      },
      "source": [
        "add feature selection"
      ]
    },
    {
      "cell_type": "code",
      "metadata": {
        "id": "mORw7ckhVcAI",
        "colab_type": "code",
        "colab": {}
      },
      "source": [
        ""
      ],
      "execution_count": 0,
      "outputs": []
    },
    {
      "cell_type": "markdown",
      "metadata": {
        "id": "ZMg5TxEyKtLy",
        "colab_type": "text"
      },
      "source": [
        "#Trying Log Regression with Bag of Words"
      ]
    },
    {
      "cell_type": "code",
      "metadata": {
        "id": "YonM2iqKoSeY",
        "colab_type": "code",
        "colab": {}
      },
      "source": [
        "from sklearn.linear_model import LogisticRegression\n",
        "\n",
        "lr = LogisticRegression(penalty='l2') # No need to specify l2 as it's the default. But we put it for demonstration.\n",
        "train = lr.fit(X_train, y_train)\n",
        "print(X_train.shape, y_train.shape)\n",
        "print('Training set score:', lr.score(X_train, y_train))\n",
        "print('\\nTest set score:', lr.score(X_test, y_test))"
      ],
      "execution_count": 0,
      "outputs": []
    },
    {
      "cell_type": "code",
      "metadata": {
        "id": "-36kPnPKNvpk",
        "colab_type": "code",
        "colab": {}
      },
      "source": [
        "rfc = ensemble.RandomForestClassifier()\n",
        "\n",
        "train = rfc.fit(X_train, y_train)\n",
        "\n",
        "lr = LogisticRegression(penalty='l2') # No need to specify l2 as it's the default. But we put it for demonstration.\n",
        "train = lr.fit(X_train, y_train)\n",
        "print(X_train.shape, y_train.shape)\n",
        "print('Training set score:', lr.score(X_train, y_train))\n",
        "print('\\nTest set score:', lr.score(X_test, y_test))"
      ],
      "execution_count": 0,
      "outputs": []
    },
    {
      "cell_type": "code",
      "metadata": {
        "id": "1dYGFF2YY-3W",
        "colab_type": "code",
        "colab": {}
      },
      "source": [
        "#Add XGBoost\n",
        "#LightGBM"
      ],
      "execution_count": 0,
      "outputs": []
    },
    {
      "cell_type": "markdown",
      "metadata": {
        "id": "brR_hu7uLAae",
        "colab_type": "text"
      },
      "source": [
        "#Gradient Boost"
      ]
    },
    {
      "cell_type": "code",
      "metadata": {
        "id": "bs_AKcrpK_Dv",
        "colab_type": "code",
        "colab": {}
      },
      "source": [
        "clf = ensemble.GradientBoostingClassifier()\n",
        "train = clf.fit(X_train, y_train)\n",
        "\n",
        "print('Training set score:', clf.score(X_train, y_train))\n",
        "print('\\nTest set score:', clf.score(X_test, y_test))"
      ],
      "execution_count": 0,
      "outputs": []
    },
    {
      "cell_type": "markdown",
      "metadata": {
        "id": "k1I1gSnoOKfB",
        "colab_type": "text"
      },
      "source": [
        "#Unsupervised model"
      ]
    },
    {
      "cell_type": "code",
      "metadata": {
        "id": "uyyeL88ImkhW",
        "colab_type": "code",
        "colab": {}
      },
      "source": [
        "from sklearn.feature_extraction.text import TfidfVectorizer\n",
        "from sklearn.model_selection import train_test_split\n",
        "\n",
        "X_train, X_test = train_test_split(sentences, test_size=0.4, random_state=0)\n",
        "\n",
        "vectorizer = TfidfVectorizer(max_df=0.1, # drop words that occur in more than .1 the paragraphs\n",
        "                             min_df=2, # only use words that appear at least twice\n",
        "                             stop_words='english', \n",
        "                             lowercase=True, #convert everything to lower case (since Alice in Wonderland has the HABIT of CAPITALIZING WORDS for EMPHASIS)\n",
        "                             use_idf=True,#we definitely want to use inverse document frequencies in our weighting\n",
        "                             norm=u'l2', #Applies a correction factor so that longer paragraphs and shorter paragraphs get treated equally\n",
        "                             smooth_idf=True #Adds 1 to all document frequencies, as if an extra document existed that used every word once.  Prevents divide-by-zero errors\n",
        "                            )\n",
        "\n",
        "\n",
        "\n"
      ],
      "execution_count": 0,
      "outputs": []
    },
    {
      "cell_type": "code",
      "metadata": {
        "id": "wiXHv6u2ag5P",
        "colab_type": "code",
        "colab": {}
      },
      "source": [
        "for each in sentences:\n",
        "  str(each)"
      ],
      "execution_count": 0,
      "outputs": []
    },
    {
      "cell_type": "code",
      "metadata": {
        "id": "eJ-wyAMFmkhc",
        "colab_type": "code",
        "colab": {}
      },
      "source": [
        "\n",
        "#Applying the vectorizer\n",
        "pres_vec =vectorizer.fit_transform(sentences[0])\n",
        "print(\"Number of features: %d\" % pres_vec.get_shape()[1])\n",
        "\n",
        "#splitting into training and test sets\n",
        "X_train_vec, X_test_vec= train_test_split(pres_vec, test_size=0.4, random_state=0)\n",
        "\n",
        "\n",
        "#Reshapes the vectorizer output into something people can read\n",
        "X_train_vec_read = X_train_vec.tocsr()\n",
        "\n",
        "#number of sentences\n",
        "n = X_train_vec_read.shape[0]\n",
        "#A list of dictionaries, one per sentence\n",
        "tfidf_bysent = [{} for _ in range(0,n)]\n",
        "#List of features\n",
        "terms = vectorizer.get_feature_names()\n",
        "#for each sentence, lists the feature words and their tf-idf scores\n",
        "for i, j in zip(*X_train_vec_read.nonzero()):\n",
        "    tfidf_bysent[i][terms[j]] = X_train_vec_read[i, j]\n",
        "\n",
        "#Keep in mind that the log base 2 of 1 is 0, so a tf-idf score of 0 indicates that the word was present once in that sentence.\n",
        "print(n)\n",
        "print(tfidf_bysent)\n"
      ],
      "execution_count": 0,
      "outputs": []
    },
    {
      "cell_type": "code",
      "metadata": {
        "id": "tYB8pBhKmkhh",
        "colab_type": "code",
        "colab": {}
      },
      "source": [
        "from sklearn.decomposition import TruncatedSVD\n",
        "from sklearn.pipeline import make_pipeline\n",
        "from sklearn.preprocessing import Normalizer\n",
        "\n",
        "#Our SVD data reducer.  We are going to reduce the feature space from 1379 to 130.\n",
        "svd= TruncatedSVD(130)\n",
        "lsa = make_pipeline(svd, Normalizer(copy=False))\n",
        "# Run SVD on the training data, then project the training data.\n",
        "X_train_lsa = lsa.fit_transform(X_train_vec)\n",
        "\n",
        "variance_explained=svd.explained_variance_ratio_\n",
        "total_variance = variance_explained.sum()\n",
        "print(\"Percent variance captured by all components:\",total_variance*100)\n",
        "\n",
        "#Looking at what sorts of sentences our solution considers similar, for the first five identified topics\n",
        "sents_by_component=pd.DataFrame(X_train_lsa,index=X_train)\n",
        "for i in range(5):\n",
        "    print('Component {}:'.format(i))\n",
        "    print(sents_by_component.loc[:,i].sort_values(ascending=False)[0:10])z\n",
        "    \n",
        "\n",
        "\n"
      ],
      "execution_count": 0,
      "outputs": []
    },
    {
      "cell_type": "code",
      "metadata": {
        "id": "PXaOWW4Xmkhl",
        "colab_type": "code",
        "colab": {}
      },
      "source": [
        "# Compute document similarity using LSA components\n",
        "similarity = np.asarray(np.asmatrix(X_train_lsa) * np.asmatrix(X_train_lsa).T)\n",
        "#Only taking the first 10 sentences\n",
        "sim_matrix=pd.DataFrame(similarity,index=X_train).iloc[0:10,0:10]\n",
        "#Making a plot\n",
        "ax = sns.heatmap(sim_matrix,yticklabels=range(10))\n",
        "plt.show()\n",
        "\n",
        "#Generating a key for the plot.\n",
        "print('Key:')\n",
        "for i in range(10):\n",
        "    print(i,sim_matrix.index[i])"
      ],
      "execution_count": 0,
      "outputs": []
    },
    {
      "cell_type": "code",
      "metadata": {
        "id": "Qf3G5s-Bkbok",
        "colab_type": "code",
        "colab": {}
      },
      "source": [
        ""
      ],
      "execution_count": 0,
      "outputs": []
    },
    {
      "cell_type": "code",
      "metadata": {
        "id": "haXuBl9HdGxO",
        "colab_type": "code",
        "colab": {}
      },
      "source": [
        ""
      ],
      "execution_count": 0,
      "outputs": []
    }
  ]
}